{
 "cells": [
  {
   "cell_type": "markdown",
   "metadata": {},
   "source": [
    "data source: https://www.rankedchoicevoting.org/data_clearinghouse\n",
    "\n",
    "RCV definition: https://ballotpedia.org/Ranked-choice_voting_(RCV)\n",
    "\n",
    "Additional analysis: \n",
    "* http://archive3.fairvote.org/press/san-leandro-facts/\n",
    "* https://laurendo.wordpress.com/2010/11/24/running-the-numbers/\n",
    "* http://www.acgov.org/rov/rcv/results/index.htm"
   ]
  },
  {
   "cell_type": "markdown",
   "metadata": {},
   "source": [
    "Objective for this notebook: separate the elections into the following categories:\n",
    "\n",
    "1. Leading candidate in the first round has greater than 50% first choice votes\n",
    "1. Leading candidate in the first round has between 45-50% first choice votes\n",
    "1. Leading candidate in the first round has less than 45% of first choice votes "
   ]
  },
  {
   "cell_type": "code",
   "execution_count": 1,
   "metadata": {},
   "outputs": [
    {
     "name": "stdout",
     "output_type": "stream",
     "text": [
      "pandas 0.23.4\n"
     ]
    }
   ],
   "source": [
    "import glob\n",
    "import pandas\n",
    "print('pandas',pandas.__version__)"
   ]
  },
  {
   "cell_type": "markdown",
   "metadata": {},
   "source": [
    "The Google drive contains folders and subfolders, with .txt files being the desired content \n",
    "# First attempt to get data: download individual txt file from Google drive\n",
    "\n",
    "This approach works, but does not scale well. The manual labor of getting the relevant links would be tedious. Also the filename is not preserved"
   ]
  },
  {
   "cell_type": "code",
   "execution_count": 2,
   "metadata": {},
   "outputs": [
    {
     "name": "stdout",
     "output_type": "stream",
     "text": [
      "Requirement already satisfied: googledrivedownloader in /opt/conda/lib/python3.6/site-packages (0.4)\n"
     ]
    }
   ],
   "source": [
    "# https://stackoverflow.com/questions/38511444/python-download-files-from-google-drive-using-url\n",
    "# https://github.com/ndrplz/google-drive-downloader\n",
    "!pip install googledrivedownloader"
   ]
  },
  {
   "cell_type": "code",
   "execution_count": 3,
   "metadata": {},
   "outputs": [],
   "source": [
    "from google_drive_downloader import GoogleDriveDownloader as gdd"
   ]
  },
  {
   "cell_type": "code",
   "execution_count": 4,
   "metadata": {},
   "outputs": [],
   "source": [
    "gdd.download_file_from_google_drive(file_id='16lMt83ZaI_iLnyr1_R2fx43BimLwi01B',\n",
    "                                    dest_path='./file.txt')"
   ]
  },
  {
   "cell_type": "markdown",
   "metadata": {},
   "source": [
    "Rather than download one file, I got a zip \n",
    "# data gathering attempt 2: download all folders from drive manually"
   ]
  },
  {
   "cell_type": "markdown",
   "metadata": {},
   "source": [
    "all the data: \n",
    "https://drive.google.com/drive/folders/1DJzIrTaDW3GSGJTkPTGAlpAMbozFG_pm\n",
    "\n",
    "Then download all content as a zip. Size is 1.5 GB. Of this, Sante Fe is 1.4GB\n",
    "\n",
    "I started with just \"Alameda County, CA (Berkeley, Oakland, San Leandro)\" which is 18MB as a .zip\n",
    "\n",
    "https://drive.google.com/drive/folders/1u_airJzoLC2PMYMHcF2KYJEKxxKBi5H7"
   ]
  },
  {
   "cell_type": "raw",
   "metadata": {},
   "source": [
    "!mkdir voting_data\n",
    "!mkdir voting_data/Alameda\n",
    "!unzip voting_data/Alameda/drive-download-20190724T221439Z-001.zip"
   ]
  },
  {
   "cell_type": "markdown",
   "metadata": {},
   "source": [
    " \n",
    "# import a file"
   ]
  },
  {
   "cell_type": "code",
   "execution_count": 5,
   "metadata": {},
   "outputs": [
    {
     "data": {
      "text/plain": [
       "34"
      ]
     },
     "execution_count": 5,
     "metadata": {},
     "output_type": "execute_result"
    }
   ],
   "source": [
    "list_of_files = glob.glob('voting_data/Alameda/Alameda (Oakland, San Leandro, Berkeley) 2010/*')\n",
    "len(list_of_files)"
   ]
  },
  {
   "cell_type": "code",
   "execution_count": 6,
   "metadata": {},
   "outputs": [
    {
     "data": {
      "text/plain": [
       "'voting_data/Alameda/Alameda (Oakland, San Leandro, Berkeley) 2010/ballot_image_ Member, City Council, District 4 - Oakland_Nov 2010.txt'"
      ]
     },
     "execution_count": 6,
     "metadata": {},
     "output_type": "execute_result"
    }
   ],
   "source": [
    "list_of_files[0]"
   ]
  },
  {
   "cell_type": "markdown",
   "metadata": {},
   "source": [
    "Normally this is where I would want to create a tuple of <code>ballot_image_</code> and <code>master_lookup_</code> in order to decode the data. \n",
    "\n",
    "Since I don't care about the name of who actually won each election, I can stick with numeric data for now"
   ]
  },
  {
   "cell_type": "code",
   "execution_count": 7,
   "metadata": {},
   "outputs": [
    {
     "data": {
      "text/plain": [
       "71652"
      ]
     },
     "execution_count": 7,
     "metadata": {},
     "output_type": "execute_result"
    }
   ],
   "source": [
    "# I could analyze the fixed-width file as plain text\n",
    "with open(list_of_files[0],'r') as fil:\n",
    "    #file_contents = fil.read()  # do not split on newline -- one long string\n",
    "    file_contents = fil.readlines()  # creates a list of entries\n",
    "    \n",
    "len(file_contents)"
   ]
  },
  {
   "cell_type": "markdown",
   "metadata": {},
   "source": [
    "Rather than manually split each row in the plain text file, I'll use Pandas"
   ]
  },
  {
   "cell_type": "code",
   "execution_count": 8,
   "metadata": {},
   "outputs": [
    {
     "data": {
      "text/plain": [
       "(71652, 9)"
      ]
     },
     "execution_count": 8,
     "metadata": {},
     "output_type": "execute_result"
    }
   ],
   "source": [
    "df = pandas.read_fwf(list_of_files[0],\n",
    "                     header=None,\n",
    "                     widths=[7,9,7,3,7,3,7,1,1])\n",
    "df.columns=['contest_id','pref_voter_id',\n",
    "            'serial_number','tally_type_id',\n",
    "            'precinct_id','vote_rank',\n",
    "            'candidate_id','over_vote','under_vote']\n",
    "df.shape"
   ]
  },
  {
   "cell_type": "code",
   "execution_count": 9,
   "metadata": {},
   "outputs": [
    {
     "data": {
      "text/html": [
       "<div>\n",
       "<style scoped>\n",
       "    .dataframe tbody tr th:only-of-type {\n",
       "        vertical-align: middle;\n",
       "    }\n",
       "\n",
       "    .dataframe tbody tr th {\n",
       "        vertical-align: top;\n",
       "    }\n",
       "\n",
       "    .dataframe thead th {\n",
       "        text-align: right;\n",
       "    }\n",
       "</style>\n",
       "<table border=\"1\" class=\"dataframe\">\n",
       "  <thead>\n",
       "    <tr style=\"text-align: right;\">\n",
       "      <th></th>\n",
       "      <th>contest_id</th>\n",
       "      <th>pref_voter_id</th>\n",
       "      <th>serial_number</th>\n",
       "      <th>tally_type_id</th>\n",
       "      <th>precinct_id</th>\n",
       "      <th>vote_rank</th>\n",
       "      <th>candidate_id</th>\n",
       "      <th>over_vote</th>\n",
       "      <th>under_vote</th>\n",
       "    </tr>\n",
       "  </thead>\n",
       "  <tbody>\n",
       "    <tr>\n",
       "      <th>0</th>\n",
       "      <td>37</td>\n",
       "      <td>12307</td>\n",
       "      <td>2</td>\n",
       "      <td>3</td>\n",
       "      <td>152</td>\n",
       "      <td>1</td>\n",
       "      <td>408</td>\n",
       "      <td>0</td>\n",
       "      <td>0</td>\n",
       "    </tr>\n",
       "    <tr>\n",
       "      <th>1</th>\n",
       "      <td>37</td>\n",
       "      <td>12307</td>\n",
       "      <td>2</td>\n",
       "      <td>3</td>\n",
       "      <td>152</td>\n",
       "      <td>2</td>\n",
       "      <td>409</td>\n",
       "      <td>0</td>\n",
       "      <td>0</td>\n",
       "    </tr>\n",
       "    <tr>\n",
       "      <th>2</th>\n",
       "      <td>37</td>\n",
       "      <td>12307</td>\n",
       "      <td>2</td>\n",
       "      <td>3</td>\n",
       "      <td>152</td>\n",
       "      <td>3</td>\n",
       "      <td>406</td>\n",
       "      <td>0</td>\n",
       "      <td>0</td>\n",
       "    </tr>\n",
       "    <tr>\n",
       "      <th>3</th>\n",
       "      <td>37</td>\n",
       "      <td>12313</td>\n",
       "      <td>6</td>\n",
       "      <td>3</td>\n",
       "      <td>293</td>\n",
       "      <td>1</td>\n",
       "      <td>411</td>\n",
       "      <td>0</td>\n",
       "      <td>0</td>\n",
       "    </tr>\n",
       "    <tr>\n",
       "      <th>4</th>\n",
       "      <td>37</td>\n",
       "      <td>12313</td>\n",
       "      <td>6</td>\n",
       "      <td>3</td>\n",
       "      <td>293</td>\n",
       "      <td>2</td>\n",
       "      <td>408</td>\n",
       "      <td>0</td>\n",
       "      <td>0</td>\n",
       "    </tr>\n",
       "  </tbody>\n",
       "</table>\n",
       "</div>"
      ],
      "text/plain": [
       "   contest_id  pref_voter_id  serial_number  tally_type_id  precinct_id  \\\n",
       "0          37          12307              2              3          152   \n",
       "1          37          12307              2              3          152   \n",
       "2          37          12307              2              3          152   \n",
       "3          37          12313              6              3          293   \n",
       "4          37          12313              6              3          293   \n",
       "\n",
       "   vote_rank  candidate_id  over_vote  under_vote  \n",
       "0          1           408          0           0  \n",
       "1          2           409          0           0  \n",
       "2          3           406          0           0  \n",
       "3          1           411          0           0  \n",
       "4          2           408          0           0  "
      ]
     },
     "execution_count": 9,
     "metadata": {},
     "output_type": "execute_result"
    }
   ],
   "source": [
    "df.head()"
   ]
  },
  {
   "cell_type": "markdown",
   "metadata": {},
   "source": [
    "# analyze dataframe"
   ]
  },
  {
   "cell_type": "code",
   "execution_count": 10,
   "metadata": {},
   "outputs": [
    {
     "data": {
      "text/plain": [
       "contest_id           1\n",
       "pref_voter_id    23884\n",
       "serial_number       81\n",
       "tally_type_id        5\n",
       "precinct_id         45\n",
       "vote_rank            3\n",
       "candidate_id         9\n",
       "over_vote            2\n",
       "under_vote           2\n",
       "dtype: int64"
      ]
     },
     "execution_count": 10,
     "metadata": {},
     "output_type": "execute_result"
    }
   ],
   "source": [
    "df.nunique()"
   ]
  },
  {
   "cell_type": "markdown",
   "metadata": {},
   "source": [
    "* There are 81 unique voting machines\n",
    "* There are 23,885 voters\n",
    "* There are 9 candidates"
   ]
  },
  {
   "cell_type": "code",
   "execution_count": 11,
   "metadata": {},
   "outputs": [
    {
     "data": {
      "text/plain": [
       "array([408, 409, 406, 411, 410,   0, 405, 407,  76])"
      ]
     },
     "execution_count": 11,
     "metadata": {},
     "output_type": "execute_result"
    }
   ],
   "source": [
    "# what are the candidate IDs?\n",
    "df['candidate_id'].unique()"
   ]
  },
  {
   "cell_type": "code",
   "execution_count": 12,
   "metadata": {},
   "outputs": [
    {
     "data": {
      "text/plain": [
       "0      18090\n",
       "408    14790\n",
       "405    12113\n",
       "410     7521\n",
       "407     7468\n",
       "409     5019\n",
       "406     3529\n",
       "411     2723\n",
       "76       399\n",
       "Name: candidate_id, dtype: int64"
      ]
     },
     "execution_count": 12,
     "metadata": {},
     "output_type": "execute_result"
    }
   ],
   "source": [
    "# how many rows does each candidate appear in?\n",
    "df['candidate_id'].value_counts()"
   ]
  },
  {
   "cell_type": "code",
   "execution_count": 13,
   "metadata": {},
   "outputs": [
    {
     "data": {
      "text/html": [
       "<div>\n",
       "<style scoped>\n",
       "    .dataframe tbody tr th:only-of-type {\n",
       "        vertical-align: middle;\n",
       "    }\n",
       "\n",
       "    .dataframe tbody tr th {\n",
       "        vertical-align: top;\n",
       "    }\n",
       "\n",
       "    .dataframe thead th {\n",
       "        text-align: right;\n",
       "    }\n",
       "</style>\n",
       "<table border=\"1\" class=\"dataframe\">\n",
       "  <thead>\n",
       "    <tr style=\"text-align: right;\">\n",
       "      <th></th>\n",
       "      <th>contest_id</th>\n",
       "      <th>pref_voter_id</th>\n",
       "      <th>serial_number</th>\n",
       "      <th>tally_type_id</th>\n",
       "      <th>precinct_id</th>\n",
       "      <th>vote_rank</th>\n",
       "      <th>candidate_id</th>\n",
       "      <th>over_vote</th>\n",
       "      <th>under_vote</th>\n",
       "    </tr>\n",
       "  </thead>\n",
       "  <tbody>\n",
       "    <tr>\n",
       "      <th>8</th>\n",
       "      <td>37</td>\n",
       "      <td>12769</td>\n",
       "      <td>7</td>\n",
       "      <td>3</td>\n",
       "      <td>152</td>\n",
       "      <td>3</td>\n",
       "      <td>0</td>\n",
       "      <td>0</td>\n",
       "      <td>1</td>\n",
       "    </tr>\n",
       "    <tr>\n",
       "      <th>17</th>\n",
       "      <td>37</td>\n",
       "      <td>12772</td>\n",
       "      <td>7</td>\n",
       "      <td>3</td>\n",
       "      <td>152</td>\n",
       "      <td>3</td>\n",
       "      <td>0</td>\n",
       "      <td>0</td>\n",
       "      <td>1</td>\n",
       "    </tr>\n",
       "    <tr>\n",
       "      <th>18</th>\n",
       "      <td>37</td>\n",
       "      <td>12773</td>\n",
       "      <td>7</td>\n",
       "      <td>3</td>\n",
       "      <td>152</td>\n",
       "      <td>1</td>\n",
       "      <td>0</td>\n",
       "      <td>0</td>\n",
       "      <td>1</td>\n",
       "    </tr>\n",
       "    <tr>\n",
       "      <th>19</th>\n",
       "      <td>37</td>\n",
       "      <td>12773</td>\n",
       "      <td>7</td>\n",
       "      <td>3</td>\n",
       "      <td>152</td>\n",
       "      <td>2</td>\n",
       "      <td>0</td>\n",
       "      <td>0</td>\n",
       "      <td>1</td>\n",
       "    </tr>\n",
       "    <tr>\n",
       "      <th>20</th>\n",
       "      <td>37</td>\n",
       "      <td>12773</td>\n",
       "      <td>7</td>\n",
       "      <td>3</td>\n",
       "      <td>152</td>\n",
       "      <td>3</td>\n",
       "      <td>0</td>\n",
       "      <td>0</td>\n",
       "      <td>1</td>\n",
       "    </tr>\n",
       "  </tbody>\n",
       "</table>\n",
       "</div>"
      ],
      "text/plain": [
       "    contest_id  pref_voter_id  serial_number  tally_type_id  precinct_id  \\\n",
       "8           37          12769              7              3          152   \n",
       "17          37          12772              7              3          152   \n",
       "18          37          12773              7              3          152   \n",
       "19          37          12773              7              3          152   \n",
       "20          37          12773              7              3          152   \n",
       "\n",
       "    vote_rank  candidate_id  over_vote  under_vote  \n",
       "8           3             0          0           1  \n",
       "17          3             0          0           1  \n",
       "18          1             0          0           1  \n",
       "19          2             0          0           1  \n",
       "20          3             0          0           1  "
      ]
     },
     "execution_count": 13,
     "metadata": {},
     "output_type": "execute_result"
    }
   ],
   "source": [
    "df[df['candidate_id']==0].head()"
   ]
  },
  {
   "cell_type": "code",
   "execution_count": 14,
   "metadata": {},
   "outputs": [],
   "source": [
    "# drop rows where candidate_id==0\n",
    "\n",
    "df_cand = df[df['candidate_id']!=0]"
   ]
  },
  {
   "cell_type": "markdown",
   "metadata": {},
   "source": [
    "### did any candidate win the first round?"
   ]
  },
  {
   "cell_type": "code",
   "execution_count": 15,
   "metadata": {},
   "outputs": [
    {
     "data": {
      "text/html": [
       "<div>\n",
       "<style scoped>\n",
       "    .dataframe tbody tr th:only-of-type {\n",
       "        vertical-align: middle;\n",
       "    }\n",
       "\n",
       "    .dataframe tbody tr th {\n",
       "        vertical-align: top;\n",
       "    }\n",
       "\n",
       "    .dataframe thead th {\n",
       "        text-align: right;\n",
       "    }\n",
       "</style>\n",
       "<table border=\"1\" class=\"dataframe\">\n",
       "  <thead>\n",
       "    <tr style=\"text-align: right;\">\n",
       "      <th></th>\n",
       "      <th>contest_id</th>\n",
       "      <th>pref_voter_id</th>\n",
       "      <th>serial_number</th>\n",
       "      <th>tally_type_id</th>\n",
       "      <th>precinct_id</th>\n",
       "      <th>vote_rank</th>\n",
       "      <th>candidate_id</th>\n",
       "      <th>over_vote</th>\n",
       "      <th>under_vote</th>\n",
       "    </tr>\n",
       "  </thead>\n",
       "  <tbody>\n",
       "    <tr>\n",
       "      <th>0</th>\n",
       "      <td>37</td>\n",
       "      <td>12307</td>\n",
       "      <td>2</td>\n",
       "      <td>3</td>\n",
       "      <td>152</td>\n",
       "      <td>1</td>\n",
       "      <td>408</td>\n",
       "      <td>0</td>\n",
       "      <td>0</td>\n",
       "    </tr>\n",
       "    <tr>\n",
       "      <th>3</th>\n",
       "      <td>37</td>\n",
       "      <td>12313</td>\n",
       "      <td>6</td>\n",
       "      <td>3</td>\n",
       "      <td>293</td>\n",
       "      <td>1</td>\n",
       "      <td>411</td>\n",
       "      <td>0</td>\n",
       "      <td>0</td>\n",
       "    </tr>\n",
       "    <tr>\n",
       "      <th>6</th>\n",
       "      <td>37</td>\n",
       "      <td>12769</td>\n",
       "      <td>7</td>\n",
       "      <td>3</td>\n",
       "      <td>152</td>\n",
       "      <td>1</td>\n",
       "      <td>408</td>\n",
       "      <td>0</td>\n",
       "      <td>0</td>\n",
       "    </tr>\n",
       "    <tr>\n",
       "      <th>9</th>\n",
       "      <td>37</td>\n",
       "      <td>12770</td>\n",
       "      <td>7</td>\n",
       "      <td>3</td>\n",
       "      <td>152</td>\n",
       "      <td>1</td>\n",
       "      <td>406</td>\n",
       "      <td>0</td>\n",
       "      <td>0</td>\n",
       "    </tr>\n",
       "    <tr>\n",
       "      <th>12</th>\n",
       "      <td>37</td>\n",
       "      <td>12771</td>\n",
       "      <td>7</td>\n",
       "      <td>3</td>\n",
       "      <td>152</td>\n",
       "      <td>1</td>\n",
       "      <td>408</td>\n",
       "      <td>0</td>\n",
       "      <td>0</td>\n",
       "    </tr>\n",
       "  </tbody>\n",
       "</table>\n",
       "</div>"
      ],
      "text/plain": [
       "    contest_id  pref_voter_id  serial_number  tally_type_id  precinct_id  \\\n",
       "0           37          12307              2              3          152   \n",
       "3           37          12313              6              3          293   \n",
       "6           37          12769              7              3          152   \n",
       "9           37          12770              7              3          152   \n",
       "12          37          12771              7              3          152   \n",
       "\n",
       "    vote_rank  candidate_id  over_vote  under_vote  \n",
       "0           1           408          0           0  \n",
       "3           1           411          0           0  \n",
       "6           1           408          0           0  \n",
       "9           1           406          0           0  \n",
       "12          1           408          0           0  "
      ]
     },
     "execution_count": 15,
     "metadata": {},
     "output_type": "execute_result"
    }
   ],
   "source": [
    "# compare only the candidates with rank==1\n",
    "df_cand[df_cand['vote_rank']==1].head()"
   ]
  },
  {
   "cell_type": "code",
   "execution_count": 16,
   "metadata": {},
   "outputs": [
    {
     "data": {
      "text/plain": [
       "candidate_id\n",
       "76       67\n",
       "405    4794\n",
       "406     878\n",
       "407    2448\n",
       "408    8746\n",
       "409    1133\n",
       "410    2345\n",
       "411     526\n",
       "Name: vote_rank, dtype: int64"
      ]
     },
     "execution_count": 16,
     "metadata": {},
     "output_type": "execute_result"
    }
   ],
   "source": [
    "# https://jakevdp.github.io/PythonDataScienceHandbook/03.08-aggregation-and-grouping.html\n",
    "# https://www.geeksforgeeks.org/python-pandas-dataframe-groupby/\n",
    "df_cand[df_cand['vote_rank']==1].groupby('candidate_id')['vote_rank'].count()"
   ]
  },
  {
   "cell_type": "markdown",
   "metadata": {},
   "source": [
    "In RCV, if a candidate wins a majority of first-preference votes, he or she is declared the winner.\n",
    "\n",
    "Caveat: this dataframe ignores rows where no candidate preference was provided"
   ]
  },
  {
   "cell_type": "code",
   "execution_count": 17,
   "metadata": {},
   "outputs": [
    {
     "data": {
      "text/plain": [
       "10468.5"
      ]
     },
     "execution_count": 17,
     "metadata": {},
     "output_type": "execute_result"
    }
   ],
   "source": [
    "# majority = half the sum of first choices \n",
    "majority_first_round = df_cand[df_cand['vote_rank']==1].groupby('candidate_id')['vote_rank'].count().sum()/2\n",
    "majority_first_round"
   ]
  },
  {
   "cell_type": "code",
   "execution_count": 18,
   "metadata": {},
   "outputs": [
    {
     "data": {
      "text/plain": [
       "candidate_id\n",
       "76     False\n",
       "405    False\n",
       "406    False\n",
       "407    False\n",
       "408    False\n",
       "409    False\n",
       "410    False\n",
       "411    False\n",
       "Name: vote_rank, dtype: bool"
      ]
     },
     "execution_count": 18,
     "metadata": {},
     "output_type": "execute_result"
    }
   ],
   "source": [
    "df_cand[df_cand['vote_rank']==1].groupby('candidate_id')['vote_rank'].count()>majority_first_round"
   ]
  },
  {
   "cell_type": "markdown",
   "metadata": {},
   "source": [
    "Since no candidate won the majority of the first round, the next step in the algorithm is to eliminate the candidate with the lowest count."
   ]
  },
  {
   "cell_type": "code",
   "execution_count": 19,
   "metadata": {},
   "outputs": [
    {
     "data": {
      "text/plain": [
       "76"
      ]
     },
     "execution_count": 19,
     "metadata": {},
     "output_type": "execute_result"
    }
   ],
   "source": [
    "df_cand[df_cand['vote_rank']==1].groupby('candidate_id')['vote_rank'].count().idxmin()"
   ]
  },
  {
   "cell_type": "code",
   "execution_count": 20,
   "metadata": {},
   "outputs": [
    {
     "data": {
      "text/html": [
       "<div>\n",
       "<style scoped>\n",
       "    .dataframe tbody tr th:only-of-type {\n",
       "        vertical-align: middle;\n",
       "    }\n",
       "\n",
       "    .dataframe tbody tr th {\n",
       "        vertical-align: top;\n",
       "    }\n",
       "\n",
       "    .dataframe thead th {\n",
       "        text-align: right;\n",
       "    }\n",
       "</style>\n",
       "<table border=\"1\" class=\"dataframe\">\n",
       "  <thead>\n",
       "    <tr style=\"text-align: right;\">\n",
       "      <th></th>\n",
       "      <th>contest_id</th>\n",
       "      <th>pref_voter_id</th>\n",
       "      <th>serial_number</th>\n",
       "      <th>tally_type_id</th>\n",
       "      <th>precinct_id</th>\n",
       "      <th>vote_rank</th>\n",
       "      <th>candidate_id</th>\n",
       "      <th>over_vote</th>\n",
       "      <th>under_vote</th>\n",
       "    </tr>\n",
       "  </thead>\n",
       "  <tbody>\n",
       "    <tr>\n",
       "      <th>0</th>\n",
       "      <td>37</td>\n",
       "      <td>12307</td>\n",
       "      <td>2</td>\n",
       "      <td>3</td>\n",
       "      <td>152</td>\n",
       "      <td>1</td>\n",
       "      <td>408</td>\n",
       "      <td>0</td>\n",
       "      <td>0</td>\n",
       "    </tr>\n",
       "    <tr>\n",
       "      <th>1</th>\n",
       "      <td>37</td>\n",
       "      <td>12307</td>\n",
       "      <td>2</td>\n",
       "      <td>3</td>\n",
       "      <td>152</td>\n",
       "      <td>2</td>\n",
       "      <td>409</td>\n",
       "      <td>0</td>\n",
       "      <td>0</td>\n",
       "    </tr>\n",
       "    <tr>\n",
       "      <th>2</th>\n",
       "      <td>37</td>\n",
       "      <td>12307</td>\n",
       "      <td>2</td>\n",
       "      <td>3</td>\n",
       "      <td>152</td>\n",
       "      <td>3</td>\n",
       "      <td>406</td>\n",
       "      <td>0</td>\n",
       "      <td>0</td>\n",
       "    </tr>\n",
       "    <tr>\n",
       "      <th>3</th>\n",
       "      <td>37</td>\n",
       "      <td>12313</td>\n",
       "      <td>6</td>\n",
       "      <td>3</td>\n",
       "      <td>293</td>\n",
       "      <td>1</td>\n",
       "      <td>411</td>\n",
       "      <td>0</td>\n",
       "      <td>0</td>\n",
       "    </tr>\n",
       "    <tr>\n",
       "      <th>4</th>\n",
       "      <td>37</td>\n",
       "      <td>12313</td>\n",
       "      <td>6</td>\n",
       "      <td>3</td>\n",
       "      <td>293</td>\n",
       "      <td>2</td>\n",
       "      <td>408</td>\n",
       "      <td>0</td>\n",
       "      <td>0</td>\n",
       "    </tr>\n",
       "  </tbody>\n",
       "</table>\n",
       "</div>"
      ],
      "text/plain": [
       "   contest_id  pref_voter_id  serial_number  tally_type_id  precinct_id  \\\n",
       "0          37          12307              2              3          152   \n",
       "1          37          12307              2              3          152   \n",
       "2          37          12307              2              3          152   \n",
       "3          37          12313              6              3          293   \n",
       "4          37          12313              6              3          293   \n",
       "\n",
       "   vote_rank  candidate_id  over_vote  under_vote  \n",
       "0          1           408          0           0  \n",
       "1          2           409          0           0  \n",
       "2          3           406          0           0  \n",
       "3          1           411          0           0  \n",
       "4          2           408          0           0  "
      ]
     },
     "execution_count": 20,
     "metadata": {},
     "output_type": "execute_result"
    }
   ],
   "source": [
    "df_second_round = df_cand[df_cand['candidate_id']!=76]\n",
    "df_second_round.head()"
   ]
  },
  {
   "cell_type": "markdown",
   "metadata": {},
   "source": [
    "Then first-preference votes cast for the failed candidate are eliminated, lifting the second-preference choices indicated on those ballots. \n",
    "\n",
    "However, for my analysis I only care about the first round. Recall my objective is to categorize elections by\n",
    "* Leading candidate in the first round has greater than 50% first choice votes\n",
    "* Leading candidate in the first round has between 45-50% first choice votes\n",
    "* Leading candidate in the first round has less than 45% of first choice votes"
   ]
  },
  {
   "cell_type": "code",
   "execution_count": 21,
   "metadata": {},
   "outputs": [],
   "source": [
    "number_of_first_choice_votes = df_cand[df_cand['vote_rank']==1].groupby('candidate_id')['vote_rank'].count().sum()"
   ]
  },
  {
   "cell_type": "code",
   "execution_count": 22,
   "metadata": {},
   "outputs": [
    {
     "data": {
      "text/plain": [
       "candidate_id\n",
       "76     False\n",
       "405    False\n",
       "406    False\n",
       "407    False\n",
       "408    False\n",
       "409    False\n",
       "410    False\n",
       "411    False\n",
       "Name: vote_rank, dtype: bool"
      ]
     },
     "execution_count": 22,
     "metadata": {},
     "output_type": "execute_result"
    }
   ],
   "source": [
    "outcome = df_cand[df_cand['vote_rank']==1].groupby('candidate_id')['vote_rank'].count()>number_of_first_choice_votes*0.5\n",
    "outcome"
   ]
  },
  {
   "cell_type": "code",
   "execution_count": 23,
   "metadata": {},
   "outputs": [
    {
     "data": {
      "text/plain": [
       "False"
      ]
     },
     "execution_count": 23,
     "metadata": {},
     "output_type": "execute_result"
    }
   ],
   "source": [
    "outcome.any()"
   ]
  },
  {
   "cell_type": "markdown",
   "metadata": {},
   "source": [
    "My next step is to generalize the above analysis to all the elections"
   ]
  }
 ],
 "metadata": {
  "kernelspec": {
   "display_name": "Python 3",
   "language": "python",
   "name": "python3"
  },
  "language_info": {
   "codemirror_mode": {
    "name": "ipython",
    "version": 3
   },
   "file_extension": ".py",
   "mimetype": "text/x-python",
   "name": "python",
   "nbconvert_exporter": "python",
   "pygments_lexer": "ipython3",
   "version": "3.6.7"
  }
 },
 "nbformat": 4,
 "nbformat_minor": 2
}
