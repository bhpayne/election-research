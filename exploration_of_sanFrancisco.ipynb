{
 "cells": [
  {
   "cell_type": "code",
   "execution_count": null,
   "metadata": {},
   "outputs": [],
   "source": []
  },
  {
   "cell_type": "code",
   "execution_count": null,
   "metadata": {},
   "outputs": [],
   "source": []
  },
  {
   "cell_type": "code",
   "execution_count": 3,
   "metadata": {},
   "outputs": [],
   "source": [
    "import glob"
   ]
  },
  {
   "cell_type": "code",
   "execution_count": 4,
   "metadata": {},
   "outputs": [
    {
     "data": {
      "text/plain": [
       "46"
      ]
     },
     "execution_count": 4,
     "metadata": {},
     "output_type": "execute_result"
    }
   ],
   "source": [
    "list_of_files = glob.glob('voting_data/San_Fransisco/San Francisco/**/*')\n",
    "len(list_of_files)"
   ]
  },
  {
   "cell_type": "code",
   "execution_count": 7,
   "metadata": {},
   "outputs": [
    {
     "data": {
      "text/plain": [
       "['voting_data/San_Fransisco/San Francisco/San Fran_Nov 2010_District 10 Supervisors/BallotImage-D10.txt',\n",
       " 'voting_data/San_Fransisco/San Francisco/San Fran_Nov 2010_District 10 Supervisors/MasterLookup-D10.txt',\n",
       " 'voting_data/San_Fransisco/San Francisco/San Fran_Nov 2010_District 10 Supervisors/Ballot Image RCV help.pdf',\n",
       " 'voting_data/San_Fransisco/San Francisco/San Fran_Nov 2010_District 2 Supervisors/BallotImage-D2.txt',\n",
       " 'voting_data/San_Fransisco/San Francisco/San Fran_Nov 2010_District 2 Supervisors/Ballot Image RCV help.pdf',\n",
       " 'voting_data/San_Fransisco/San Francisco/San Fran_Nov 2010_District 2 Supervisors/MasterLookup-D2.txt',\n",
       " 'voting_data/San_Fransisco/San Francisco/Nov 2006 San Fran All Supervisors/candidates.txt',\n",
       " 'voting_data/San_Fransisco/San Francisco/Nov 2006 San Fran All Supervisors/BallotImageListing.txt',\n",
       " 'voting_data/San_Fransisco/San Francisco/Nov 2006 San Fran All Supervisors/BallotImageSummary.txt',\n",
       " 'voting_data/San_Fransisco/San Francisco/2015 All offices/20151119_ballotimage.txt',\n",
       " 'voting_data/San_Fransisco/San Francisco/2015 All offices/20151119_masterlookup.txt',\n",
       " 'voting_data/San_Fransisco/San Francisco/San Fran_Nov 2014_District 10 Supervisors/D10_MasterLookup.txt',\n",
       " 'voting_data/San_Fransisco/San Francisco/San Fran_Nov 2014_District 10 Supervisors/Ballot Image RCV help.pdf',\n",
       " 'voting_data/San_Fransisco/San Francisco/San Fran_Nov 2014_District 10 Supervisors/D10_BallotImage.txt',\n",
       " 'voting_data/San_Fransisco/San Francisco/San Fran Nov 2011 Sheriff/Sheriff-MasterLookUp.txt',\n",
       " 'voting_data/San_Fransisco/San Francisco/San Fran Nov 2011 Sheriff/Ballot Image RCV help.pdf',\n",
       " 'voting_data/San_Fransisco/San Francisco/San Fran Nov 2011 Sheriff/Sheriff-BallotImage.txt',\n",
       " 'voting_data/San_Fransisco/San Francisco/San Fran Nov 2011 District Attorney/DA-MasterLookUp.txt',\n",
       " 'voting_data/San_Fransisco/San Francisco/San Fran Nov 2011 District Attorney/Ballot Image RCV help.pdf',\n",
       " 'voting_data/San_Fransisco/San Francisco/San Fran Nov 2011 District Attorney/DA-BallotImage.txt',\n",
       " 'voting_data/San_Fransisco/San Francisco/San Fran Nov 2004 All Supervisors/Candidates.txt',\n",
       " 'voting_data/San_Fransisco/San Francisco/San Fran Nov 2004 All Supervisors/Nov2004_BallotImage.txt',\n",
       " 'voting_data/San_Fransisco/San Francisco/San Fran_Nov 2010_District 8 Supervisors/Ballot Image RCV help.pdf',\n",
       " 'voting_data/San_Fransisco/San Francisco/San Fran_Nov 2010_District 8 Supervisors/MasterLookup-D8.txt',\n",
       " 'voting_data/San_Fransisco/San Francisco/San Fran_Nov 2010_District 8 Supervisors/BallotImage-D8.txt',\n",
       " 'voting_data/San_Fransisco/San Francisco/San Fran Nov 2011 Mayor/Ballot Image RCV help.pdf',\n",
       " 'voting_data/San_Fransisco/San Francisco/San Fran Nov 2011 Mayor/Mayor-MasterLookup.txt',\n",
       " 'voting_data/San_Fransisco/San Francisco/San Fran Nov 2011 Mayor/Mayor-BallotImage.txt',\n",
       " 'voting_data/San_Fransisco/San Francisco/San Fran_Nov 2012_District 7 Supervisors/D7-BallotImage.txt',\n",
       " 'voting_data/San_Fransisco/San Francisco/San Fran_Nov 2012_District 7 Supervisors/D7-MasterLookup.txt',\n",
       " 'voting_data/San_Fransisco/San Francisco/San Fran_Nov 2012_District 7 Supervisors/Ballot Image RCV help.pdf',\n",
       " 'voting_data/San_Fransisco/San Francisco/San Fran_Nov 2010_District 6 Supervisors/BallotImage-D6.txt',\n",
       " 'voting_data/San_Fransisco/San Francisco/San Fran_Nov 2010_District 6 Supervisors/MasterLookup-D6.txt',\n",
       " 'voting_data/San_Fransisco/San Francisco/San Fran_Nov 2010_District 6 Supervisors/Ballot Image RCV help.pdf',\n",
       " 'voting_data/San_Fransisco/San Francisco/San Fran_Nov 2016/20161206_masterlookup.txt',\n",
       " 'voting_data/San_Fransisco/San Francisco/San Fran_Nov 2016/20161206_ballotimage.txt',\n",
       " 'voting_data/San_Fransisco/San Francisco/San Fran June 2018/20180621_masterlookup.txt',\n",
       " 'voting_data/San_Fransisco/San Francisco/San Fran June 2018/20180621_ballotimage.txt',\n",
       " 'voting_data/San_Fransisco/San Francisco/San Fran_Nov 2012_District 5 Supervisors/Ballot Image RCV help.pdf',\n",
       " 'voting_data/San_Fransisco/San Francisco/San Fran_Nov 2012_District 5 Supervisors/D5-BallotImage.txt',\n",
       " 'voting_data/San_Fransisco/San Francisco/San Fran_Nov 2012_District 5 Supervisors/D5-MasterLookup.txt',\n",
       " 'voting_data/San_Fransisco/San Francisco/San Fran_Nov 2008_All District races/CityWide_Ballot_Image.txt',\n",
       " 'voting_data/San_Fransisco/San Francisco/San Fran_Nov 2008_All District races/Ballot Image RCV help.pdf',\n",
       " 'voting_data/San_Fransisco/San Francisco/San Fran_Nov 2008_All District races/CityWide_MasterLookup.txt',\n",
       " 'voting_data/San_Fransisco/San Francisco/San Fran Nov 2007 Mayor/BallotImage_San Fran_Mayor_Nov 2007.txt',\n",
       " 'voting_data/San_Fransisco/San Francisco/San Fran Nov 2007 Mayor/BallotDescription_San Fran_2007.txt']"
      ]
     },
     "execution_count": 7,
     "metadata": {},
     "output_type": "execute_result"
    }
   ],
   "source": [
    "list_of_files"
   ]
  },
  {
   "cell_type": "markdown",
   "metadata": {},
   "source": [
    "What file extensions exist in this list of files?"
   ]
  },
  {
   "cell_type": "code",
   "execution_count": 5,
   "metadata": {},
   "outputs": [
    {
     "name": "stdout",
     "output_type": "stream",
     "text": [
      "{'pdf', 'txt'}\n"
     ]
    }
   ],
   "source": [
    "list_of_file_extentions=[]\n",
    "for filename in list_of_files:\n",
    "    #print(filename.split('.')[-1])\n",
    "    list_of_file_extentions.append(filename.split('.')[-1])\n",
    "print(set(list_of_file_extentions))"
   ]
  },
  {
   "cell_type": "markdown",
   "metadata": {},
   "source": [
    "Find files that end in \"txt\" and contain the string \"ballot\" in the file name"
   ]
  },
  {
   "cell_type": "code",
   "execution_count": 6,
   "metadata": {},
   "outputs": [
    {
     "name": "stdout",
     "output_type": "stream",
     "text": [
      "file name: BallotImage-D10.txt\n",
      "  first two lines of content: ['000000600001706700000040020000274001000014900\\n', '000000600001706700000040020000274002000015700\\n']\n",
      "  number of lines in file: 45\n",
      "file name: BallotImage-D2.txt\n",
      "  first two lines of content: ['000000700001712400000090020000331001000012600\\n', '000000700001712400000090020000331002000000001\\n']\n",
      "  number of lines in file: 45\n",
      "file name: BallotImageListing.txt\n",
      "  first two lines of content: ['\\x1bE\\x1b&l2a0o7c067F\\x1b(s0p16.66h3b6T\\x1b&a00L\\n', 'BALLOT IMAGE LISTING                               SAN FRANCISCO                                      OFFICIAL RESULTS\\n']\n",
      "  number of lines in file: 36\n",
      "file name: BallotImageSummary.txt\n",
      "  first two lines of content: ['\\x1bE\\x1b&l2a0o7c067F\\x1b(s0p16.66h3b6T\\x1b&a00L\\n', 'BALLOT IMAGE ELECTION SUMMARY\\n']\n",
      "  number of lines in file: 36\n",
      "file name: 20151119_ballotimage.txt\n",
      "  first two lines of content: ['000000100002610500000010020000012001000003600\\n', '000000100002610500000010020000012002000003700\\n']\n",
      "  number of lines in file: 45\n",
      "file name: D10_BallotImage.txt\n",
      "  first two lines of content: ['000003300000385300000010020000054001000012900\\n', '000003300000385300000010020000054002000012800\\n']\n",
      "  number of lines in file: 45\n",
      "file name: Sheriff-BallotImage.txt\n",
      "  first two lines of content: ['000000200004728200000010020000003001000002800\\n', '000000200004728200000010020000003002000002800\\n']\n",
      "  number of lines in file: 45\n",
      "file name: DA-BallotImage.txt\n",
      "  first two lines of content: ['000000100004728200000010020000003001000002300\\n', '000000100004728200000010020000003002000002300\\n']\n",
      "  number of lines in file: 45\n",
      "file name: Nov2004_BallotImage.txt\n",
      "  first two lines of content: ['pct,1,2,3\\n', '0001,,,\\n']\n",
      "  number of lines in file: 9\n",
      "file name: BallotImage-D8.txt\n",
      "  first two lines of content: ['000001000001706800000040020000513001000014400\\n', '000001000001706800000040020000513002000014200\\n']\n",
      "  number of lines in file: 45\n",
      "file name: Mayor-BallotImage.txt\n",
      "  first two lines of content: ['000000300004728200000010020000003001000003700\\n', '000000300004728200000010020000003002000003700\\n']\n",
      "  number of lines in file: 45\n",
      "file name: D7-BallotImage.txt\n",
      "  first two lines of content: ['000002300000759400000010020000244001000011500\\n', '000002300000759400000010020000244002000011800\\n']\n",
      "  number of lines in file: 45\n",
      "file name: BallotImage-D6.txt\n",
      "  first two lines of content: ['000000900001707600000130020000457001000013600\\n', '000000900001707600000130020000457002000012800\\n']\n",
      "  number of lines in file: 45\n",
      "file name: 20161206_ballotimage.txt\n",
      "  first two lines of content: ['000000900000660300000010020000406001000012800\\n', '000000900000660300000010020000406002000000001\\n']\n",
      "  number of lines in file: 45\n",
      "file name: 20180621_ballotimage.txt\n",
      "  first two lines of content: ['000002000001288600000010020000009001000018100\\n', '000002000001288600000010020000009002000018500\\n']\n",
      "  number of lines in file: 45\n",
      "file name: D5-BallotImage.txt\n",
      "  first two lines of content: ['000002200000739700000010020000161001000011400\\n', '000002200000739700000010020000161002000010800\\n']\n",
      "  number of lines in file: 45\n",
      "file name: CityWide_Ballot_Image.txt\n",
      "  first two lines of content: ['000000300000835700000030020000066001000007600\\n', '000000300000835700000030020000066002000007700\\n']\n",
      "  number of lines in file: 45\n",
      "file name: BallotImage_San Fran_Mayor_Nov 2007.txt\n",
      "  first two lines of content: ['0001\\n', '0002\\n']\n",
      "  number of lines in file: 4\n",
      "file name: BallotDescription_San Fran_2007.txt\n",
      "  first two lines of content: ['  15     BALLOTS CAST - TOTAL                                                     \\n', '  20     BALLOTS CAST - TOTAL CARD 1                                              \\n']\n",
      "  number of lines in file: 27\n"
     ]
    }
   ],
   "source": [
    "for filename in list_of_files:\n",
    "    if filename.endswith('.txt'):\n",
    "#        print(filename)\n",
    "        if 'ballot' in filename.lower():\n",
    "            print('file name:',filename.split('/')[-1])\n",
    "            with open(filename,'r') as fil:\n",
    "                file_contents = fil.readlines()\n",
    "            print('  first two lines of content:',file_contents[0:2])\n",
    "            print('  number of lines in file:',len(file_contents[0].strip()))"
   ]
  },
  {
   "cell_type": "code",
   "execution_count": 8,
   "metadata": {},
   "outputs": [
    {
     "name": "stdout",
     "output_type": "stream",
     "text": [
      "file name: MasterLookup-D10.txt\n",
      "  first two lines of content: ['Candidate 0000146ASHLEY H RHODES                                   0000001000000600\\n', 'Candidate 0000147MARLENE TRAN                                      0000002000000600\\n']\n",
      "  number of lines in file: 83\n",
      "file name: MasterLookup-D2.txt\n",
      "  first two lines of content: ['Candidate 0000120JANET REILLY                                      0000001000000700\\n', 'Candidate 0000121VILMA B. GUINTO PEORO                             0000002000000700\\n']\n",
      "  number of lines in file: 83\n",
      "file name: 20151119_masterlookup.txt\n",
      "  first two lines of content: ['Candidate 0000036FRANCISCO HERRERA                                 0000001000000100\\n', 'Candidate 0000042VICKI HENNESSY                                    0000001000000200\\n']\n",
      "  number of lines in file: 83\n",
      "file name: D10_MasterLookup.txt\n",
      "  first two lines of content: ['Candidate 0000125SHAWN M. RICHARD                                  0000001000003300\\n', 'Candidate 0000126MALIA COHEN                                       0000002000003300\\n']\n",
      "  number of lines in file: 83\n",
      "file name: Sheriff-MasterLookUp.txt\n",
      "  first two lines of content: ['Candidate 0000025CHRIS CUNNIE                                      0000001000000200\\n', 'Candidate 0000026DAVID WONG                                        0000002000000200\\n']\n",
      "  number of lines in file: 83\n",
      "file name: DA-MasterLookUp.txt\n",
      "  first two lines of content: ['Candidate 0000020BILL FAZIO                                        0000001000000100\\n', 'Candidate 0000021DAVID ONEK                                        0000002000000100\\n']\n",
      "  number of lines in file: 83\n",
      "file name: MasterLookup-D8.txt\n",
      "  first two lines of content: ['Candidate 0000142SCOTT WIENER                                      0000001000001000\\n', 'Candidate 0000143REBECCA PROZAN                                    0000002000001000\\n']\n",
      "  number of lines in file: 83\n",
      "file name: Mayor-MasterLookup.txt\n",
      "  first two lines of content: ['Candidate 0000029LELAND YEE                                        0000001000000300\\n', 'Candidate 0000030DAVID CHIU                                        0000002000000300\\n']\n",
      "  number of lines in file: 83\n",
      "file name: D7-MasterLookup.txt\n",
      "  first two lines of content: ['Candidate 0000115F. X. FRANCIS XAVIER CROWLEY                      0000001000002300\\n', 'Candidate 0000116ROBERT J. SQUERI                                  0000002000002300\\n']\n",
      "  number of lines in file: 83\n",
      "file name: MasterLookup-D6.txt\n",
      "  first two lines of content: ['Candidate 0000128DEAN CLARK                                        0000001000000900\\n', 'Candidate 0000129DEBRA WALKER                                      0000002000000900\\n']\n",
      "  number of lines in file: 83\n",
      "file name: 20161206_masterlookup.txt\n",
      "  first two lines of content: ['Candidate 0000121SAMUEL KWONG                                      0000001000000900\\n', 'Candidate 0000131TIM E. DONNELLY                                   0000001000001000\\n']\n",
      "  number of lines in file: 83\n",
      "file name: 20180621_masterlookup.txt\n",
      "  first two lines of content: ['Candidate 0000178MICHELLE BRAVO                                    0000001000002000\\n', 'Candidate 0000186JEFF SHEEHY                                       0000001000002100\\n']\n",
      "  number of lines in file: 83\n",
      "file name: D5-MasterLookup.txt\n",
      "  first two lines of content: ['Candidate 0000107CHRISTINA OLAGUE                                  0000001000002200\\n', 'Candidate 0000108THEA SELBY                                        0000002000002200\\n']\n",
      "  number of lines in file: 83\n",
      "file name: CityWide_MasterLookup.txt\n",
      "  first two lines of content: ['Candidate 0000076ERIC MAR                                          0000001000000300\\n', 'Candidate 0000085DENISE MCCARTHY                                   0000001000000500\\n']\n",
      "  number of lines in file: 83\n"
     ]
    }
   ],
   "source": [
    "for filename in list_of_files:\n",
    "    if filename.endswith('.txt'):\n",
    "#        print(filename)\n",
    "        if 'master' in filename.lower():\n",
    "            print('file name:',filename.split('/')[-1])\n",
    "            with open(filename,'r') as fil:\n",
    "                file_contents = fil.readlines()\n",
    "            print('  first two lines of content:',file_contents[0:2])\n",
    "            print('  number of lines in file:',len(file_contents[0].strip()))"
   ]
  },
  {
   "cell_type": "code",
   "execution_count": null,
   "metadata": {},
   "outputs": [],
   "source": []
  }
 ],
 "metadata": {
  "kernelspec": {
   "display_name": "Python 3",
   "language": "python",
   "name": "python3"
  },
  "language_info": {
   "codemirror_mode": {
    "name": "ipython",
    "version": 3
   },
   "file_extension": ".py",
   "mimetype": "text/x-python",
   "name": "python",
   "nbconvert_exporter": "python",
   "pygments_lexer": "ipython3",
   "version": "3.6.7"
  }
 },
 "nbformat": 4,
 "nbformat_minor": 2
}
