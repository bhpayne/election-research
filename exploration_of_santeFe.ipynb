{
 "cells": [
  {
   "cell_type": "code",
   "execution_count": 41,
   "metadata": {},
   "outputs": [
    {
     "name": "stdout",
     "output_type": "stream",
     "text": [
      "pandas 0.23.4\n",
      "numpy 1.13.3\n"
     ]
    }
   ],
   "source": [
    "import glob\n",
    "import pandas\n",
    "import json\n",
    "import time\n",
    "print('pandas',pandas.__version__)\n",
    "import matplotlib.pyplot as plt\n",
    "import numpy\n",
    "print('numpy',numpy.__version__)\n",
    "import zipfile"
   ]
  },
  {
   "cell_type": "code",
   "execution_count": 2,
   "metadata": {},
   "outputs": [],
   "source": [
    "with open(\"voting_data/Santa_Fe/Santa Fe/2018/JsonFiles/CvrExport.json\", \"r\") as read_file:\n",
    "    data = json.load(read_file)"
   ]
  },
  {
   "cell_type": "code",
   "execution_count": 3,
   "metadata": {},
   "outputs": [
    {
     "data": {
      "text/plain": [
       "dict"
      ]
     },
     "execution_count": 3,
     "metadata": {},
     "output_type": "execute_result"
    }
   ],
   "source": [
    "type(data)"
   ]
  },
  {
   "cell_type": "code",
   "execution_count": 4,
   "metadata": {},
   "outputs": [
    {
     "data": {
      "text/plain": [
       "dict_keys(['Version', 'ElectionId', 'Sessions'])"
      ]
     },
     "execution_count": 4,
     "metadata": {},
     "output_type": "execute_result"
    }
   ],
   "source": [
    "data.keys()"
   ]
  },
  {
   "cell_type": "code",
   "execution_count": 5,
   "metadata": {},
   "outputs": [
    {
     "name": "stdout",
     "output_type": "stream",
     "text": [
      "5.4.17.5\n"
     ]
    }
   ],
   "source": [
    "print(data['Version'])"
   ]
  },
  {
   "cell_type": "code",
   "execution_count": 6,
   "metadata": {},
   "outputs": [
    {
     "name": "stdout",
     "output_type": "stream",
     "text": [
      "Santa Fe 2018 Municipal\n"
     ]
    }
   ],
   "source": [
    "print(data['ElectionId'])"
   ]
  },
  {
   "cell_type": "code",
   "execution_count": 7,
   "metadata": {},
   "outputs": [
    {
     "data": {
      "text/plain": [
       "list"
      ]
     },
     "execution_count": 7,
     "metadata": {},
     "output_type": "execute_result"
    }
   ],
   "source": [
    "type(data['Sessions'])"
   ]
  },
  {
   "cell_type": "code",
   "execution_count": 8,
   "metadata": {},
   "outputs": [
    {
     "data": {
      "text/plain": [
       "20670"
      ]
     },
     "execution_count": 8,
     "metadata": {},
     "output_type": "execute_result"
    }
   ],
   "source": [
    "len(data['Sessions'])"
   ]
  },
  {
   "cell_type": "code",
   "execution_count": 9,
   "metadata": {},
   "outputs": [
    {
     "data": {
      "text/plain": [
       "dict"
      ]
     },
     "execution_count": 9,
     "metadata": {},
     "output_type": "execute_result"
    }
   ],
   "source": [
    "type(data['Sessions'][0])"
   ]
  },
  {
   "cell_type": "code",
   "execution_count": 10,
   "metadata": {},
   "outputs": [
    {
     "data": {
      "text/plain": [
       "dict_keys(['TabulatorId', 'BatchId', 'RecordId', 'CountingGroupId', 'ImageMask', 'SessionType', 'VotingSessionIdentifier', 'UniqueVotingIdentifier', 'Original'])"
      ]
     },
     "execution_count": 10,
     "metadata": {},
     "output_type": "execute_result"
    }
   ],
   "source": [
    "data['Sessions'][0].keys()"
   ]
  },
  {
   "cell_type": "code",
   "execution_count": 11,
   "metadata": {},
   "outputs": [
    {
     "data": {
      "text/plain": [
       "{'TabulatorId': 37,\n",
       " 'BatchId': 0,\n",
       " 'RecordId': 671489,\n",
       " 'CountingGroupId': 3,\n",
       " 'ImageMask': 'C:\\\\NAS\\\\Santa Fe 2018 Municipal\\\\Results\\\\Tabulator00037\\\\Batch000\\\\Images\\\\00037_00000_671489*.*',\n",
       " 'SessionType': 'ScannedVote',\n",
       " 'VotingSessionIdentifier': '',\n",
       " 'UniqueVotingIdentifier': '',\n",
       " 'Original': {'PrecinctPortionId': 2,\n",
       "  'BallotTypeId': 6,\n",
       "  'IsCurrent': True,\n",
       "  'Cards': [{'Id': 1006,\n",
       "    'PaperIndex': 0,\n",
       "    'Contests': [{'Id': 1,\n",
       "      'Undervotes': 0,\n",
       "      'Overvotes': 0,\n",
       "      'OutstackConditionIds': [],\n",
       "      'Marks': [{'CandidateId': 4,\n",
       "        'PartyId': 0,\n",
       "        'Rank': 1,\n",
       "        'MarkDensity': 93,\n",
       "        'IsAmbiguous': False,\n",
       "        'IsVote': True,\n",
       "        'OutstackConditionIds': []},\n",
       "       {'CandidateId': 3,\n",
       "        'PartyId': 0,\n",
       "        'Rank': 2,\n",
       "        'MarkDensity': 98,\n",
       "        'IsAmbiguous': False,\n",
       "        'IsVote': False,\n",
       "        'OutstackConditionIds': []},\n",
       "       {'CandidateId': 2,\n",
       "        'PartyId': 0,\n",
       "        'Rank': 3,\n",
       "        'MarkDensity': 99,\n",
       "        'IsAmbiguous': False,\n",
       "        'IsVote': False,\n",
       "        'OutstackConditionIds': []},\n",
       "       {'CandidateId': 1,\n",
       "        'PartyId': 0,\n",
       "        'Rank': 4,\n",
       "        'MarkDensity': 99,\n",
       "        'IsAmbiguous': False,\n",
       "        'IsVote': False,\n",
       "        'OutstackConditionIds': []},\n",
       "       {'CandidateId': 5,\n",
       "        'PartyId': 0,\n",
       "        'Rank': 5,\n",
       "        'MarkDensity': 99,\n",
       "        'IsAmbiguous': False,\n",
       "        'IsVote': False,\n",
       "        'OutstackConditionIds': []}]},\n",
       "     {'Id': 3,\n",
       "      'Undervotes': 0,\n",
       "      'Overvotes': 0,\n",
       "      'OutstackConditionIds': [],\n",
       "      'Marks': [{'CandidateId': 8,\n",
       "        'PartyId': 0,\n",
       "        'Rank': 1,\n",
       "        'MarkDensity': 98,\n",
       "        'IsAmbiguous': False,\n",
       "        'IsVote': True,\n",
       "        'OutstackConditionIds': []},\n",
       "       {'CandidateId': 9,\n",
       "        'PartyId': 0,\n",
       "        'Rank': 2,\n",
       "        'MarkDensity': 98,\n",
       "        'IsAmbiguous': False,\n",
       "        'IsVote': False,\n",
       "        'OutstackConditionIds': []},\n",
       "       {'CandidateId': 10,\n",
       "        'PartyId': 0,\n",
       "        'Rank': 3,\n",
       "        'MarkDensity': 100,\n",
       "        'IsAmbiguous': False,\n",
       "        'IsVote': False,\n",
       "        'OutstackConditionIds': []}]}],\n",
       "    'OutstackConditionIds': []}]}}"
      ]
     },
     "execution_count": 11,
     "metadata": {},
     "output_type": "execute_result"
    }
   ],
   "source": [
    "data['Sessions'][0]"
   ]
  },
  {
   "cell_type": "code",
   "execution_count": 12,
   "metadata": {},
   "outputs": [
    {
     "data": {
      "text/plain": [
       "dict_keys(['PrecinctPortionId', 'BallotTypeId', 'IsCurrent', 'Cards'])"
      ]
     },
     "execution_count": 12,
     "metadata": {},
     "output_type": "execute_result"
    }
   ],
   "source": [
    "data['Sessions'][0]['Original'].keys()"
   ]
  },
  {
   "cell_type": "code",
   "execution_count": 13,
   "metadata": {},
   "outputs": [
    {
     "data": {
      "text/plain": [
       "{'PrecinctPortionId': 2,\n",
       " 'BallotTypeId': 6,\n",
       " 'IsCurrent': True,\n",
       " 'Cards': [{'Id': 1006,\n",
       "   'PaperIndex': 0,\n",
       "   'Contests': [{'Id': 1,\n",
       "     'Undervotes': 0,\n",
       "     'Overvotes': 0,\n",
       "     'OutstackConditionIds': [],\n",
       "     'Marks': [{'CandidateId': 4,\n",
       "       'PartyId': 0,\n",
       "       'Rank': 1,\n",
       "       'MarkDensity': 93,\n",
       "       'IsAmbiguous': False,\n",
       "       'IsVote': True,\n",
       "       'OutstackConditionIds': []},\n",
       "      {'CandidateId': 3,\n",
       "       'PartyId': 0,\n",
       "       'Rank': 2,\n",
       "       'MarkDensity': 98,\n",
       "       'IsAmbiguous': False,\n",
       "       'IsVote': False,\n",
       "       'OutstackConditionIds': []},\n",
       "      {'CandidateId': 2,\n",
       "       'PartyId': 0,\n",
       "       'Rank': 3,\n",
       "       'MarkDensity': 99,\n",
       "       'IsAmbiguous': False,\n",
       "       'IsVote': False,\n",
       "       'OutstackConditionIds': []},\n",
       "      {'CandidateId': 1,\n",
       "       'PartyId': 0,\n",
       "       'Rank': 4,\n",
       "       'MarkDensity': 99,\n",
       "       'IsAmbiguous': False,\n",
       "       'IsVote': False,\n",
       "       'OutstackConditionIds': []},\n",
       "      {'CandidateId': 5,\n",
       "       'PartyId': 0,\n",
       "       'Rank': 5,\n",
       "       'MarkDensity': 99,\n",
       "       'IsAmbiguous': False,\n",
       "       'IsVote': False,\n",
       "       'OutstackConditionIds': []}]},\n",
       "    {'Id': 3,\n",
       "     'Undervotes': 0,\n",
       "     'Overvotes': 0,\n",
       "     'OutstackConditionIds': [],\n",
       "     'Marks': [{'CandidateId': 8,\n",
       "       'PartyId': 0,\n",
       "       'Rank': 1,\n",
       "       'MarkDensity': 98,\n",
       "       'IsAmbiguous': False,\n",
       "       'IsVote': True,\n",
       "       'OutstackConditionIds': []},\n",
       "      {'CandidateId': 9,\n",
       "       'PartyId': 0,\n",
       "       'Rank': 2,\n",
       "       'MarkDensity': 98,\n",
       "       'IsAmbiguous': False,\n",
       "       'IsVote': False,\n",
       "       'OutstackConditionIds': []},\n",
       "      {'CandidateId': 10,\n",
       "       'PartyId': 0,\n",
       "       'Rank': 3,\n",
       "       'MarkDensity': 100,\n",
       "       'IsAmbiguous': False,\n",
       "       'IsVote': False,\n",
       "       'OutstackConditionIds': []}]}],\n",
       "   'OutstackConditionIds': []}]}"
      ]
     },
     "execution_count": 13,
     "metadata": {},
     "output_type": "execute_result"
    }
   ],
   "source": [
    "data['Sessions'][0]['Original']"
   ]
  },
  {
   "cell_type": "code",
   "execution_count": 14,
   "metadata": {},
   "outputs": [
    {
     "data": {
      "text/plain": [
       "[{'Id': 1006,\n",
       "  'PaperIndex': 0,\n",
       "  'Contests': [{'Id': 1,\n",
       "    'Undervotes': 0,\n",
       "    'Overvotes': 0,\n",
       "    'OutstackConditionIds': [],\n",
       "    'Marks': [{'CandidateId': 4,\n",
       "      'PartyId': 0,\n",
       "      'Rank': 1,\n",
       "      'MarkDensity': 93,\n",
       "      'IsAmbiguous': False,\n",
       "      'IsVote': True,\n",
       "      'OutstackConditionIds': []},\n",
       "     {'CandidateId': 3,\n",
       "      'PartyId': 0,\n",
       "      'Rank': 2,\n",
       "      'MarkDensity': 98,\n",
       "      'IsAmbiguous': False,\n",
       "      'IsVote': False,\n",
       "      'OutstackConditionIds': []},\n",
       "     {'CandidateId': 2,\n",
       "      'PartyId': 0,\n",
       "      'Rank': 3,\n",
       "      'MarkDensity': 99,\n",
       "      'IsAmbiguous': False,\n",
       "      'IsVote': False,\n",
       "      'OutstackConditionIds': []},\n",
       "     {'CandidateId': 1,\n",
       "      'PartyId': 0,\n",
       "      'Rank': 4,\n",
       "      'MarkDensity': 99,\n",
       "      'IsAmbiguous': False,\n",
       "      'IsVote': False,\n",
       "      'OutstackConditionIds': []},\n",
       "     {'CandidateId': 5,\n",
       "      'PartyId': 0,\n",
       "      'Rank': 5,\n",
       "      'MarkDensity': 99,\n",
       "      'IsAmbiguous': False,\n",
       "      'IsVote': False,\n",
       "      'OutstackConditionIds': []}]},\n",
       "   {'Id': 3,\n",
       "    'Undervotes': 0,\n",
       "    'Overvotes': 0,\n",
       "    'OutstackConditionIds': [],\n",
       "    'Marks': [{'CandidateId': 8,\n",
       "      'PartyId': 0,\n",
       "      'Rank': 1,\n",
       "      'MarkDensity': 98,\n",
       "      'IsAmbiguous': False,\n",
       "      'IsVote': True,\n",
       "      'OutstackConditionIds': []},\n",
       "     {'CandidateId': 9,\n",
       "      'PartyId': 0,\n",
       "      'Rank': 2,\n",
       "      'MarkDensity': 98,\n",
       "      'IsAmbiguous': False,\n",
       "      'IsVote': False,\n",
       "      'OutstackConditionIds': []},\n",
       "     {'CandidateId': 10,\n",
       "      'PartyId': 0,\n",
       "      'Rank': 3,\n",
       "      'MarkDensity': 100,\n",
       "      'IsAmbiguous': False,\n",
       "      'IsVote': False,\n",
       "      'OutstackConditionIds': []}]}],\n",
       "  'OutstackConditionIds': []}]"
      ]
     },
     "execution_count": 14,
     "metadata": {},
     "output_type": "execute_result"
    }
   ],
   "source": [
    "data['Sessions'][0]['Original']['Cards']"
   ]
  },
  {
   "cell_type": "code",
   "execution_count": 15,
   "metadata": {},
   "outputs": [
    {
     "data": {
      "text/plain": [
       "1"
      ]
     },
     "execution_count": 15,
     "metadata": {},
     "output_type": "execute_result"
    }
   ],
   "source": [
    "len(data['Sessions'][0]['Original']['Cards'])"
   ]
  },
  {
   "cell_type": "code",
   "execution_count": 16,
   "metadata": {},
   "outputs": [
    {
     "data": {
      "text/plain": [
       "[{'Id': 1,\n",
       "  'Undervotes': 0,\n",
       "  'Overvotes': 0,\n",
       "  'OutstackConditionIds': [],\n",
       "  'Marks': [{'CandidateId': 4,\n",
       "    'PartyId': 0,\n",
       "    'Rank': 1,\n",
       "    'MarkDensity': 93,\n",
       "    'IsAmbiguous': False,\n",
       "    'IsVote': True,\n",
       "    'OutstackConditionIds': []},\n",
       "   {'CandidateId': 3,\n",
       "    'PartyId': 0,\n",
       "    'Rank': 2,\n",
       "    'MarkDensity': 98,\n",
       "    'IsAmbiguous': False,\n",
       "    'IsVote': False,\n",
       "    'OutstackConditionIds': []},\n",
       "   {'CandidateId': 2,\n",
       "    'PartyId': 0,\n",
       "    'Rank': 3,\n",
       "    'MarkDensity': 99,\n",
       "    'IsAmbiguous': False,\n",
       "    'IsVote': False,\n",
       "    'OutstackConditionIds': []},\n",
       "   {'CandidateId': 1,\n",
       "    'PartyId': 0,\n",
       "    'Rank': 4,\n",
       "    'MarkDensity': 99,\n",
       "    'IsAmbiguous': False,\n",
       "    'IsVote': False,\n",
       "    'OutstackConditionIds': []},\n",
       "   {'CandidateId': 5,\n",
       "    'PartyId': 0,\n",
       "    'Rank': 5,\n",
       "    'MarkDensity': 99,\n",
       "    'IsAmbiguous': False,\n",
       "    'IsVote': False,\n",
       "    'OutstackConditionIds': []}]},\n",
       " {'Id': 3,\n",
       "  'Undervotes': 0,\n",
       "  'Overvotes': 0,\n",
       "  'OutstackConditionIds': [],\n",
       "  'Marks': [{'CandidateId': 8,\n",
       "    'PartyId': 0,\n",
       "    'Rank': 1,\n",
       "    'MarkDensity': 98,\n",
       "    'IsAmbiguous': False,\n",
       "    'IsVote': True,\n",
       "    'OutstackConditionIds': []},\n",
       "   {'CandidateId': 9,\n",
       "    'PartyId': 0,\n",
       "    'Rank': 2,\n",
       "    'MarkDensity': 98,\n",
       "    'IsAmbiguous': False,\n",
       "    'IsVote': False,\n",
       "    'OutstackConditionIds': []},\n",
       "   {'CandidateId': 10,\n",
       "    'PartyId': 0,\n",
       "    'Rank': 3,\n",
       "    'MarkDensity': 100,\n",
       "    'IsAmbiguous': False,\n",
       "    'IsVote': False,\n",
       "    'OutstackConditionIds': []}]}]"
      ]
     },
     "execution_count": 16,
     "metadata": {},
     "output_type": "execute_result"
    }
   ],
   "source": [
    "data['Sessions'][0]['Original']['Cards'][0]['Contests']"
   ]
  },
  {
   "cell_type": "code",
   "execution_count": 17,
   "metadata": {},
   "outputs": [
    {
     "data": {
      "text/plain": [
       "2"
      ]
     },
     "execution_count": 17,
     "metadata": {},
     "output_type": "execute_result"
    }
   ],
   "source": [
    "len(data['Sessions'][0]['Original']['Cards'][0]['Contests'])"
   ]
  },
  {
   "cell_type": "markdown",
   "metadata": {},
   "source": [
    "# summarize the relevant information"
   ]
  },
  {
   "cell_type": "code",
   "execution_count": 18,
   "metadata": {},
   "outputs": [
    {
     "name": "stdout",
     "output_type": "stream",
     "text": [
      "ballot ID: 1006\n"
     ]
    }
   ],
   "source": [
    "print('ballot ID:',data['Sessions'][0]['Original']['Cards'][0]['Id'])"
   ]
  },
  {
   "cell_type": "code",
   "execution_count": 19,
   "metadata": {},
   "outputs": [
    {
     "name": "stdout",
     "output_type": "stream",
     "text": [
      "contest ID: 1\n"
     ]
    },
    {
     "data": {
      "text/html": [
       "<div>\n",
       "<style scoped>\n",
       "    .dataframe tbody tr th:only-of-type {\n",
       "        vertical-align: middle;\n",
       "    }\n",
       "\n",
       "    .dataframe tbody tr th {\n",
       "        vertical-align: top;\n",
       "    }\n",
       "\n",
       "    .dataframe thead th {\n",
       "        text-align: right;\n",
       "    }\n",
       "</style>\n",
       "<table border=\"1\" class=\"dataframe\">\n",
       "  <thead>\n",
       "    <tr style=\"text-align: right;\">\n",
       "      <th></th>\n",
       "      <th>CandidateId</th>\n",
       "      <th>IsAmbiguous</th>\n",
       "      <th>IsVote</th>\n",
       "      <th>MarkDensity</th>\n",
       "      <th>OutstackConditionIds</th>\n",
       "      <th>PartyId</th>\n",
       "      <th>Rank</th>\n",
       "    </tr>\n",
       "  </thead>\n",
       "  <tbody>\n",
       "    <tr>\n",
       "      <th>0</th>\n",
       "      <td>4</td>\n",
       "      <td>False</td>\n",
       "      <td>True</td>\n",
       "      <td>93</td>\n",
       "      <td>[]</td>\n",
       "      <td>0</td>\n",
       "      <td>1</td>\n",
       "    </tr>\n",
       "    <tr>\n",
       "      <th>1</th>\n",
       "      <td>3</td>\n",
       "      <td>False</td>\n",
       "      <td>False</td>\n",
       "      <td>98</td>\n",
       "      <td>[]</td>\n",
       "      <td>0</td>\n",
       "      <td>2</td>\n",
       "    </tr>\n",
       "    <tr>\n",
       "      <th>2</th>\n",
       "      <td>2</td>\n",
       "      <td>False</td>\n",
       "      <td>False</td>\n",
       "      <td>99</td>\n",
       "      <td>[]</td>\n",
       "      <td>0</td>\n",
       "      <td>3</td>\n",
       "    </tr>\n",
       "    <tr>\n",
       "      <th>3</th>\n",
       "      <td>1</td>\n",
       "      <td>False</td>\n",
       "      <td>False</td>\n",
       "      <td>99</td>\n",
       "      <td>[]</td>\n",
       "      <td>0</td>\n",
       "      <td>4</td>\n",
       "    </tr>\n",
       "    <tr>\n",
       "      <th>4</th>\n",
       "      <td>5</td>\n",
       "      <td>False</td>\n",
       "      <td>False</td>\n",
       "      <td>99</td>\n",
       "      <td>[]</td>\n",
       "      <td>0</td>\n",
       "      <td>5</td>\n",
       "    </tr>\n",
       "  </tbody>\n",
       "</table>\n",
       "</div>"
      ],
      "text/plain": [
       "   CandidateId  IsAmbiguous  IsVote  MarkDensity OutstackConditionIds  \\\n",
       "0            4        False    True           93                   []   \n",
       "1            3        False   False           98                   []   \n",
       "2            2        False   False           99                   []   \n",
       "3            1        False   False           99                   []   \n",
       "4            5        False   False           99                   []   \n",
       "\n",
       "   PartyId  Rank  \n",
       "0        0     1  \n",
       "1        0     2  \n",
       "2        0     3  \n",
       "3        0     4  \n",
       "4        0     5  "
      ]
     },
     "execution_count": 19,
     "metadata": {},
     "output_type": "execute_result"
    }
   ],
   "source": [
    "print('contest ID:',data['Sessions'][0]['Original']['Cards'][0]['Contests'][0]['Id'])\n",
    "pandas.DataFrame(data['Sessions'][0]['Original']['Cards'][0]['Contests'][0]['Marks'])"
   ]
  },
  {
   "cell_type": "code",
   "execution_count": 20,
   "metadata": {},
   "outputs": [
    {
     "name": "stdout",
     "output_type": "stream",
     "text": [
      "contest ID: 3\n"
     ]
    },
    {
     "data": {
      "text/html": [
       "<div>\n",
       "<style scoped>\n",
       "    .dataframe tbody tr th:only-of-type {\n",
       "        vertical-align: middle;\n",
       "    }\n",
       "\n",
       "    .dataframe tbody tr th {\n",
       "        vertical-align: top;\n",
       "    }\n",
       "\n",
       "    .dataframe thead th {\n",
       "        text-align: right;\n",
       "    }\n",
       "</style>\n",
       "<table border=\"1\" class=\"dataframe\">\n",
       "  <thead>\n",
       "    <tr style=\"text-align: right;\">\n",
       "      <th></th>\n",
       "      <th>CandidateId</th>\n",
       "      <th>IsAmbiguous</th>\n",
       "      <th>IsVote</th>\n",
       "      <th>MarkDensity</th>\n",
       "      <th>OutstackConditionIds</th>\n",
       "      <th>PartyId</th>\n",
       "      <th>Rank</th>\n",
       "    </tr>\n",
       "  </thead>\n",
       "  <tbody>\n",
       "    <tr>\n",
       "      <th>0</th>\n",
       "      <td>8</td>\n",
       "      <td>False</td>\n",
       "      <td>True</td>\n",
       "      <td>98</td>\n",
       "      <td>[]</td>\n",
       "      <td>0</td>\n",
       "      <td>1</td>\n",
       "    </tr>\n",
       "    <tr>\n",
       "      <th>1</th>\n",
       "      <td>9</td>\n",
       "      <td>False</td>\n",
       "      <td>False</td>\n",
       "      <td>98</td>\n",
       "      <td>[]</td>\n",
       "      <td>0</td>\n",
       "      <td>2</td>\n",
       "    </tr>\n",
       "    <tr>\n",
       "      <th>2</th>\n",
       "      <td>10</td>\n",
       "      <td>False</td>\n",
       "      <td>False</td>\n",
       "      <td>100</td>\n",
       "      <td>[]</td>\n",
       "      <td>0</td>\n",
       "      <td>3</td>\n",
       "    </tr>\n",
       "  </tbody>\n",
       "</table>\n",
       "</div>"
      ],
      "text/plain": [
       "   CandidateId  IsAmbiguous  IsVote  MarkDensity OutstackConditionIds  \\\n",
       "0            8        False    True           98                   []   \n",
       "1            9        False   False           98                   []   \n",
       "2           10        False   False          100                   []   \n",
       "\n",
       "   PartyId  Rank  \n",
       "0        0     1  \n",
       "1        0     2  \n",
       "2        0     3  "
      ]
     },
     "execution_count": 20,
     "metadata": {},
     "output_type": "execute_result"
    }
   ],
   "source": [
    "print('contest ID:',data['Sessions'][0]['Original']['Cards'][0]['Contests'][1]['Id'])\n",
    "pandas.DataFrame(data['Sessions'][0]['Original']['Cards'][0]['Contests'][1]['Marks'])"
   ]
  },
  {
   "cell_type": "markdown",
   "metadata": {},
   "source": [
    "# loop over all ballots"
   ]
  },
  {
   "cell_type": "code",
   "execution_count": 62,
   "metadata": {},
   "outputs": [
    {
     "name": "stdout",
     "output_type": "stream",
     "text": [
      "elapsed 175.8 seconds\n"
     ]
    }
   ],
   "source": [
    "start_time= time.time()\n",
    "reslts={}\n",
    "empty_ballot_count={}\n",
    "invalid_ballot_count={}\n",
    "total_count={}\n",
    "invalid_ranking={}\n",
    "for sess in data['Sessions']:\n",
    "    if len(sess['Original']['Cards'])>1:\n",
    "        print('duplicate card: ',len(sess['Original']['Cards']))\n",
    "    else:\n",
    "        for contest in sess['Original']['Cards'][0]['Contests']:\n",
    "            try:\n",
    "                total_count[contest['Id']]\n",
    "            except KeyError:\n",
    "                total_count[contest['Id']]=0\n",
    "            total_count[contest['Id']]+=1\n",
    "            \n",
    "            df = pandas.DataFrame(contest['Marks'])\n",
    "            if (df.shape[0]==0 and df.shape[1]==0): # empty ballot -- no marks made\n",
    "                try:\n",
    "                    empty_ballot_count[contest['Id']]                \n",
    "                except KeyError:\n",
    "                    empty_ballot_count[contest['Id']]=[]\n",
    "                empty_ballot_count[contest['Id']].append(sess['ImageMask'])\n",
    "            elif len(set([y for x in list(df['OutstackConditionIds']) for y in x]))>1: # errors in ballot\n",
    "                #print('invalid entries in',sess['ImageMask'])\n",
    "                invalid_df = df\n",
    "                try:\n",
    "                    invalid_ballot_count[contest['Id']]                \n",
    "                except KeyError:\n",
    "                    invalid_ballot_count[contest['Id']]=[]\n",
    "                invalid_ballot_count[contest['Id']].append(sess['ImageMask'])\n",
    "            elif len(df)>6:\n",
    "                print('more than 6 entries for',sess['ImageMask'])\n",
    "                excess_df = df\n",
    "                try:\n",
    "                    invalid_ballot_count[contest['Id']]                \n",
    "                except KeyError:\n",
    "                    invalid_ballot_count[contest['Id']]=[]\n",
    "                invalid_ballot_count[contest['Id']].append(sess['ImageMask'])\n",
    "            elif (len(df[df['Rank']==1]['CandidateId'].values)!=1):\n",
    "                #print('invalid number of first ranked candidates for',sess['ImageMask'])\n",
    "                try:\n",
    "                    invalid_ranking[contest['Id']]                \n",
    "                except KeyError:\n",
    "                    invalid_ranking[contest['Id']]=[]\n",
    "                invalid_ranking[contest['Id']].append(sess['ImageMask'])\n",
    "            else: # ballot exists and does not have errors\n",
    "                try:\n",
    "                    reslts[contest['Id']]                \n",
    "                except KeyError:\n",
    "                    reslts[contest['Id']]=[]\n",
    "                reslts[contest['Id']].append(df)\n",
    "\n",
    "print('elapsed',round(time.time()-start_time,2),'seconds')"
   ]
  },
  {
   "cell_type": "markdown",
   "metadata": {},
   "source": [
    "Example of invalid ballot"
   ]
  },
  {
   "cell_type": "code",
   "execution_count": 63,
   "metadata": {},
   "outputs": [
    {
     "data": {
      "text/html": [
       "<div>\n",
       "<style scoped>\n",
       "    .dataframe tbody tr th:only-of-type {\n",
       "        vertical-align: middle;\n",
       "    }\n",
       "\n",
       "    .dataframe tbody tr th {\n",
       "        vertical-align: top;\n",
       "    }\n",
       "\n",
       "    .dataframe thead th {\n",
       "        text-align: right;\n",
       "    }\n",
       "</style>\n",
       "<table border=\"1\" class=\"dataframe\">\n",
       "  <thead>\n",
       "    <tr style=\"text-align: right;\">\n",
       "      <th></th>\n",
       "      <th>CandidateId</th>\n",
       "      <th>IsAmbiguous</th>\n",
       "      <th>IsVote</th>\n",
       "      <th>MarkDensity</th>\n",
       "      <th>OutstackConditionIds</th>\n",
       "      <th>PartyId</th>\n",
       "      <th>Rank</th>\n",
       "    </tr>\n",
       "  </thead>\n",
       "  <tbody>\n",
       "    <tr>\n",
       "      <th>0</th>\n",
       "      <td>9</td>\n",
       "      <td>False</td>\n",
       "      <td>True</td>\n",
       "      <td>100</td>\n",
       "      <td>[]</td>\n",
       "      <td>0</td>\n",
       "      <td>1</td>\n",
       "    </tr>\n",
       "    <tr>\n",
       "      <th>1</th>\n",
       "      <td>8</td>\n",
       "      <td>False</td>\n",
       "      <td>False</td>\n",
       "      <td>98</td>\n",
       "      <td>[9]</td>\n",
       "      <td>0</td>\n",
       "      <td>2</td>\n",
       "    </tr>\n",
       "    <tr>\n",
       "      <th>2</th>\n",
       "      <td>9</td>\n",
       "      <td>False</td>\n",
       "      <td>False</td>\n",
       "      <td>91</td>\n",
       "      <td>[12, 9]</td>\n",
       "      <td>0</td>\n",
       "      <td>2</td>\n",
       "    </tr>\n",
       "  </tbody>\n",
       "</table>\n",
       "</div>"
      ],
      "text/plain": [
       "   CandidateId  IsAmbiguous  IsVote  MarkDensity OutstackConditionIds  \\\n",
       "0            9        False    True          100                   []   \n",
       "1            8        False   False           98                  [9]   \n",
       "2            9        False   False           91              [12, 9]   \n",
       "\n",
       "   PartyId  Rank  \n",
       "0        0     1  \n",
       "1        0     2  \n",
       "2        0     2  "
      ]
     },
     "execution_count": 63,
     "metadata": {},
     "output_type": "execute_result"
    }
   ],
   "source": [
    "invalid_df"
   ]
  },
  {
   "cell_type": "code",
   "execution_count": 64,
   "metadata": {},
   "outputs": [
    {
     "data": {
      "text/plain": [
       "{9, 12}"
      ]
     },
     "execution_count": 64,
     "metadata": {},
     "output_type": "execute_result"
    }
   ],
   "source": [
    "# https://spapas.github.io/2016/04/27/python-nested-list-comprehensions/\n",
    "set([y for x in list(invalid_df['OutstackConditionIds']) for y in x])"
   ]
  },
  {
   "cell_type": "code",
   "execution_count": 108,
   "metadata": {},
   "outputs": [
    {
     "data": {
      "text/html": [
       "<div>\n",
       "<style scoped>\n",
       "    .dataframe tbody tr th:only-of-type {\n",
       "        vertical-align: middle;\n",
       "    }\n",
       "\n",
       "    .dataframe tbody tr th {\n",
       "        vertical-align: top;\n",
       "    }\n",
       "\n",
       "    .dataframe thead th {\n",
       "        text-align: right;\n",
       "    }\n",
       "</style>\n",
       "<table border=\"1\" class=\"dataframe\">\n",
       "  <thead>\n",
       "    <tr style=\"text-align: right;\">\n",
       "      <th></th>\n",
       "      <th>total votes</th>\n",
       "    </tr>\n",
       "  </thead>\n",
       "  <tbody>\n",
       "    <tr>\n",
       "      <th>1</th>\n",
       "      <td>NaN</td>\n",
       "    </tr>\n",
       "    <tr>\n",
       "      <th>2</th>\n",
       "      <td>NaN</td>\n",
       "    </tr>\n",
       "    <tr>\n",
       "      <th>3</th>\n",
       "      <td>NaN</td>\n",
       "    </tr>\n",
       "    <tr>\n",
       "      <th>4</th>\n",
       "      <td>NaN</td>\n",
       "    </tr>\n",
       "    <tr>\n",
       "      <th>5</th>\n",
       "      <td>NaN</td>\n",
       "    </tr>\n",
       "  </tbody>\n",
       "</table>\n",
       "</div>"
      ],
      "text/plain": [
       "  total votes\n",
       "1         NaN\n",
       "2         NaN\n",
       "3         NaN\n",
       "4         NaN\n",
       "5         NaN"
      ]
     },
     "execution_count": 108,
     "metadata": {},
     "output_type": "execute_result"
    }
   ],
   "source": [
    "df = pandas.DataFrame(index=range(1,6), columns=['total votes'])\n",
    "df"
   ]
  },
  {
   "cell_type": "code",
   "execution_count": 109,
   "metadata": {},
   "outputs": [
    {
     "data": {
      "text/plain": [
       "{1: 20670, 3: 6433, 2: 7217, 4: 1940, 5: 5080}"
      ]
     },
     "execution_count": 109,
     "metadata": {},
     "output_type": "execute_result"
    }
   ],
   "source": [
    "total_count"
   ]
  },
  {
   "cell_type": "code",
   "execution_count": 110,
   "metadata": {},
   "outputs": [],
   "source": [
    "for k,v in total_count.items():\n",
    "    df.loc[k,'total votes']=v"
   ]
  },
  {
   "cell_type": "code",
   "execution_count": 111,
   "metadata": {},
   "outputs": [
    {
     "data": {
      "text/html": [
       "<div>\n",
       "<style scoped>\n",
       "    .dataframe tbody tr th:only-of-type {\n",
       "        vertical-align: middle;\n",
       "    }\n",
       "\n",
       "    .dataframe tbody tr th {\n",
       "        vertical-align: top;\n",
       "    }\n",
       "\n",
       "    .dataframe thead th {\n",
       "        text-align: right;\n",
       "    }\n",
       "</style>\n",
       "<table border=\"1\" class=\"dataframe\">\n",
       "  <thead>\n",
       "    <tr style=\"text-align: right;\">\n",
       "      <th></th>\n",
       "      <th>total votes</th>\n",
       "    </tr>\n",
       "  </thead>\n",
       "  <tbody>\n",
       "    <tr>\n",
       "      <th>1</th>\n",
       "      <td>20670</td>\n",
       "    </tr>\n",
       "    <tr>\n",
       "      <th>2</th>\n",
       "      <td>7217</td>\n",
       "    </tr>\n",
       "    <tr>\n",
       "      <th>3</th>\n",
       "      <td>6433</td>\n",
       "    </tr>\n",
       "    <tr>\n",
       "      <th>4</th>\n",
       "      <td>1940</td>\n",
       "    </tr>\n",
       "    <tr>\n",
       "      <th>5</th>\n",
       "      <td>5080</td>\n",
       "    </tr>\n",
       "  </tbody>\n",
       "</table>\n",
       "</div>"
      ],
      "text/plain": [
       "   total votes\n",
       "1        20670\n",
       "2         7217\n",
       "3         6433\n",
       "4         1940\n",
       "5         5080"
      ]
     },
     "execution_count": 111,
     "metadata": {},
     "output_type": "execute_result"
    }
   ],
   "source": [
    "df"
   ]
  },
  {
   "cell_type": "code",
   "execution_count": 112,
   "metadata": {},
   "outputs": [
    {
     "name": "stdout",
     "output_type": "stream",
     "text": [
      "valid results\n",
      "election 1 : 20237 which is 97.91 % of votes\n",
      "election 3 : 6217 which is 96.64 % of votes\n",
      "election 2 : 6767 which is 93.76 % of votes\n",
      "election 4 : 1410 which is 72.68 % of votes\n",
      "election 5 : 4834 which is 95.16 % of votes\n"
     ]
    }
   ],
   "source": [
    "print('valid results')\n",
    "for k,v in reslts.items():\n",
    "    print('election',k,':',len(v),'which is',round(len(v)*100/total_count[k],2),'% of votes')\n",
    "    df.loc[k,'valid votes']=len(v)\n",
    "    df.loc[k,'valid vote percentage']=round(len(v)*100/total_count[k],2)"
   ]
  },
  {
   "cell_type": "code",
   "execution_count": 113,
   "metadata": {},
   "outputs": [
    {
     "name": "stdout",
     "output_type": "stream",
     "text": [
      "empty votes\n",
      "election 4 : 530 which is 27.32 % of votes\n",
      "election 3 : 173 which is 2.69 % of votes\n",
      "election 2 : 447 which is 6.19 % of votes\n",
      "election 5 : 173 which is 3.41 % of votes\n",
      "election 1 : 40 which is 0.19 % of votes\n"
     ]
    }
   ],
   "source": [
    "print('empty votes')\n",
    "for k,v in empty_ballot_count.items():\n",
    "    print('election',k,':',len(v),'which is',round(len(v)*100/total_count[k],2),'% of votes')\n",
    "    df.loc[k,'empty votes']=len(v)\n",
    "    df.loc[k,'empty votes percentage']=round(len(v)*100/total_count[k],2)"
   ]
  },
  {
   "cell_type": "code",
   "execution_count": 114,
   "metadata": {},
   "outputs": [
    {
     "name": "stdout",
     "output_type": "stream",
     "text": [
      "invalid results\n",
      "election 5 : 55 which is 1.08 % of votes\n",
      "election 1 : 356 which is 1.72 % of votes\n",
      "election 3 : 33 which is 0.51 % of votes\n"
     ]
    }
   ],
   "source": [
    "print('invalid results')\n",
    "for k,v in invalid_ballot_count.items():\n",
    "    print('election',k,':',len(v),'which is',round(len(v)*100/total_count[k],2),'% of votes')\n",
    "    df.loc[k,'invalid results']=len(v)\n",
    "    df.loc[k,'invalid results percentage']=round(len(v)*100/total_count[k],2)"
   ]
  },
  {
   "cell_type": "code",
   "execution_count": 115,
   "metadata": {},
   "outputs": [
    {
     "name": "stdout",
     "output_type": "stream",
     "text": [
      "invalid ranking\n",
      "election 1 : 37 which is 0.18 % of votes\n",
      "election 3 : 10 which is 0.16 % of votes\n",
      "election 2 : 3 which is 0.04 % of votes\n",
      "election 5 : 18 which is 0.35 % of votes\n"
     ]
    }
   ],
   "source": [
    "print('no first choice')\n",
    "for k,v in invalid_ranking.items():\n",
    "    print('election',k,':',len(v),'which is',round(len(v)*100/total_count[k],2),'% of votes')\n",
    "    df.loc[k,'no first choice']=len(v)\n",
    "    df.loc[k,'no first choice percentage']=round(len(v)*100/total_count[k],2)"
   ]
  },
  {
   "cell_type": "code",
   "execution_count": 154,
   "metadata": {},
   "outputs": [],
   "source": [
    "def zip_files(dict_of_ballots,name_of_issue):\n",
    "    files_to_zip=[]\n",
    "    for k,v in dict_of_ballots.items():\n",
    "    #    print(k)\n",
    "        for ballot in v:\n",
    "            name_of_file=ballot.split('\\\\')[-1].replace('*.*','_0.tif')\n",
    "            which_dir=name_of_file.split('_')[0]\n",
    "            files_to_zip.append('voting_data/Santa_Fe/Santa Fe/2018/Ballot Images/Tabulator'+which_dir+'/Batch000/Images/'+name_of_file)\n",
    "            \n",
    "    with zipfile.ZipFile('sante_fe_ballots_'+name_of_issue+'.zip', 'w') as zipMe:        \n",
    "        for file in files_to_zip:\n",
    "            try:\n",
    "                zipMe.write(file, arcname=file.split('/')[-1], compress_type=zipfile.ZIP_DEFLATED)\n",
    "            except FileNotFoundError: # I unzipped only some of the .zip, so not all .tif files are available\n",
    "                pass\n",
    "    return"
   ]
  },
  {
   "cell_type": "code",
   "execution_count": 155,
   "metadata": {},
   "outputs": [],
   "source": [
    "zip_files(invalid_ranking,'no_first_choice')"
   ]
  },
  {
   "cell_type": "code",
   "execution_count": 158,
   "metadata": {},
   "outputs": [],
   "source": [
    "zip_files(invalid_ballot_count,'invalid_results')"
   ]
  },
  {
   "cell_type": "code",
   "execution_count": 116,
   "metadata": {},
   "outputs": [
    {
     "data": {
      "text/html": [
       "<div>\n",
       "<style scoped>\n",
       "    .dataframe tbody tr th:only-of-type {\n",
       "        vertical-align: middle;\n",
       "    }\n",
       "\n",
       "    .dataframe tbody tr th {\n",
       "        vertical-align: top;\n",
       "    }\n",
       "\n",
       "    .dataframe thead th {\n",
       "        text-align: right;\n",
       "    }\n",
       "</style>\n",
       "<table border=\"1\" class=\"dataframe\">\n",
       "  <thead>\n",
       "    <tr style=\"text-align: right;\">\n",
       "      <th></th>\n",
       "      <th>total votes</th>\n",
       "      <th>valid votes</th>\n",
       "      <th>valid vote percentage</th>\n",
       "      <th>empty votes</th>\n",
       "      <th>empty votes percentage</th>\n",
       "      <th>invalid results</th>\n",
       "      <th>invalid results percentage</th>\n",
       "      <th>invalid ranking</th>\n",
       "      <th>invalid ranking percentage</th>\n",
       "    </tr>\n",
       "  </thead>\n",
       "  <tbody>\n",
       "    <tr>\n",
       "      <th>1</th>\n",
       "      <td>20670</td>\n",
       "      <td>20237.0</td>\n",
       "      <td>97.91</td>\n",
       "      <td>40.0</td>\n",
       "      <td>0.19</td>\n",
       "      <td>356.0</td>\n",
       "      <td>1.72</td>\n",
       "      <td>37.0</td>\n",
       "      <td>0.18</td>\n",
       "    </tr>\n",
       "    <tr>\n",
       "      <th>2</th>\n",
       "      <td>7217</td>\n",
       "      <td>6767.0</td>\n",
       "      <td>93.76</td>\n",
       "      <td>447.0</td>\n",
       "      <td>6.19</td>\n",
       "      <td>NaN</td>\n",
       "      <td>NaN</td>\n",
       "      <td>3.0</td>\n",
       "      <td>0.04</td>\n",
       "    </tr>\n",
       "    <tr>\n",
       "      <th>3</th>\n",
       "      <td>6433</td>\n",
       "      <td>6217.0</td>\n",
       "      <td>96.64</td>\n",
       "      <td>173.0</td>\n",
       "      <td>2.69</td>\n",
       "      <td>33.0</td>\n",
       "      <td>0.51</td>\n",
       "      <td>10.0</td>\n",
       "      <td>0.16</td>\n",
       "    </tr>\n",
       "    <tr>\n",
       "      <th>4</th>\n",
       "      <td>1940</td>\n",
       "      <td>1410.0</td>\n",
       "      <td>72.68</td>\n",
       "      <td>530.0</td>\n",
       "      <td>27.32</td>\n",
       "      <td>NaN</td>\n",
       "      <td>NaN</td>\n",
       "      <td>NaN</td>\n",
       "      <td>NaN</td>\n",
       "    </tr>\n",
       "    <tr>\n",
       "      <th>5</th>\n",
       "      <td>5080</td>\n",
       "      <td>4834.0</td>\n",
       "      <td>95.16</td>\n",
       "      <td>173.0</td>\n",
       "      <td>3.41</td>\n",
       "      <td>55.0</td>\n",
       "      <td>1.08</td>\n",
       "      <td>18.0</td>\n",
       "      <td>0.35</td>\n",
       "    </tr>\n",
       "  </tbody>\n",
       "</table>\n",
       "</div>"
      ],
      "text/plain": [
       "   total votes  valid votes  valid vote percentage  empty votes  \\\n",
       "1        20670      20237.0                  97.91         40.0   \n",
       "2         7217       6767.0                  93.76        447.0   \n",
       "3         6433       6217.0                  96.64        173.0   \n",
       "4         1940       1410.0                  72.68        530.0   \n",
       "5         5080       4834.0                  95.16        173.0   \n",
       "\n",
       "   empty votes percentage  invalid results  invalid results percentage  \\\n",
       "1                    0.19            356.0                        1.72   \n",
       "2                    6.19              NaN                         NaN   \n",
       "3                    2.69             33.0                        0.51   \n",
       "4                   27.32              NaN                         NaN   \n",
       "5                    3.41             55.0                        1.08   \n",
       "\n",
       "   invalid ranking  invalid ranking percentage  \n",
       "1             37.0                        0.18  \n",
       "2              3.0                        0.04  \n",
       "3             10.0                        0.16  \n",
       "4              NaN                         NaN  \n",
       "5             18.0                        0.35  "
      ]
     },
     "execution_count": 116,
     "metadata": {},
     "output_type": "execute_result"
    }
   ],
   "source": [
    "df"
   ]
  },
  {
   "cell_type": "code",
   "execution_count": 27,
   "metadata": {},
   "outputs": [],
   "source": [
    "number_of_votes_cast = [len(vote_df) for vote_df in reslts[1]]"
   ]
  },
  {
   "cell_type": "code",
   "execution_count": 28,
   "metadata": {},
   "outputs": [
    {
     "data": {
      "text/plain": [
       "1"
      ]
     },
     "execution_count": 28,
     "metadata": {},
     "output_type": "execute_result"
    }
   ],
   "source": [
    "min(number_of_votes_cast)"
   ]
  },
  {
   "cell_type": "code",
   "execution_count": 29,
   "metadata": {},
   "outputs": [
    {
     "data": {
      "text/plain": [
       "5"
      ]
     },
     "execution_count": 29,
     "metadata": {},
     "output_type": "execute_result"
    }
   ],
   "source": [
    "max(number_of_votes_cast)"
   ]
  },
  {
   "cell_type": "code",
   "execution_count": 30,
   "metadata": {},
   "outputs": [
    {
     "data": {
      "text/plain": [
       "(array([  2499.,   1875.,   1837.,    840.,  13186.,      0.]),\n",
       " array([1, 2, 3, 4, 5, 6, 7]),\n",
       " <a list of 6 Patch objects>)"
      ]
     },
     "execution_count": 30,
     "metadata": {},
     "output_type": "execute_result"
    },
    {
     "data": {
      "image/png": "[encoded data removed]",
      "text/plain": [
       "<Figure size 432x288 with 1 Axes>"
      ]
     },
     "metadata": {
      "needs_background": "light"
     },
     "output_type": "display_data"
    }
   ],
   "source": [
    "plt.hist(number_of_votes_cast,bins=[1,2,3,4,5,6,7])"
   ]
  },
  {
   "cell_type": "markdown",
   "metadata": {},
   "source": [
    "# categorize first round for an election"
   ]
  },
  {
   "cell_type": "code",
   "execution_count": 31,
   "metadata": {},
   "outputs": [
    {
     "data": {
      "text/html": [
       "<div>\n",
       "<style scoped>\n",
       "    .dataframe tbody tr th:only-of-type {\n",
       "        vertical-align: middle;\n",
       "    }\n",
       "\n",
       "    .dataframe tbody tr th {\n",
       "        vertical-align: top;\n",
       "    }\n",
       "\n",
       "    .dataframe thead th {\n",
       "        text-align: right;\n",
       "    }\n",
       "</style>\n",
       "<table border=\"1\" class=\"dataframe\">\n",
       "  <thead>\n",
       "    <tr style=\"text-align: right;\">\n",
       "      <th></th>\n",
       "      <th>CandidateId</th>\n",
       "      <th>IsAmbiguous</th>\n",
       "      <th>IsVote</th>\n",
       "      <th>MarkDensity</th>\n",
       "      <th>OutstackConditionIds</th>\n",
       "      <th>PartyId</th>\n",
       "      <th>Rank</th>\n",
       "    </tr>\n",
       "  </thead>\n",
       "  <tbody>\n",
       "    <tr>\n",
       "      <th>0</th>\n",
       "      <td>4</td>\n",
       "      <td>False</td>\n",
       "      <td>True</td>\n",
       "      <td>93</td>\n",
       "      <td>[]</td>\n",
       "      <td>0</td>\n",
       "      <td>1</td>\n",
       "    </tr>\n",
       "    <tr>\n",
       "      <th>1</th>\n",
       "      <td>3</td>\n",
       "      <td>False</td>\n",
       "      <td>False</td>\n",
       "      <td>98</td>\n",
       "      <td>[]</td>\n",
       "      <td>0</td>\n",
       "      <td>2</td>\n",
       "    </tr>\n",
       "    <tr>\n",
       "      <th>2</th>\n",
       "      <td>2</td>\n",
       "      <td>False</td>\n",
       "      <td>False</td>\n",
       "      <td>99</td>\n",
       "      <td>[]</td>\n",
       "      <td>0</td>\n",
       "      <td>3</td>\n",
       "    </tr>\n",
       "    <tr>\n",
       "      <th>3</th>\n",
       "      <td>1</td>\n",
       "      <td>False</td>\n",
       "      <td>False</td>\n",
       "      <td>99</td>\n",
       "      <td>[]</td>\n",
       "      <td>0</td>\n",
       "      <td>4</td>\n",
       "    </tr>\n",
       "    <tr>\n",
       "      <th>4</th>\n",
       "      <td>5</td>\n",
       "      <td>False</td>\n",
       "      <td>False</td>\n",
       "      <td>99</td>\n",
       "      <td>[]</td>\n",
       "      <td>0</td>\n",
       "      <td>5</td>\n",
       "    </tr>\n",
       "  </tbody>\n",
       "</table>\n",
       "</div>"
      ],
      "text/plain": [
       "   CandidateId  IsAmbiguous  IsVote  MarkDensity OutstackConditionIds  \\\n",
       "0            4        False    True           93                   []   \n",
       "1            3        False   False           98                   []   \n",
       "2            2        False   False           99                   []   \n",
       "3            1        False   False           99                   []   \n",
       "4            5        False   False           99                   []   \n",
       "\n",
       "   PartyId  Rank  \n",
       "0        0     1  \n",
       "1        0     2  \n",
       "2        0     3  \n",
       "3        0     4  \n",
       "4        0     5  "
      ]
     },
     "execution_count": 31,
     "metadata": {},
     "output_type": "execute_result"
    }
   ],
   "source": [
    "df = reslts[1][0]\n",
    "df"
   ]
  },
  {
   "cell_type": "code",
   "execution_count": 32,
   "metadata": {},
   "outputs": [
    {
     "data": {
      "text/plain": [
       "4"
      ]
     },
     "execution_count": 32,
     "metadata": {},
     "output_type": "execute_result"
    }
   ],
   "source": [
    "df[df['Rank']==1]['CandidateId'].values[0]"
   ]
  },
  {
   "cell_type": "code",
   "execution_count": 33,
   "metadata": {},
   "outputs": [
    {
     "name": "stdout",
     "output_type": "stream",
     "text": [
      "elapsed 24.73 seconds\n"
     ]
    }
   ],
   "source": [
    "start_time=time.time()\n",
    "which_candidate=[]\n",
    "for vote_df in reslts[1]:\n",
    "    list_of_first_rank_candidates = vote_df[vote_df['Rank']==1]['CandidateId'].values\n",
    "    if len(list_of_first_rank_candidates)==1:\n",
    "        which_candidate.append(list_of_first_rank_candidates[0])\n",
    "    else:\n",
    "        print('number of first rank candidates=',len(list_of_first_rank_candidates))\n",
    "        print(vote_df)\n",
    "        \n",
    "print('elapsed',round(time.time()-start_time,2),'seconds')"
   ]
  },
  {
   "cell_type": "code",
   "execution_count": 35,
   "metadata": {},
   "outputs": [
    {
     "data": {
      "text/plain": [
       "20237"
      ]
     },
     "execution_count": 35,
     "metadata": {},
     "output_type": "execute_result"
    }
   ],
   "source": [
    "len(which_candidate)"
   ]
  },
  {
   "cell_type": "code",
   "execution_count": 36,
   "metadata": {},
   "outputs": [
    {
     "data": {
      "text/plain": [
       "[4, 2, 4, 3, 2, 2, 2, 2, 3, 2]"
      ]
     },
     "execution_count": 36,
     "metadata": {},
     "output_type": "execute_result"
    }
   ],
   "source": [
    "which_candidate[0:10]"
   ]
  },
  {
   "cell_type": "code",
   "execution_count": 39,
   "metadata": {},
   "outputs": [
    {
     "data": {
      "text/plain": [
       "(array([ 1212.,  7985.,  4541.,  1620.,  4879.]),\n",
       " array([1, 2, 3, 4, 5, 6]),\n",
       " <a list of 5 Patch objects>)"
      ]
     },
     "execution_count": 39,
     "metadata": {},
     "output_type": "execute_result"
    },
    {
     "data": {
      "image/png": "[encoded data removed]",
      "text/plain": [
       "<Figure size 432x288 with 1 Axes>"
      ]
     },
     "metadata": {
      "needs_background": "light"
     },
     "output_type": "display_data"
    }
   ],
   "source": [
    "plt.hist(which_candidate,bins=[1,2,3,4,5,6])"
   ]
  },
  {
   "cell_type": "code",
   "execution_count": 46,
   "metadata": {},
   "outputs": [
    {
     "name": "stdout",
     "output_type": "stream",
     "text": [
      "values [1 2 3 4 5]\n",
      "counts [1212 7985 4541 1620 4879]\n",
      "total number of votes= 20237\n"
     ]
    },
    {
     "data": {
      "text/plain": [
       "[(1, 1212), (2, 7985), (3, 4541), (4, 1620), (5, 4879)]"
      ]
     },
     "execution_count": 46,
     "metadata": {},
     "output_type": "execute_result"
    }
   ],
   "source": [
    "values, counts = numpy.unique(which_candidate, return_counts=True)\n",
    "print('values',values)\n",
    "print('counts',counts)\n",
    "print('total number of votes=',sum(counts))\n",
    "list(zip(values,counts))"
   ]
  },
  {
   "cell_type": "code",
   "execution_count": 49,
   "metadata": {},
   "outputs": [
    {
     "data": {
      "text/plain": [
       "[0.05989029994564412,\n",
       " 0.39457429460888471,\n",
       " 0.22439096704056927,\n",
       " 0.080051391016455004,\n",
       " 0.24109304738844689]"
      ]
     },
     "execution_count": 49,
     "metadata": {},
     "output_type": "execute_result"
    }
   ],
   "source": [
    "percentages = [x/sum(counts) for x in counts]\n",
    "percentages"
   ]
  },
  {
   "cell_type": "markdown",
   "metadata": {},
   "source": [
    "Objective for this notebook: separate the elections into the following categories:\n",
    "\n",
    "1. Leading candidate in the first round has greater than 50% first choice votes\n",
    "1. Leading candidate in the first round has between 45-50% first choice votes\n",
    "1. Leading candidate in the first round has less than 45% of first choice votes"
   ]
  },
  {
   "cell_type": "code",
   "execution_count": 52,
   "metadata": {},
   "outputs": [],
   "source": [
    "def which_cat(percentages):\n",
    "    if max(percentages)>0.5:\n",
    "        print(\"Leading candidate in the first round has greater than 50% first choice votes\")\n",
    "    elif max(percentages)<=0.5 and max(percentages)>=0.45:\n",
    "        print(\"Leading candidate in the first round has between 45-50% first choice votes\")\n",
    "    elif max(percentages)<0.45:\n",
    "        print(\"Leading candidate in the first round has less than 45% of first choice votes\")\n",
    "    else:\n",
    "        raise Exception(\"invalid outcome\")\n",
    "    return"
   ]
  },
  {
   "cell_type": "code",
   "execution_count": 53,
   "metadata": {},
   "outputs": [
    {
     "name": "stdout",
     "output_type": "stream",
     "text": [
      "Leading candidate in the first round has less than 45% of first choice votes\n"
     ]
    }
   ],
   "source": [
    "which_cat(percentages)"
   ]
  },
  {
   "cell_type": "markdown",
   "metadata": {},
   "source": [
    "# categorize first round for each election"
   ]
  },
  {
   "cell_type": "code",
   "execution_count": 60,
   "metadata": {},
   "outputs": [
    {
     "name": "stdout",
     "output_type": "stream",
     "text": [
      "Leading candidate in the first round has less than 45% of first choice votes\n",
      "Leading candidate in the first round has less than 45% of first choice votes\n",
      "Leading candidate in the first round has less than 45% of first choice votes\n",
      "Leading candidate in the first round has less than 45% of first choice votes\n",
      "Leading candidate in the first round has less than 45% of first choice votes\n",
      "elapsed 47.06 seconds\n"
     ]
    }
   ],
   "source": [
    "start_time=time.time()\n",
    "which_candidate=[]\n",
    "for election_id,election in reslts.items():\n",
    "    for vote_df in election:\n",
    "        list_of_first_rank_candidates = vote_df[vote_df['Rank']==1]['CandidateId'].values\n",
    "        if len(list_of_first_rank_candidates)==1:\n",
    "            which_candidate.append(list_of_first_rank_candidates[0])\n",
    "        else:\n",
    "            print('number of first rank candidates=',len(list_of_first_rank_candidates))\n",
    "            print(vote_df)\n",
    "    values, counts = numpy.unique(which_candidate, return_counts=True)\n",
    "    percentages = [x/sum(counts) for x in counts]\n",
    "    which_cat(percentages)\n",
    "print('elapsed',round(time.time()-start_time,2),'seconds')"
   ]
  }
 ],
 "metadata": {
  "kernelspec": {
   "display_name": "Python 3",
   "language": "python",
   "name": "python3"
  },
  "language_info": {
   "codemirror_mode": {
    "name": "ipython",
    "version": 3
   },
   "file_extension": ".py",
   "mimetype": "text/x-python",
   "name": "python",
   "nbconvert_exporter": "python",
   "pygments_lexer": "ipython3",
   "version": "3.6.7"
  }
 },
 "nbformat": 4,
 "nbformat_minor": 2
}
