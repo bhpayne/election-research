{
 "cells": [
  {
   "cell_type": "code",
   "execution_count": null,
   "metadata": {},
   "outputs": [],
   "source": []
  },
  {
   "cell_type": "markdown",
   "metadata": {},
   "source": [
    "Cambridge ballot data is in three formats: \n",
    "* a .XLS report for 2013\n",
    "* chp/prm files (meta data and ballot data, respectively) for 3 elections -- 2015 school, 2015 council, and 2001 council\n",
    "* a PDF; I don't understand the content. "
   ]
  },
  {
   "cell_type": "code",
   "execution_count": 1,
   "metadata": {},
   "outputs": [],
   "source": [
    "import glob"
   ]
  },
  {
   "cell_type": "code",
   "execution_count": 9,
   "metadata": {},
   "outputs": [
    {
     "name": "stdout",
     "output_type": "stream",
     "text": [
      "voting_data/Cambridge/Cambridge/2013/2013 Cambridge round-by-round FINAL.xls\n",
      "voting_data/Cambridge/Cambridge/2015/school2015.zip\n",
      "voting_data/Cambridge/Cambridge/2015/school2015.chp\n",
      "voting_data/Cambridge/Cambridge/2015/School2015.prm\n",
      "voting_data/Cambridge/Cambridge/2015/council2015.chp\n",
      "voting_data/Cambridge/Cambridge/2015/council2015.zip\n",
      "voting_data/Cambridge/Cambridge/2015/Council2015.prm\n",
      "voting_data/Cambridge/Cambridge/2001/Council - Wednesday/1002.PRM\n",
      "voting_data/Cambridge/Cambridge/2001/Council - Wednesday/1001.PRM\n",
      "voting_data/Cambridge/Cambridge/2007/RandomDrawFax.pdf\n"
     ]
    }
   ],
   "source": [
    "!find voting_data/Cambridge/Cambridge/ -type f | grep -v DS_Store"
   ]
  },
  {
   "cell_type": "code",
   "execution_count": null,
   "metadata": {},
   "outputs": [],
   "source": []
  }
 ],
 "metadata": {
  "kernelspec": {
   "display_name": "Python 3",
   "language": "python",
   "name": "python3"
  },
  "language_info": {
   "codemirror_mode": {
    "name": "ipython",
    "version": 3
   },
   "file_extension": ".py",
   "mimetype": "text/x-python",
   "name": "python",
   "nbconvert_exporter": "python",
   "pygments_lexer": "ipython3",
   "version": "3.6.7"
  }
 },
 "nbformat": 4,
 "nbformat_minor": 2
}
