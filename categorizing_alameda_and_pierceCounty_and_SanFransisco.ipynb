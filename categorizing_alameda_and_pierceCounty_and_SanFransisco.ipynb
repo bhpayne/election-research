{
 "cells": [
  {
   "cell_type": "markdown",
   "metadata": {},
   "source": [
    "In this notebook the voting records from Alameda are"
   ]
  },
  {
   "cell_type": "markdown",
   "metadata": {},
   "source": [
    "data source: https://www.rankedchoicevoting.org/data_clearinghouse\n",
    "\n",
    "RCV definition: https://ballotpedia.org/Ranked-choice_voting_(RCV)\n",
    "\n",
    "Additional analysis: \n",
    "* http://archive3.fairvote.org/press/san-leandro-facts/\n",
    "* https://laurendo.wordpress.com/2010/11/24/running-the-numbers/\n",
    "* http://www.acgov.org/rov/rcv/results/index.htm"
   ]
  },
  {
   "cell_type": "markdown",
   "metadata": {},
   "source": [
    "Objective for this notebook: separate the elections into the following categories:\n",
    "\n",
    "1. Leading candidate in the first round has greater than 50% first choice votes\n",
    "1. Leading candidate in the first round has between 45-50% first choice votes\n",
    "1. Leading candidate in the first round has less than 45% of first choice votes "
   ]
  },
  {
   "cell_type": "code",
   "execution_count": 1,
   "metadata": {},
   "outputs": [
    {
     "name": "stdout",
     "output_type": "stream",
     "text": [
      "pandas 0.23.4\n"
     ]
    }
   ],
   "source": [
    "import glob\n",
    "import pandas\n",
    "import time\n",
    "import csv\n",
    "import re\n",
    "print('pandas',pandas.__version__)"
   ]
  },
  {
   "cell_type": "markdown",
   "metadata": {},
   "source": [
    "# data gathering: download all folders from drive manually"
   ]
  },
  {
   "cell_type": "markdown",
   "metadata": {},
   "source": [
    "all the data: \n",
    "https://drive.google.com/drive/folders/1DJzIrTaDW3GSGJTkPTGAlpAMbozFG_pm\n",
    "\n",
    "download all content as a zip. Size is 1.5 GB. Of this, Sante Fe is 1.4GB\n",
    "\n",
    "I started with just \"Alameda County, CA (Berkeley, Oakland, San Leandro)\" which is 18MB as a .zip\n",
    "\n",
    "https://drive.google.com/drive/folders/1u_airJzoLC2PMYMHcF2KYJEKxxKBi5H7"
   ]
  },
  {
   "cell_type": "raw",
   "metadata": {},
   "source": [
    "!mkdir voting_data\n",
    "!mkdir voting_data/Alameda\n",
    "!unzip voting_data/Alameda/drive-download-20190724T221439Z-001.zip"
   ]
  },
  {
   "cell_type": "markdown",
   "metadata": {},
   "source": [
    "# get raw data"
   ]
  },
  {
   "cell_type": "code",
   "execution_count": 2,
   "metadata": {},
   "outputs": [
    {
     "name": "stdout",
     "output_type": "stream",
     "text": [
      "number of election results to parse: 48\n"
     ]
    }
   ],
   "source": [
    "#list_of_ballot_files = glob.glob('voting_data/Alameda/Alameda (Oakland, San Leandro, Berkeley) 2010/ballot_image_*')\n",
    "list_of_ballot_files = glob.glob('voting_data/Alameda/**/ballot_image*.txt',recursive=True)\n",
    "print('number of election results to parse:',len(list_of_ballot_files))"
   ]
  },
  {
   "cell_type": "code",
   "execution_count": 3,
   "metadata": {},
   "outputs": [
    {
     "name": "stdout",
     "output_type": "stream",
     "text": [
      "number of ballot lookup tables: 51\n"
     ]
    }
   ],
   "source": [
    "list_of_lookup_files = glob.glob('voting_data/Alameda/**/master_lookup_*',recursive=True)\n",
    "print('number of ballot lookup tables:',len(list_of_lookup_files))"
   ]
  },
  {
   "cell_type": "markdown",
   "metadata": {},
   "source": [
    "# pair ballot results with lookup table files"
   ]
  },
  {
   "cell_type": "code",
   "execution_count": 4,
   "metadata": {},
   "outputs": [],
   "source": [
    "def create_ballot_lookup_tuples(list_of_ballot_files,list_of_lookup_files):\n",
    "    list_of_ballots_and_lookups=[]\n",
    "    for this_ballot in list_of_ballot_files:\n",
    "        ballot_name = this_ballot.split('/')[-1].replace('ballot_image_','').strip().replace('.txt','').replace(' ','_')\n",
    "        found_match=False\n",
    "        for this_lookup in list_of_lookup_files:\n",
    "            lookup_name = this_lookup.split('/')[-1].replace('master_lookup_','').strip().replace('.txt','').replace(' ','_')\n",
    "            if ballot_name == lookup_name:\n",
    "                list_of_ballots_and_lookups.append((this_ballot,this_lookup))\n",
    "                found_match=True\n",
    "        if not found_match:\n",
    "            print('no lookup found for',this_ballot)\n",
    "            list_of_ballots_and_lookups.append((this_ballot,None))\n",
    "    return list_of_ballots_and_lookups"
   ]
  },
  {
   "cell_type": "code",
   "execution_count": 5,
   "metadata": {},
   "outputs": [
    {
     "name": "stdout",
     "output_type": "stream",
     "text": [
      "no lookup found for voting_data/Alameda/Alameda (Oakland, San Leandro, Berkeley) 2016/BerkeleyCouncilD3/ballot_image.txt\n",
      "no lookup found for voting_data/Alameda/Alameda (Oakland, San Leandro, Berkeley) 2016/BerkeleyCouncilD2/ballot_image.txt\n",
      "no lookup found for voting_data/Alameda/Alameda (Oakland, San Leandro, Berkeley) 2016/BerkeleyCouncilD5/ballot_image.txt\n",
      "no lookup found for voting_data/Alameda/Alameda (Oakland, San Leandro, Berkeley) 2016/OaklandSchoolD1/ballot_image.txt\n",
      "no lookup found for voting_data/Alameda/Alameda (Oakland, San Leandro, Berkeley) 2016/OaklandCouncilD7/ballot_image.txt\n",
      "no lookup found for voting_data/Alameda/Alameda (Oakland, San Leandro, Berkeley) 2016/BerkeleyMayor/ballot_image.txt\n",
      "no lookup found for voting_data/Alameda/Alameda (Oakland, San Leandro, Berkeley) 2016/OaklandCouncilD1/ballot_image.txt\n",
      "no lookup found for voting_data/Alameda/Alameda (Oakland, San Leandro, Berkeley) 2016/OaklandSchoolD7/ballot_image.txt\n",
      "no lookup found for voting_data/Alameda/Alameda (Oakland, San Leandro, Berkeley) 2016/SanLeandroCouncilD2/ballot_image.txt\n",
      "no lookup found for voting_data/Alameda/Alameda (Oakland, San Leandro, Berkeley) 2016/SanLeandroCouncilD4/ballot_image.txt\n",
      "no lookup found for voting_data/Alameda/Alameda (Oakland, San Leandro, Berkeley) 2016/BerkeleyCouncilD6/ballot_image.txt\n",
      "no lookup found for voting_data/Alameda/Alameda (Oakland, San Leandro, Berkeley) 2016/OaklandSchoolD5/ballot_image.txt\n",
      "no lookup found for voting_data/Alameda/Alameda (Oakland, San Leandro, Berkeley) 2016/OaklandCouncilD3/ballot_image.txt\n",
      "no lookup found for voting_data/Alameda/Alameda (Oakland, San Leandro, Berkeley) 2016/OaklandCouncilD5/ballot_image.txt\n",
      "no lookup found for voting_data/Alameda/Alameda (Oakland, San Leandro, Berkeley) 2016/OaklandSchoolD3/ballot_image.txt\n",
      "no lookup found for voting_data/Alameda/Alameda (Oakland, San Leandro, Berkeley) 2016/OaklandCouncilAtLrg/ballot_image.txt\n",
      "no lookup found for voting_data/Alameda/Alameda (Oakland, San Leandro, Berkeley) 2016/OaklandAttorney/ballot_image.txt\n",
      "no lookup found for voting_data/Alameda/Alameda (Oakland, San Leandro, Berkeley) 2016/SanLeandroCouncilD6/ballot_image.txt\n",
      "no lookup found for voting_data/Alameda/Alameda (Oakland, San Leandro, Berkeley) 2017/BerkCouncilD4/ballot_image.txt\n",
      "number of paired files found: 48\n"
     ]
    }
   ],
   "source": [
    "list_of_ballots_and_lookups = create_ballot_lookup_tuples(list_of_ballot_files,list_of_lookup_files)\n",
    "print('number of paired files found:',len(list_of_ballots_and_lookups))"
   ]
  },
  {
   "cell_type": "markdown",
   "metadata": {},
   "source": [
    "convert ballot to dataframe"
   ]
  },
  {
   "cell_type": "code",
   "execution_count": 6,
   "metadata": {},
   "outputs": [],
   "source": [
    "def vote_table(ballot_file):\n",
    "    fwf=False\n",
    "    with open(ballot_file,'r') as fil:\n",
    "        file_contents = fil.readlines()\n",
    "        if len(file_contents[0].strip())==45:\n",
    "            fwf=True\n",
    "    \n",
    "    if fwf:\n",
    "        df = pandas.read_fwf(ballot_file,\n",
    "                         header=None,\n",
    "                         widths=[7,9,7,3,7,3,7,1,1])\n",
    "        df.columns=['contest_id','pref_voter_id',\n",
    "            'serial_number','tally_type_id',\n",
    "            'precinct_id','Vote_Rank',\n",
    "            'CandidateID','over_vote','under_vote']\n",
    "        df_cand = df[df['CandidateID']!=0] # drop rows where no candidate is specified\n",
    "    else:\n",
    "        df_cand = pandas.read_csv(ballot_file, sep='\\t', engine='python')#,delim_whitespace=True)\n",
    "\n",
    "    return df_cand"
   ]
  },
  {
   "cell_type": "markdown",
   "metadata": {},
   "source": [
    "let's see what that looks like for a ballot file"
   ]
  },
  {
   "cell_type": "code",
   "execution_count": 7,
   "metadata": {},
   "outputs": [
    {
     "name": "stdout",
     "output_type": "stream",
     "text": [
      "elapsed 14.95 seconds\n"
     ]
    }
   ],
   "source": [
    "start_time=time.time()\n",
    "df_votes = vote_table(list_of_ballots_and_lookups[0][0])\n",
    "df_votes.shape\n",
    "print('elapsed',round(time.time()-start_time,2),'seconds')"
   ]
  },
  {
   "cell_type": "code",
   "execution_count": 8,
   "metadata": {},
   "outputs": [
    {
     "data": {
      "text/html": [
       "<div>\n",
       "<style scoped>\n",
       "    .dataframe tbody tr th:only-of-type {\n",
       "        vertical-align: middle;\n",
       "    }\n",
       "\n",
       "    .dataframe tbody tr th {\n",
       "        vertical-align: top;\n",
       "    }\n",
       "\n",
       "    .dataframe thead th {\n",
       "        text-align: right;\n",
       "    }\n",
       "</style>\n",
       "<table border=\"1\" class=\"dataframe\">\n",
       "  <thead>\n",
       "    <tr style=\"text-align: right;\">\n",
       "      <th></th>\n",
       "      <th>contest_id</th>\n",
       "      <th>pref_voter_id</th>\n",
       "      <th>serial_number</th>\n",
       "      <th>tally_type_id</th>\n",
       "      <th>precinct_id</th>\n",
       "      <th>Vote_Rank</th>\n",
       "      <th>CandidateID</th>\n",
       "      <th>over_vote</th>\n",
       "      <th>under_vote</th>\n",
       "    </tr>\n",
       "  </thead>\n",
       "  <tbody>\n",
       "    <tr>\n",
       "      <th>0</th>\n",
       "      <td>68</td>\n",
       "      <td>30773</td>\n",
       "      <td>1</td>\n",
       "      <td>3</td>\n",
       "      <td>101</td>\n",
       "      <td>1</td>\n",
       "      <td>394</td>\n",
       "      <td>0</td>\n",
       "      <td>0</td>\n",
       "    </tr>\n",
       "    <tr>\n",
       "      <th>1</th>\n",
       "      <td>68</td>\n",
       "      <td>30773</td>\n",
       "      <td>1</td>\n",
       "      <td>3</td>\n",
       "      <td>101</td>\n",
       "      <td>2</td>\n",
       "      <td>395</td>\n",
       "      <td>0</td>\n",
       "      <td>0</td>\n",
       "    </tr>\n",
       "    <tr>\n",
       "      <th>3</th>\n",
       "      <td>68</td>\n",
       "      <td>30774</td>\n",
       "      <td>1</td>\n",
       "      <td>3</td>\n",
       "      <td>101</td>\n",
       "      <td>1</td>\n",
       "      <td>395</td>\n",
       "      <td>0</td>\n",
       "      <td>0</td>\n",
       "    </tr>\n",
       "    <tr>\n",
       "      <th>6</th>\n",
       "      <td>68</td>\n",
       "      <td>30775</td>\n",
       "      <td>1</td>\n",
       "      <td>3</td>\n",
       "      <td>101</td>\n",
       "      <td>1</td>\n",
       "      <td>394</td>\n",
       "      <td>0</td>\n",
       "      <td>0</td>\n",
       "    </tr>\n",
       "    <tr>\n",
       "      <th>9</th>\n",
       "      <td>68</td>\n",
       "      <td>30776</td>\n",
       "      <td>1</td>\n",
       "      <td>3</td>\n",
       "      <td>101</td>\n",
       "      <td>1</td>\n",
       "      <td>394</td>\n",
       "      <td>0</td>\n",
       "      <td>0</td>\n",
       "    </tr>\n",
       "  </tbody>\n",
       "</table>\n",
       "</div>"
      ],
      "text/plain": [
       "   contest_id  pref_voter_id  serial_number  tally_type_id  precinct_id  \\\n",
       "0          68          30773              1              3          101   \n",
       "1          68          30773              1              3          101   \n",
       "3          68          30774              1              3          101   \n",
       "6          68          30775              1              3          101   \n",
       "9          68          30776              1              3          101   \n",
       "\n",
       "   Vote_Rank  CandidateID  over_vote  under_vote  \n",
       "0          1          394          0           0  \n",
       "1          2          395          0           0  \n",
       "3          1          395          0           0  \n",
       "6          1          394          0           0  \n",
       "9          1          394          0           0  "
      ]
     },
     "execution_count": 8,
     "metadata": {},
     "output_type": "execute_result"
    }
   ],
   "source": [
    "df_votes.head()"
   ]
  },
  {
   "cell_type": "markdown",
   "metadata": {},
   "source": [
    "when possible, decorate the ballot table with candidate names"
   ]
  },
  {
   "cell_type": "code",
   "execution_count": 9,
   "metadata": {},
   "outputs": [],
   "source": [
    "def candidate_id_table(master_lookup):\n",
    "    df = pandas.read_fwf(master_lookup,\n",
    "                             header=None,\n",
    "                             widths=[10,7,50,7,7,1,1])\n",
    "    df.columns=['record_id','id','description','list_order','candidates_contest_id','is_writein','is_provisional']\n",
    "    return df[df['record_id']=='Candidate']"
   ]
  },
  {
   "cell_type": "code",
   "execution_count": 10,
   "metadata": {},
   "outputs": [
    {
     "data": {
      "text/html": [
       "<div>\n",
       "<style scoped>\n",
       "    .dataframe tbody tr th:only-of-type {\n",
       "        vertical-align: middle;\n",
       "    }\n",
       "\n",
       "    .dataframe tbody tr th {\n",
       "        vertical-align: top;\n",
       "    }\n",
       "\n",
       "    .dataframe thead th {\n",
       "        text-align: right;\n",
       "    }\n",
       "</style>\n",
       "<table border=\"1\" class=\"dataframe\">\n",
       "  <thead>\n",
       "    <tr style=\"text-align: right;\">\n",
       "      <th></th>\n",
       "      <th>record_id</th>\n",
       "      <th>id</th>\n",
       "      <th>description</th>\n",
       "      <th>list_order</th>\n",
       "      <th>candidates_contest_id</th>\n",
       "      <th>is_writein</th>\n",
       "      <th>is_provisional</th>\n",
       "    </tr>\n",
       "  </thead>\n",
       "  <tbody>\n",
       "    <tr>\n",
       "      <th>0</th>\n",
       "      <td>Candidate</td>\n",
       "      <td>394</td>\n",
       "      <td>JANE BRUNNER</td>\n",
       "      <td>1</td>\n",
       "      <td>68</td>\n",
       "      <td>0</td>\n",
       "      <td>0</td>\n",
       "    </tr>\n",
       "    <tr>\n",
       "      <th>1</th>\n",
       "      <td>Candidate</td>\n",
       "      <td>395</td>\n",
       "      <td>BARBARA PARKER</td>\n",
       "      <td>2</td>\n",
       "      <td>68</td>\n",
       "      <td>0</td>\n",
       "      <td>0</td>\n",
       "    </tr>\n",
       "    <tr>\n",
       "      <th>2</th>\n",
       "      <td>Candidate</td>\n",
       "      <td>92</td>\n",
       "      <td>Write-In</td>\n",
       "      <td>3</td>\n",
       "      <td>68</td>\n",
       "      <td>1</td>\n",
       "      <td>0</td>\n",
       "    </tr>\n",
       "  </tbody>\n",
       "</table>\n",
       "</div>"
      ],
      "text/plain": [
       "   record_id   id     description  list_order  candidates_contest_id  \\\n",
       "0  Candidate  394    JANE BRUNNER           1                     68   \n",
       "1  Candidate  395  BARBARA PARKER           2                     68   \n",
       "2  Candidate   92        Write-In           3                     68   \n",
       "\n",
       "   is_writein  is_provisional  \n",
       "0           0               0  \n",
       "1           0               0  \n",
       "2           1               0  "
      ]
     },
     "execution_count": 10,
     "metadata": {},
     "output_type": "execute_result"
    }
   ],
   "source": [
    "df_cand = candidate_id_table(list_of_ballots_and_lookups[0][1])\n",
    "df_cand"
   ]
  },
  {
   "cell_type": "markdown",
   "metadata": {},
   "source": [
    "join the candidate names with candidate IDs\n",
    "\n",
    "For example, "
   ]
  },
  {
   "cell_type": "code",
   "execution_count": 11,
   "metadata": {},
   "outputs": [
    {
     "name": "stdout",
     "output_type": "stream",
     "text": [
      "elapsed 0.09 seconds\n"
     ]
    },
    {
     "data": {
      "text/html": [
       "<div>\n",
       "<style scoped>\n",
       "    .dataframe tbody tr th:only-of-type {\n",
       "        vertical-align: middle;\n",
       "    }\n",
       "\n",
       "    .dataframe tbody tr th {\n",
       "        vertical-align: top;\n",
       "    }\n",
       "\n",
       "    .dataframe thead th {\n",
       "        text-align: right;\n",
       "    }\n",
       "</style>\n",
       "<table border=\"1\" class=\"dataframe\">\n",
       "  <thead>\n",
       "    <tr style=\"text-align: right;\">\n",
       "      <th></th>\n",
       "      <th>contest_id</th>\n",
       "      <th>pref_voter_id</th>\n",
       "      <th>serial_number</th>\n",
       "      <th>tally_type_id</th>\n",
       "      <th>precinct_id</th>\n",
       "      <th>Vote_Rank</th>\n",
       "      <th>CandidateID</th>\n",
       "      <th>over_vote</th>\n",
       "      <th>under_vote</th>\n",
       "      <th>id</th>\n",
       "      <th>description</th>\n",
       "    </tr>\n",
       "  </thead>\n",
       "  <tbody>\n",
       "    <tr>\n",
       "      <th>0</th>\n",
       "      <td>68</td>\n",
       "      <td>30773</td>\n",
       "      <td>1</td>\n",
       "      <td>3</td>\n",
       "      <td>101</td>\n",
       "      <td>1</td>\n",
       "      <td>394</td>\n",
       "      <td>0</td>\n",
       "      <td>0</td>\n",
       "      <td>394</td>\n",
       "      <td>JANE BRUNNER</td>\n",
       "    </tr>\n",
       "    <tr>\n",
       "      <th>1</th>\n",
       "      <td>68</td>\n",
       "      <td>30773</td>\n",
       "      <td>1</td>\n",
       "      <td>3</td>\n",
       "      <td>101</td>\n",
       "      <td>2</td>\n",
       "      <td>395</td>\n",
       "      <td>0</td>\n",
       "      <td>0</td>\n",
       "      <td>395</td>\n",
       "      <td>BARBARA PARKER</td>\n",
       "    </tr>\n",
       "    <tr>\n",
       "      <th>2</th>\n",
       "      <td>68</td>\n",
       "      <td>30774</td>\n",
       "      <td>1</td>\n",
       "      <td>3</td>\n",
       "      <td>101</td>\n",
       "      <td>1</td>\n",
       "      <td>395</td>\n",
       "      <td>0</td>\n",
       "      <td>0</td>\n",
       "      <td>395</td>\n",
       "      <td>BARBARA PARKER</td>\n",
       "    </tr>\n",
       "    <tr>\n",
       "      <th>3</th>\n",
       "      <td>68</td>\n",
       "      <td>30775</td>\n",
       "      <td>1</td>\n",
       "      <td>3</td>\n",
       "      <td>101</td>\n",
       "      <td>1</td>\n",
       "      <td>394</td>\n",
       "      <td>0</td>\n",
       "      <td>0</td>\n",
       "      <td>394</td>\n",
       "      <td>JANE BRUNNER</td>\n",
       "    </tr>\n",
       "    <tr>\n",
       "      <th>4</th>\n",
       "      <td>68</td>\n",
       "      <td>30776</td>\n",
       "      <td>1</td>\n",
       "      <td>3</td>\n",
       "      <td>101</td>\n",
       "      <td>1</td>\n",
       "      <td>394</td>\n",
       "      <td>0</td>\n",
       "      <td>0</td>\n",
       "      <td>394</td>\n",
       "      <td>JANE BRUNNER</td>\n",
       "    </tr>\n",
       "  </tbody>\n",
       "</table>\n",
       "</div>"
      ],
      "text/plain": [
       "   contest_id  pref_voter_id  serial_number  tally_type_id  precinct_id  \\\n",
       "0          68          30773              1              3          101   \n",
       "1          68          30773              1              3          101   \n",
       "2          68          30774              1              3          101   \n",
       "3          68          30775              1              3          101   \n",
       "4          68          30776              1              3          101   \n",
       "\n",
       "   Vote_Rank  CandidateID  over_vote  under_vote   id     description  \n",
       "0          1          394          0           0  394    JANE BRUNNER  \n",
       "1          2          395          0           0  395  BARBARA PARKER  \n",
       "2          1          395          0           0  395  BARBARA PARKER  \n",
       "3          1          394          0           0  394    JANE BRUNNER  \n",
       "4          1          394          0           0  394    JANE BRUNNER  "
      ]
     },
     "execution_count": 11,
     "metadata": {},
     "output_type": "execute_result"
    }
   ],
   "source": [
    "start_time=time.time()\n",
    "df_cand_reduced = df_cand.drop(['record_id', 'list_order','candidates_contest_id','is_writein','is_provisional'], axis=1)\n",
    "cand_and_votes_df = pandas.merge(df_votes,df_cand_reduced,how='left',left_on='CandidateID', right_on='id')\n",
    "\n",
    "print('elapsed',round(time.time()-start_time,2),'seconds')\n",
    "cand_and_votes_df.head()"
   ]
  },
  {
   "cell_type": "markdown",
   "metadata": {},
   "source": [
    "The following cell does all the computational work needed for the task associated with the objective for the notebook.\n",
    "\n",
    "`df_votes[df_votes['Vote_Rank']==1]` down selects only the rows where vote_rank==1<BR>\n",
    "<code>&nbsp;&nbsp;&nbsp;&nbsp;&nbsp;&nbsp;&nbsp;&nbsp;&nbsp;&nbsp;&nbsp;&nbsp;&nbsp;&nbsp;&nbsp;&nbsp;&nbsp;&nbsp;&nbsp;&nbsp;&nbsp;&nbsp;&nbsp;&nbsp;&nbsp;&nbsp;&nbsp;&nbsp;&nbsp;&nbsp;&nbsp;&nbsp;.groupby('CandidateID')</code> groups the rows by candidate ID<BR>\n",
    "<code>&nbsp;&nbsp;&nbsp;&nbsp;&nbsp;&nbsp;&nbsp;&nbsp;&nbsp;&nbsp;&nbsp;&nbsp;&nbsp;&nbsp;&nbsp;&nbsp;&nbsp;&nbsp;&nbsp;&nbsp;&nbsp;&nbsp;&nbsp;&nbsp;&nbsp;&nbsp;&nbsp;&nbsp;&nbsp;&nbsp;&nbsp;&nbsp;&nbsp;&nbsp;&nbsp;&nbsp;&nbsp;&nbsp;&nbsp;&nbsp;&nbsp;&nbsp;&nbsp;&nbsp;&nbsp;&nbsp;&nbsp;&nbsp;&nbsp;&nbsp;&nbsp;&nbsp;&nbsp;&nbsp;&nbsp;&nbsp;['Vote_Rank']</code> selects the column \"vote_rank\"<BR>\n",
    "<code>&nbsp;&nbsp;&nbsp;&nbsp;&nbsp;&nbsp;&nbsp;&nbsp;&nbsp;&nbsp;&nbsp;&nbsp;&nbsp;&nbsp;&nbsp;&nbsp;&nbsp;&nbsp;&nbsp;&nbsp;&nbsp;&nbsp;&nbsp;&nbsp;&nbsp;&nbsp;&nbsp;&nbsp;&nbsp;&nbsp;&nbsp;&nbsp;&nbsp;&nbsp;&nbsp;&nbsp;&nbsp;&nbsp;&nbsp;&nbsp;&nbsp;&nbsp;&nbsp;&nbsp;&nbsp;&nbsp;&nbsp;&nbsp;&nbsp;&nbsp;&nbsp;&nbsp;&nbsp;&nbsp;&nbsp;&nbsp;&nbsp;&nbsp;&nbsp;&nbsp;&nbsp;&nbsp;&nbsp;&nbsp;&nbsp;&nbsp;&nbsp;&nbsp;&nbsp;&nbsp;&nbsp;.count()</code> counts how many first rank votes each candidate got<BR>"
   ]
  },
  {
   "cell_type": "code",
   "execution_count": 12,
   "metadata": {},
   "outputs": [
    {
     "data": {
      "text/plain": [
       "description\n",
       "BARBARA PARKER    89727\n",
       "JANE BRUNNER      40356\n",
       "Write-In           1051\n",
       "Name: Vote_Rank, dtype: int64"
      ]
     },
     "execution_count": 12,
     "metadata": {},
     "output_type": "execute_result"
    }
   ],
   "source": [
    "series_of_candidates_and_first_choice_count = cand_and_votes_df[cand_and_votes_df['Vote_Rank']==1].groupby('description')['Vote_Rank'].count()\n",
    "series_of_candidates_and_first_choice_count"
   ]
  },
  {
   "cell_type": "code",
   "execution_count": 13,
   "metadata": {},
   "outputs": [
    {
     "data": {
      "text/plain": [
       "131134"
      ]
     },
     "execution_count": 13,
     "metadata": {},
     "output_type": "execute_result"
    }
   ],
   "source": [
    "number_of_first_choice_votes =  series_of_candidates_and_first_choice_count.sum()\n",
    "number_of_first_choice_votes"
   ]
  },
  {
   "cell_type": "markdown",
   "metadata": {},
   "source": [
    "with the series describing candidates and votes, and with the scalar number of first round votes, we can now address the question of what percentage of votes the Leading candidate in the first round has"
   ]
  },
  {
   "cell_type": "code",
   "execution_count": 14,
   "metadata": {},
   "outputs": [
    {
     "data": {
      "text/plain": [
       "description\n",
       "BARBARA PARKER    68.423902\n",
       "JANE BRUNNER      30.774627\n",
       "Write-In           0.801470\n",
       "Name: Vote_Rank, dtype: float64"
      ]
     },
     "execution_count": 14,
     "metadata": {},
     "output_type": "execute_result"
    }
   ],
   "source": [
    "(series_of_candidates_and_first_choice_count/number_of_first_choice_votes)*100"
   ]
  },
  {
   "cell_type": "code",
   "execution_count": 15,
   "metadata": {},
   "outputs": [
    {
     "name": "stdout",
     "output_type": "stream",
     "text": [
      "percentage votes for the leading candidate BARBARA PARKER in the first round: 68.42390226790917\n"
     ]
    }
   ],
   "source": [
    "print('percentage votes for the leading candidate',series_of_candidates_and_first_choice_count.idxmax(),\n",
    "      'in the first round:',max((series_of_candidates_and_first_choice_count/number_of_first_choice_votes)*100))"
   ]
  },
  {
   "cell_type": "markdown",
   "metadata": {},
   "source": [
    "Now that we know what to do, encapsulate the above lines in a function"
   ]
  },
  {
   "cell_type": "code",
   "execution_count": 16,
   "metadata": {},
   "outputs": [],
   "source": [
    "def percentage_of_votes_for_leading_candidate_in_first_round(ballot_file,candidate_names):    \n",
    "    df_votes = vote_table(ballot_file)\n",
    "    if candidate_names is not None:\n",
    "        df_cand = candidate_id_table(candidate_names)\n",
    "        df_cand_reduced = df_cand.drop(['record_id', 'list_order','candidates_contest_id','is_writein','is_provisional'], axis=1)\n",
    "        cand_and_votes_df = pandas.merge(df_votes,df_cand_reduced,how='left',left_on='CandidateID', right_on='id')\n",
    "        series_of_candidates_and_first_choice_count = cand_and_votes_df[cand_and_votes_df['Vote_Rank']==1].groupby('description')['Vote_Rank'].count()\n",
    "    else:\n",
    "        series_of_candidates_and_first_choice_count = df_votes[df_votes['Vote_Rank']==1].groupby('CandidateID')['Vote_Rank'].count()\n",
    "    number_of_first_choice_votes =  series_of_candidates_and_first_choice_count.sum()\n",
    "    if number_of_first_choice_votes==0:\n",
    "        print('no first choice votes present in ballot file',ballot_file)\n",
    "    reslt_dict={}\n",
    "    reslt_dict['number of candidates']=len(series_of_candidates_and_first_choice_count)\n",
    "    reslt_dict['number of first choice votes']=number_of_first_choice_votes\n",
    "    reslt_dict['name or ID of top-ranked candidate']=series_of_candidates_and_first_choice_count.idxmax()\n",
    "    reslt_dict['percentage of votes in first round for leading candidate']=max((series_of_candidates_and_first_choice_count.values/number_of_first_choice_votes)*100)\n",
    "\n",
    "    if reslt_dict['percentage of votes in first round for leading candidate']>50:\n",
    "        reslt_dict['Leading candidate in the first round has greater than 50% first choice votes']='Yes'\n",
    "        reslt_dict['Leading candidate in the first round has between 45-50% first choice votes']='No'\n",
    "        reslt_dict['Leading candidate in the first round has less than 45% of first choice votes']='No'\n",
    "    elif (reslt_dict['percentage of votes in first round for leading candidate']<=50 and \n",
    "          reslt_dict['percentage of votes in first round for leading candidate']>=45):\n",
    "        reslt_dict['Leading candidate in the first round has greater than 50% first choice votes']='No'\n",
    "        reslt_dict['Leading candidate in the first round has between 45-50% first choice votes']='Yes'\n",
    "        reslt_dict['Leading candidate in the first round has less than 45% of first choice votes']='No'\n",
    "    elif (reslt_dict['percentage of votes in first round for leading candidate']<45):    \n",
    "        reslt_dict['Leading candidate in the first round has greater than 50% first choice votes']='No'\n",
    "        reslt_dict['Leading candidate in the first round has between 45-50% first choice votes']='No'\n",
    "        reslt_dict['Leading candidate in the first round has less than 45% of first choice votes']='Yes'\n",
    "    else:\n",
    "        print(\"ERROR: this condition should never be reached\")\n",
    "        \n",
    "    return reslt_dict"
   ]
  },
  {
   "cell_type": "markdown",
   "metadata": {},
   "source": [
    "validate that the function does what we want for a single election"
   ]
  },
  {
   "cell_type": "code",
   "execution_count": 17,
   "metadata": {},
   "outputs": [
    {
     "data": {
      "text/plain": [
       "{'number of candidates': 3,\n",
       " 'number of first choice votes': 131134,\n",
       " 'name or ID of top-ranked candidate': 'BARBARA PARKER',\n",
       " 'percentage of votes in first round for leading candidate': 68.42390226790917,\n",
       " 'Leading candidate in the first round has greater than 50% first choice votes': 'Yes',\n",
       " 'Leading candidate in the first round has between 45-50% first choice votes': 'No',\n",
       " 'Leading candidate in the first round has less than 45% of first choice votes': 'No'}"
      ]
     },
     "execution_count": 17,
     "metadata": {},
     "output_type": "execute_result"
    }
   ],
   "source": [
    "percentage_of_votes_for_leading_candidate_in_first_round(list_of_ballots_and_lookups[0][0],list_of_ballots_and_lookups[0][1])"
   ]
  },
  {
   "cell_type": "markdown",
   "metadata": {},
   "source": [
    "loop over that function and write the results to file"
   ]
  },
  {
   "cell_type": "code",
   "execution_count": 18,
   "metadata": {},
   "outputs": [],
   "source": [
    "def reslts_to_file(file_name,list_of_ballots_and_lookups):\n",
    "    list_of_dicts=[]\n",
    "    for ballot_and_lookup in list_of_ballots_and_lookups:\n",
    "        reslt_dict = percentage_of_votes_for_leading_candidate_in_first_round(\n",
    "            ballot_and_lookup[0],ballot_and_lookup[1])\n",
    "        reslt_dict['ballot file'] = ballot_and_lookup[0]\n",
    "        if ballot_and_lookup[1] is not None:\n",
    "            reslt_dict['lookup_table']=ballot_and_lookup[1]\n",
    "        else:\n",
    "            reslt_dict['lookup_table']=\"no lookup table\"\n",
    "        list_of_dicts.append(reslt_dict)\n",
    "    pandas.DataFrame.from_dict(list_of_dicts).to_csv(file_name,index=False)\n",
    "    return"
   ]
  },
  {
   "cell_type": "code",
   "execution_count": 19,
   "metadata": {},
   "outputs": [
    {
     "name": "stdout",
     "output_type": "stream",
     "text": [
      "elapsed 132.9 seconds\n"
     ]
    }
   ],
   "source": [
    "file_name='alameda_percentage.csv'\n",
    "start_time=time.time()\n",
    "reslts_to_file(file_name,list_of_ballots_and_lookups)\n",
    "print('elapsed',round(time.time()-start_time,2),'seconds')"
   ]
  },
  {
   "cell_type": "markdown",
   "metadata": {},
   "source": [
    "# Pierce County data"
   ]
  },
  {
   "cell_type": "markdown",
   "metadata": {},
   "source": [
    "https://www.rankedchoicevoting.org/data_clearinghouse\n",
    "    \n",
    "https://drive.google.com/drive/folders/1DJzIrTaDW3GSGJTkPTGAlpAMbozFG_pm"
   ]
  },
  {
   "cell_type": "code",
   "execution_count": 20,
   "metadata": {},
   "outputs": [
    {
     "data": {
      "text/plain": [
       "8"
      ]
     },
     "execution_count": 20,
     "metadata": {},
     "output_type": "execute_result"
    }
   ],
   "source": [
    "list_of_files = glob.glob('voting_data/Pierce_County/Pierce County/*')\n",
    "len(list_of_files)"
   ]
  },
  {
   "cell_type": "code",
   "execution_count": 21,
   "metadata": {},
   "outputs": [
    {
     "data": {
      "text/plain": [
       "['voting_data/Pierce_County/Pierce County/Pierce County Auditor 2009 Ballot Image.txt',\n",
       " 'voting_data/Pierce_County/Pierce County/Pierce County Executive 2008 Master Lookup.txt',\n",
       " 'voting_data/Pierce_County/Pierce County/Pierce County Assessor - Treasurer 2008 Ballot Image.txt',\n",
       " 'voting_data/Pierce_County/Pierce County/Pierce County Council, District No. 2 2008 Master Lookup.txt',\n",
       " 'voting_data/Pierce_County/Pierce County/Pierce County Council, District No. 2 2008 Ballot Image.txt',\n",
       " 'voting_data/Pierce_County/Pierce County/Pierce County Assessor - Treasurer 2008 Master Lookup.txt',\n",
       " 'voting_data/Pierce_County/Pierce County/Pierce County Executive 2008 Ballot Image Data.txt',\n",
       " 'voting_data/Pierce_County/Pierce County/Pierce County Auditor 2009 Master Lookup.txt']"
      ]
     },
     "execution_count": 21,
     "metadata": {},
     "output_type": "execute_result"
    }
   ],
   "source": [
    "list_of_files"
   ]
  },
  {
   "cell_type": "code",
   "execution_count": 22,
   "metadata": {},
   "outputs": [
    {
     "name": "stdout",
     "output_type": "stream",
     "text": [
      "voting_data/Pierce_County/Pierce County/Pierce County Auditor 2009 Ballot Image.txt\n",
      "000071400001543600000010050000002002000044000\n",
      "\n",
      "voting_data/Pierce_County/Pierce County/Pierce County Assessor - Treasurer 2008 Ballot Image.txt\n",
      "000019200006315800000010050000002002000000001\n",
      "\n",
      "voting_data/Pierce_County/Pierce County/Pierce County Council, District No. 2 2008 Ballot Image.txt\n",
      "000019300007697700000010050000063002000013100\n",
      "\n",
      "voting_data/Pierce_County/Pierce County/Pierce County Executive 2008 Ballot Image Data.txt\n",
      "000019700006315800000010050000002002000000001\n",
      "\n"
     ]
    }
   ],
   "source": [
    "list_of_ballot_files=[]\n",
    "for filename in list_of_files:\n",
    "    if filename.endswith('.txt'):\n",
    "        with open(filename,'r') as fil:\n",
    "            file_contents = fil.readlines()\n",
    "        if len(file_contents[0].strip())==45:\n",
    "            print(filename)\n",
    "            list_of_ballot_files.append(filename)\n",
    "            print(file_contents[1])"
   ]
  },
  {
   "cell_type": "code",
   "execution_count": 23,
   "metadata": {},
   "outputs": [
    {
     "data": {
      "text/plain": [
       "['voting_data/Pierce_County/Pierce County/Pierce County Executive 2008 Master Lookup.txt',\n",
       " 'voting_data/Pierce_County/Pierce County/Pierce County Council, District No. 2 2008 Master Lookup.txt',\n",
       " 'voting_data/Pierce_County/Pierce County/Pierce County Assessor - Treasurer 2008 Master Lookup.txt',\n",
       " 'voting_data/Pierce_County/Pierce County/Pierce County Auditor 2009 Master Lookup.txt']"
      ]
     },
     "execution_count": 23,
     "metadata": {},
     "output_type": "execute_result"
    }
   ],
   "source": [
    "list_of_lookup_files = glob.glob('voting_data/Pierce_County/Pierce County/*ookup.txt')\n",
    "list_of_lookup_files"
   ]
  },
  {
   "cell_type": "code",
   "execution_count": 24,
   "metadata": {},
   "outputs": [],
   "source": [
    "def create_ballot_lookup_tuples(list_of_ballot_files,list_of_lookup_files):\n",
    "    list_of_ballots_and_lookups=[]\n",
    "    for this_ballot in list_of_ballot_files:\n",
    "        ballot_name = re.sub(r'ballot.*', '', this_ballot.split('/')[-1],flags=re.IGNORECASE)\n",
    "        #print(ballot_name)\n",
    "        found_match=False\n",
    "        for this_lookup in list_of_lookup_files:\n",
    "            lookup_name = re.sub(r'master.*','',this_lookup.split('/')[-1],flags=re.IGNORECASE)\n",
    "            #print(lookup_name)\n",
    "            if ballot_name == lookup_name:\n",
    "                list_of_ballots_and_lookups.append((this_ballot,this_lookup))\n",
    "                found_match=True\n",
    "        if not found_match:\n",
    "            print('no lookup found for',this_ballot)\n",
    "            list_of_ballots_and_lookups.append((this_ballot,None))\n",
    "    return list_of_ballots_and_lookups"
   ]
  },
  {
   "cell_type": "code",
   "execution_count": 25,
   "metadata": {},
   "outputs": [
    {
     "name": "stdout",
     "output_type": "stream",
     "text": [
      "number of paired files found: 4\n"
     ]
    }
   ],
   "source": [
    "list_of_ballots_and_lookups = create_ballot_lookup_tuples(list_of_ballot_files,list_of_lookup_files)\n",
    "print('number of paired files found:',len(list_of_ballots_and_lookups))"
   ]
  },
  {
   "cell_type": "code",
   "execution_count": 26,
   "metadata": {},
   "outputs": [
    {
     "name": "stdout",
     "output_type": "stream",
     "text": [
      "elapsed 79.16 seconds\n"
     ]
    }
   ],
   "source": [
    "file_name='pierceCounty_percentage.csv'\n",
    "start_time=time.time()\n",
    "reslts_to_file(file_name,list_of_ballots_and_lookups)\n",
    "print('elapsed',round(time.time()-start_time,2),'seconds')"
   ]
  },
  {
   "cell_type": "markdown",
   "metadata": {},
   "source": [
    "# San Fransisco"
   ]
  },
  {
   "cell_type": "code",
   "execution_count": 27,
   "metadata": {},
   "outputs": [
    {
     "data": {
      "text/plain": [
       "46"
      ]
     },
     "execution_count": 27,
     "metadata": {},
     "output_type": "execute_result"
    }
   ],
   "source": [
    "list_of_files = glob.glob('voting_data/San_Fransisco/San Francisco/**/*')\n",
    "len(list_of_files)"
   ]
  },
  {
   "cell_type": "code",
   "execution_count": 28,
   "metadata": {},
   "outputs": [
    {
     "name": "stdout",
     "output_type": "stream",
     "text": [
      "number of ballot files: 14\n"
     ]
    }
   ],
   "source": [
    "list_of_ballot_files=[]\n",
    "for filename in list_of_files:\n",
    "    if filename.endswith('.txt'):\n",
    "        with open(filename,'r') as fil:\n",
    "            file_contents = fil.readlines()\n",
    "        if len(file_contents[0].strip())==45:\n",
    "            #print(filename)\n",
    "            list_of_ballot_files.append(filename)\n",
    "            #print(file_contents[1])\n",
    "print('number of ballot files:',len(list_of_ballot_files))"
   ]
  },
  {
   "cell_type": "code",
   "execution_count": 29,
   "metadata": {},
   "outputs": [
    {
     "name": "stdout",
     "output_type": "stream",
     "text": [
      "number of lookup files: 14\n"
     ]
    }
   ],
   "source": [
    "list_of_lookup_files=[]\n",
    "for filename in list_of_files:\n",
    "    if filename.endswith('.txt'):\n",
    "#        print(filename)\n",
    "        if 'master' in filename.lower():\n",
    "            list_of_lookup_files.append(filename)\n",
    "print('number of lookup files:',len(list_of_lookup_files))"
   ]
  },
  {
   "cell_type": "code",
   "execution_count": 30,
   "metadata": {},
   "outputs": [],
   "source": [
    "def create_ballot_lookup_tuples(list_of_ballot_files,list_of_lookup_files):\n",
    "    list_of_ballots_and_lookups=[]\n",
    "    for this_ballot in list_of_ballot_files:\n",
    "        ballot_name = re.sub(r'ballot.*', '', ''.join(this_ballot.split('/')[-2:]),flags=re.IGNORECASE)\n",
    "        #print('BALLOT NAME:',ballot_name)\n",
    "        found_match=False\n",
    "        for this_lookup in list_of_lookup_files:\n",
    "            lookup_name = re.sub(r'master.*','',''.join(this_lookup.split('/')[-2:]),flags=re.IGNORECASE)\n",
    "            #print('LOOKUP NAME:',lookup_name)\n",
    "            if ballot_name == lookup_name:\n",
    "                list_of_ballots_and_lookups.append((this_ballot,this_lookup))\n",
    "                found_match=True\n",
    "        if not found_match:\n",
    "            print('no lookup found for',this_ballot)\n",
    "            list_of_ballots_and_lookups.append((this_ballot,None))\n",
    "    return list_of_ballots_and_lookups"
   ]
  },
  {
   "cell_type": "code",
   "execution_count": 31,
   "metadata": {},
   "outputs": [
    {
     "name": "stdout",
     "output_type": "stream",
     "text": [
      "number of paired files found: 14\n"
     ]
    }
   ],
   "source": [
    "list_of_ballots_and_lookups = create_ballot_lookup_tuples(list_of_ballot_files,list_of_lookup_files)\n",
    "print('number of paired files found:',len(list_of_ballots_and_lookups))"
   ]
  },
  {
   "cell_type": "code",
   "execution_count": 32,
   "metadata": {},
   "outputs": [
    {
     "name": "stdout",
     "output_type": "stream",
     "text": [
      "elapsed 150.42 seconds\n"
     ]
    }
   ],
   "source": [
    "file_name='sanFrancisco_percentage.csv'\n",
    "start_time=time.time()\n",
    "reslts_to_file(file_name,list_of_ballots_and_lookups)\n",
    "print('elapsed',round(time.time()-start_time,2),'seconds')"
   ]
  },
  {
   "cell_type": "code",
   "execution_count": null,
   "metadata": {},
   "outputs": [],
   "source": []
  }
 ],
 "metadata": {
  "kernelspec": {
   "display_name": "Python 3",
   "language": "python",
   "name": "python3"
  },
  "language_info": {
   "codemirror_mode": {
    "name": "ipython",
    "version": 3
   },
   "file_extension": ".py",
   "mimetype": "text/x-python",
   "name": "python",
   "nbconvert_exporter": "python",
   "pygments_lexer": "ipython3",
   "version": "3.6.7"
  }
 },
 "nbformat": 4,
 "nbformat_minor": 2
}
