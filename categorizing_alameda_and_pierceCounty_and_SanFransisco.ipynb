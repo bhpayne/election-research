{
 "cells": [
  {
   "cell_type": "markdown",
   "metadata": {},
   "source": [
    "data source: https://www.rankedchoicevoting.org/data_clearinghouse\n",
    "\n",
    "RCV definition: https://ballotpedia.org/Ranked-choice_voting_(RCV)\n",
    "\n",
    "Additional analysis: \n",
    "* http://archive3.fairvote.org/press/san-leandro-facts/\n",
    "* https://laurendo.wordpress.com/2010/11/24/running-the-numbers/\n",
    "* http://www.acgov.org/rov/rcv/results/index.htm"
   ]
  },
  {
   "cell_type": "markdown",
   "metadata": {},
   "source": [
    "Objective for this notebook: separate the elections into the following categories:\n",
    "\n",
    "1. Leading candidate in the first round has greater than 50% first choice votes\n",
    "1. Leading candidate in the first round has between 45-50% first choice votes\n",
    "1. Leading candidate in the first round has less than 45% of first choice votes "
   ]
  },
  {
   "cell_type": "code",
   "execution_count": 1,
   "metadata": {},
   "outputs": [
    {
     "name": "stdout",
     "output_type": "stream",
     "text": [
      "pandas 0.23.4\n"
     ]
    }
   ],
   "source": [
    "import glob\n",
    "import pandas\n",
    "print('pandas',pandas.__version__)"
   ]
  },
  {
   "cell_type": "markdown",
   "metadata": {},
   "source": [
    "# data gathering: download all folders from drive manually"
   ]
  },
  {
   "cell_type": "markdown",
   "metadata": {},
   "source": [
    "all the data: \n",
    "https://drive.google.com/drive/folders/1DJzIrTaDW3GSGJTkPTGAlpAMbozFG_pm\n",
    "\n",
    "Then download all content as a zip. Size is 1.5 GB. Of this, Sante Fe is 1.4GB\n",
    "\n",
    "I started with just \"Alameda County, CA (Berkeley, Oakland, San Leandro)\" which is 18MB as a .zip\n",
    "\n",
    "https://drive.google.com/drive/folders/1u_airJzoLC2PMYMHcF2KYJEKxxKBi5H7"
   ]
  },
  {
   "cell_type": "raw",
   "metadata": {},
   "source": [
    "!mkdir voting_data\n",
    "!mkdir voting_data/Alameda\n",
    "!unzip voting_data/Alameda/drive-download-20190724T221439Z-001.zip"
   ]
  },
  {
   "cell_type": "markdown",
   "metadata": {},
   "source": [
    "# parse ballot_image_ files"
   ]
  },
  {
   "cell_type": "code",
   "execution_count": 2,
   "metadata": {},
   "outputs": [
    {
     "name": "stdout",
     "output_type": "stream",
     "text": [
      "number of election results to parse: 17\n"
     ]
    }
   ],
   "source": [
    "list_of_files = glob.glob('voting_data/Alameda/Alameda (Oakland, San Leandro, Berkeley) 2010/ballot_image_*')\n",
    "print('number of election results to parse:',len(list_of_files))"
   ]
  },
  {
   "cell_type": "code",
   "execution_count": 3,
   "metadata": {},
   "outputs": [
    {
     "data": {
      "text/plain": [
       "'voting_data/Alameda/Alameda (Oakland, San Leandro, Berkeley) 2010/ballot_image_ Member, City Council, District 4 - Oakland_Nov 2010.txt'"
      ]
     },
     "execution_count": 3,
     "metadata": {},
     "output_type": "execute_result"
    }
   ],
   "source": [
    "list_of_files[0]"
   ]
  },
  {
   "cell_type": "code",
   "execution_count": 4,
   "metadata": {},
   "outputs": [],
   "source": [
    "def sort_elections_into_bins(reslts,ballot):\n",
    "    #print(ballot)\n",
    "    df = pandas.read_fwf(ballot,\n",
    "                     header=None,\n",
    "                     widths=[7,9,7,3,7,3,7,1,1])\n",
    "    df.columns=['contest_id','pref_voter_id',\n",
    "            'serial_number','tally_type_id',\n",
    "            'precinct_id','vote_rank',\n",
    "            'candidate_id','over_vote','under_vote']\n",
    "    #print(df.shape)\n",
    "    #print(df['candidate_id'].unique())\n",
    "    df_cand = df[df['candidate_id']!=0] # drop rows where no candidate is specified\n",
    "    series_of_candidates_and_first_choice_count = df_cand[df_cand['vote_rank']==1].groupby('candidate_id')['vote_rank'].count()\n",
    "    number_of_first_choice_votes =  series_of_candidates_and_first_choice_count.sum()\n",
    "    #print('number of first choice votes:',number_of_first_choice_votes)\n",
    "    if (series_of_candidates_and_first_choice_count > number_of_first_choice_votes*0.5).any():\n",
    "        #print('Leading candidate in the first round has greater than 50% first choice votes')\n",
    "        reslts['leading candidate in first round has more than 50% of first choice votes'].append(ballot)\n",
    "    elif ((series_of_candidates_and_first_choice_count <= number_of_first_choice_votes*0.5).any() and \n",
    "          (series_of_candidates_and_first_choice_count >= number_of_first_choice_votes*0.45).any()):\n",
    "        #print('Leading candidate in the first round has between 45-50% first choice votes')\n",
    "        reslts['leading candidate in first round vote has between 50% and 45% of first choice votes'].append(ballot)\n",
    "    elif (series_of_candidates_and_first_choice_count < number_of_first_choice_votes*0.45).any():\n",
    "        #print('Leading candidate in the first round has less than 45% of first choice votes')\n",
    "        reslts['leading candidate in first round vote has less than 45% of first choice votes'].append(ballot)\n",
    "    else:\n",
    "        raise Exception('should not reach this condition')\n",
    "    return reslts"
   ]
  },
  {
   "cell_type": "code",
   "execution_count": 5,
   "metadata": {},
   "outputs": [],
   "source": [
    "reslts={'leading candidate in first round has more than 50% of first choice votes':[],\n",
    "        'leading candidate in first round vote has between 50% and 45% of first choice votes':[],\n",
    "        'leading candidate in first round vote has less than 45% of first choice votes':[]}\n",
    "\n",
    "for ballot in list_of_files:\n",
    "    reslts = sort_elections_into_bins(reslts,ballot)"
   ]
  },
  {
   "cell_type": "code",
   "execution_count": 6,
   "metadata": {},
   "outputs": [
    {
     "name": "stdout",
     "output_type": "stream",
     "text": [
      "leading candidate in first round has more than 50% of first choice votes :\n",
      "    Alameda/Alameda (Oakland, San Leandro, Berkeley) 2010/ballot_image_Member, City Council, District 2 - Oakland_Nov 2010\n",
      "    Alameda/Alameda (Oakland, San Leandro, Berkeley) 2010/ballot_image_Member, City Council, District 1 - San Leandro_Nov 2010\n",
      "    Alameda/Alameda (Oakland, San Leandro, Berkeley) 2010/ballot_image_Member, City Council, District 8 - Berkeley_Nov 2010\n",
      "    Alameda/Alameda (Oakland, San Leandro, Berkeley) 2010/ballot_image_Member, City Council, District 6 - Oakland_Nov 2010\n",
      "    Alameda/Alameda (Oakland, San Leandro, Berkeley) 2010/ballot_image_Member, City Council, District 4 - Berkeley_Nov 2010\n",
      "    Alameda/Alameda (Oakland, San Leandro, Berkeley) 2010/ballot_image_City Auditor - Oakland_Nov 2010\n",
      "    Alameda/Alameda (Oakland, San Leandro, Berkeley) 2010/ballot_image_Member, City Council, District 5 - San Leandro_Nov 2010\n",
      "    Alameda/Alameda (Oakland, San Leandro, Berkeley) 2010/ballot_image_City Auditor - Berkeley_Nov 2010\n",
      "    Alameda/Alameda (Oakland, San Leandro, Berkeley) 2010/ballot_image_ School Director, District 6 - Oakland_Nov 2010\n",
      "    Alameda/Alameda (Oakland, San Leandro, Berkeley) 2010/ballot_image_Member, City Council, District 1 - Berkeley_Nov 2010\n",
      "    Alameda/Alameda (Oakland, San Leandro, Berkeley) 2010/ballot_image_ School Director, District 4 - Oakland_Nov 2010\n",
      "    Alameda/Alameda (Oakland, San Leandro, Berkeley) 2010/ballot_image_School Director, District 2 - Oakland_Nov 2010\n",
      "    Alameda/Alameda (Oakland, San Leandro, Berkeley) 2010/ballot_image_ Member, City Council, District 3 - San Leandro_Nov 2010\n",
      "leading candidate in first round vote has between 50% and 45% of first choice votes :\n",
      "    Alameda/Alameda (Oakland, San Leandro, Berkeley) 2010/ballot_image_Member, City Council, District 7 - Berkeley_Nov 2010\n",
      "leading candidate in first round vote has less than 45% of first choice votes :\n",
      "    Alameda/Alameda (Oakland, San Leandro, Berkeley) 2010/ballot_image_ Member, City Council, District 4 - Oakland_Nov 2010\n",
      "    Alameda/Alameda (Oakland, San Leandro, Berkeley) 2010/ballot_image_Mayor of San Leandro_Nov 2010\n",
      "    Alameda/Alameda (Oakland, San Leandro, Berkeley) 2010/ballot_image_Mayor of Oakland_Nov 2010\n"
     ]
    }
   ],
   "source": [
    "for k,v in reslts.items():\n",
    "    print(k,':')\n",
    "    for election in v:\n",
    "        print('   ',election.replace('voting_data/','').replace('.txt',''))"
   ]
  },
  {
   "cell_type": "markdown",
   "metadata": {},
   "source": [
    "# Pierce County data"
   ]
  },
  {
   "cell_type": "markdown",
   "metadata": {},
   "source": [
    "https://www.rankedchoicevoting.org/data_clearinghouse\n",
    "    \n",
    "https://drive.google.com/drive/folders/1DJzIrTaDW3GSGJTkPTGAlpAMbozFG_pm"
   ]
  },
  {
   "cell_type": "code",
   "execution_count": 7,
   "metadata": {},
   "outputs": [
    {
     "data": {
      "text/plain": [
       "8"
      ]
     },
     "execution_count": 7,
     "metadata": {},
     "output_type": "execute_result"
    }
   ],
   "source": [
    "list_of_files = glob.glob('voting_data/Pierce_County/Pierce County/*')\n",
    "len(list_of_files)"
   ]
  },
  {
   "cell_type": "code",
   "execution_count": 8,
   "metadata": {},
   "outputs": [
    {
     "data": {
      "text/plain": [
       "['voting_data/Pierce_County/Pierce County/Pierce County Auditor 2009 Ballot Image.txt',\n",
       " 'voting_data/Pierce_County/Pierce County/Pierce County Executive 2008 Master Lookup.txt',\n",
       " 'voting_data/Pierce_County/Pierce County/Pierce County Assessor - Treasurer 2008 Ballot Image.txt',\n",
       " 'voting_data/Pierce_County/Pierce County/Pierce County Council, District No. 2 2008 Master Lookup.txt',\n",
       " 'voting_data/Pierce_County/Pierce County/Pierce County Council, District No. 2 2008 Ballot Image.txt',\n",
       " 'voting_data/Pierce_County/Pierce County/Pierce County Assessor - Treasurer 2008 Master Lookup.txt',\n",
       " 'voting_data/Pierce_County/Pierce County/Pierce County Executive 2008 Ballot Image Data.txt',\n",
       " 'voting_data/Pierce_County/Pierce County/Pierce County Auditor 2009 Master Lookup.txt']"
      ]
     },
     "execution_count": 8,
     "metadata": {},
     "output_type": "execute_result"
    }
   ],
   "source": [
    "list_of_files"
   ]
  },
  {
   "cell_type": "code",
   "execution_count": 9,
   "metadata": {},
   "outputs": [
    {
     "name": "stdout",
     "output_type": "stream",
     "text": [
      "voting_data/Pierce_County/Pierce County/Pierce County Auditor 2009 Ballot Image.txt\n",
      "000071400001543600000010050000002002000044000\n",
      "\n",
      "voting_data/Pierce_County/Pierce County/Pierce County Assessor - Treasurer 2008 Ballot Image.txt\n",
      "000019200006315800000010050000002002000000001\n",
      "\n",
      "voting_data/Pierce_County/Pierce County/Pierce County Council, District No. 2 2008 Ballot Image.txt\n",
      "000019300007697700000010050000063002000013100\n",
      "\n",
      "voting_data/Pierce_County/Pierce County/Pierce County Executive 2008 Ballot Image Data.txt\n",
      "000019700006315800000010050000002002000000001\n",
      "\n"
     ]
    }
   ],
   "source": [
    "list_of_ballot_files=[]\n",
    "for filename in list_of_files:\n",
    "    if filename.endswith('.txt'):\n",
    "        with open(filename,'r') as fil:\n",
    "            file_contents = fil.readlines()\n",
    "        if len(file_contents[0].strip())==45:\n",
    "            print(filename)\n",
    "            list_of_ballot_files.append(filename)\n",
    "            print(file_contents[1])"
   ]
  },
  {
   "cell_type": "code",
   "execution_count": 10,
   "metadata": {},
   "outputs": [],
   "source": [
    "reslts={'leading candidate in first round has more than 50% of first choice votes':[],\n",
    "        'leading candidate in first round vote has between 50% and 45% of first choice votes':[],\n",
    "        'leading candidate in first round vote has less than 45% of first choice votes':[]}\n",
    "\n",
    "for ballot in list_of_ballot_files:\n",
    "    reslts = sort_elections_into_bins(reslts,ballot)"
   ]
  },
  {
   "cell_type": "code",
   "execution_count": 11,
   "metadata": {},
   "outputs": [
    {
     "name": "stdout",
     "output_type": "stream",
     "text": [
      "leading candidate in first round has more than 50% of first choice votes :\n",
      "leading candidate in first round vote has between 50% and 45% of first choice votes :\n",
      "    Pierce_County/Pierce County/Pierce County Auditor 2009 Ballot Image\n",
      "    Pierce_County/Pierce County/Pierce County Council, District No. 2 2008 Ballot Image\n",
      "leading candidate in first round vote has less than 45% of first choice votes :\n",
      "    Pierce_County/Pierce County/Pierce County Assessor - Treasurer 2008 Ballot Image\n",
      "    Pierce_County/Pierce County/Pierce County Executive 2008 Ballot Image Data\n"
     ]
    }
   ],
   "source": [
    "for k,v in reslts.items():\n",
    "    print(k,':')\n",
    "    for election in v:\n",
    "        print('   ',election.replace('voting_data/','').replace('.txt',''))"
   ]
  },
  {
   "cell_type": "markdown",
   "metadata": {},
   "source": [
    "# San Fransisco"
   ]
  },
  {
   "cell_type": "code",
   "execution_count": 13,
   "metadata": {},
   "outputs": [
    {
     "data": {
      "text/plain": [
       "46"
      ]
     },
     "execution_count": 13,
     "metadata": {},
     "output_type": "execute_result"
    }
   ],
   "source": [
    "list_of_files = glob.glob('voting_data/San_Fransisco/San Francisco/**/*')\n",
    "len(list_of_files)"
   ]
  },
  {
   "cell_type": "code",
   "execution_count": 14,
   "metadata": {},
   "outputs": [
    {
     "name": "stdout",
     "output_type": "stream",
     "text": [
      "{'txt', 'pdf'}\n"
     ]
    }
   ],
   "source": [
    "list_of_file_extentions=[]\n",
    "for filename in list_of_files:\n",
    "    #print(filename.split('.')[-1])\n",
    "    list_of_file_extentions.append(filename.split('.')[-1])\n",
    "print(set(list_of_file_extentions))"
   ]
  },
  {
   "cell_type": "code",
   "execution_count": 15,
   "metadata": {},
   "outputs": [
    {
     "name": "stdout",
     "output_type": "stream",
     "text": [
      "BallotImage-D10.txt\n",
      "['000000600001706700000040020000274001000014900\\n', '000000600001706700000040020000274002000015700\\n']\n",
      "45\n",
      "BallotImage-D2.txt\n",
      "['000000700001712400000090020000331001000012600\\n', '000000700001712400000090020000331002000000001\\n']\n",
      "45\n",
      "BallotImageListing.txt\n",
      "['\\x1bE\\x1b&l2a0o7c067F\\x1b(s0p16.66h3b6T\\x1b&a00L\\n', 'BALLOT IMAGE LISTING                               SAN FRANCISCO                                      OFFICIAL RESULTS\\n']\n",
      "36\n",
      "BallotImageSummary.txt\n",
      "['\\x1bE\\x1b&l2a0o7c067F\\x1b(s0p16.66h3b6T\\x1b&a00L\\n', 'BALLOT IMAGE ELECTION SUMMARY\\n']\n",
      "36\n",
      "20151119_ballotimage.txt\n",
      "['000000100002610500000010020000012001000003600\\n', '000000100002610500000010020000012002000003700\\n']\n",
      "45\n",
      "D10_BallotImage.txt\n",
      "['000003300000385300000010020000054001000012900\\n', '000003300000385300000010020000054002000012800\\n']\n",
      "45\n",
      "Sheriff-BallotImage.txt\n",
      "['000000200004728200000010020000003001000002800\\n', '000000200004728200000010020000003002000002800\\n']\n",
      "45\n",
      "DA-BallotImage.txt\n",
      "['000000100004728200000010020000003001000002300\\n', '000000100004728200000010020000003002000002300\\n']\n",
      "45\n",
      "Nov2004_BallotImage.txt\n",
      "['pct,1,2,3\\n', '0001,,,\\n']\n",
      "9\n",
      "BallotImage-D8.txt\n",
      "['000001000001706800000040020000513001000014400\\n', '000001000001706800000040020000513002000014200\\n']\n",
      "45\n",
      "Mayor-BallotImage.txt\n",
      "['000000300004728200000010020000003001000003700\\n', '000000300004728200000010020000003002000003700\\n']\n",
      "45\n",
      "D7-BallotImage.txt\n",
      "['000002300000759400000010020000244001000011500\\n', '000002300000759400000010020000244002000011800\\n']\n",
      "45\n",
      "BallotImage-D6.txt\n",
      "['000000900001707600000130020000457001000013600\\n', '000000900001707600000130020000457002000012800\\n']\n",
      "45\n",
      "20161206_ballotimage.txt\n",
      "['000000900000660300000010020000406001000012800\\n', '000000900000660300000010020000406002000000001\\n']\n",
      "45\n",
      "20180621_ballotimage.txt\n",
      "['000002000001288600000010020000009001000018100\\n', '000002000001288600000010020000009002000018500\\n']\n",
      "45\n",
      "D5-BallotImage.txt\n",
      "['000002200000739700000010020000161001000011400\\n', '000002200000739700000010020000161002000010800\\n']\n",
      "45\n",
      "CityWide_Ballot_Image.txt\n",
      "['000000300000835700000030020000066001000007600\\n', '000000300000835700000030020000066002000007700\\n']\n",
      "45\n",
      "BallotImage_San Fran_Mayor_Nov 2007.txt\n",
      "['0001\\n', '0002\\n']\n",
      "4\n",
      "BallotDescription_San Fran_2007.txt\n",
      "['  15     BALLOTS CAST - TOTAL                                                     \\n', '  20     BALLOTS CAST - TOTAL CARD 1                                              \\n']\n",
      "27\n"
     ]
    }
   ],
   "source": [
    "for filename in list_of_files:\n",
    "    if filename.endswith('.txt'):\n",
    "#        print(filename)\n",
    "        if 'ballot' in filename.lower():\n",
    "            print(filename.split('/')[-1])\n",
    "            with open(filename,'r') as fil:\n",
    "                file_contents = fil.readlines()\n",
    "            print(file_contents[0:2])\n",
    "            print(len(file_contents[0].strip()))"
   ]
  },
  {
   "cell_type": "code",
   "execution_count": 16,
   "metadata": {},
   "outputs": [
    {
     "name": "stdout",
     "output_type": "stream",
     "text": [
      "voting_data/San_Fransisco/San Francisco/San Fran_Nov 2010_District 10 Supervisors/BallotImage-D10.txt\n",
      "000000600001706700000040020000274002000015700\n",
      "\n",
      "voting_data/San_Fransisco/San Francisco/San Fran_Nov 2010_District 2 Supervisors/BallotImage-D2.txt\n",
      "000000700001712400000090020000331002000000001\n",
      "\n",
      "voting_data/San_Fransisco/San Francisco/2015 All offices/20151119_ballotimage.txt\n",
      "000000100002610500000010020000012002000003700\n",
      "\n",
      "voting_data/San_Fransisco/San Francisco/San Fran_Nov 2014_District 10 Supervisors/D10_BallotImage.txt\n",
      "000003300000385300000010020000054002000012800\n",
      "\n",
      "voting_data/San_Fransisco/San Francisco/San Fran Nov 2011 Sheriff/Sheriff-BallotImage.txt\n",
      "000000200004728200000010020000003002000002800\n",
      "\n",
      "voting_data/San_Fransisco/San Francisco/San Fran Nov 2011 District Attorney/DA-BallotImage.txt\n",
      "000000100004728200000010020000003002000002300\n",
      "\n",
      "voting_data/San_Fransisco/San Francisco/San Fran_Nov 2010_District 8 Supervisors/BallotImage-D8.txt\n",
      "000001000001706800000040020000513002000014200\n",
      "\n",
      "voting_data/San_Fransisco/San Francisco/San Fran Nov 2011 Mayor/Mayor-BallotImage.txt\n",
      "000000300004728200000010020000003002000003700\n",
      "\n",
      "voting_data/San_Fransisco/San Francisco/San Fran_Nov 2012_District 7 Supervisors/D7-BallotImage.txt\n",
      "000002300000759400000010020000244002000011800\n",
      "\n",
      "voting_data/San_Fransisco/San Francisco/San Fran_Nov 2010_District 6 Supervisors/BallotImage-D6.txt\n",
      "000000900001707600000130020000457002000012800\n",
      "\n",
      "voting_data/San_Fransisco/San Francisco/San Fran_Nov 2016/20161206_ballotimage.txt\n",
      "000000900000660300000010020000406002000000001\n",
      "\n",
      "voting_data/San_Fransisco/San Francisco/San Fran June 2018/20180621_ballotimage.txt\n",
      "000002000001288600000010020000009002000018500\n",
      "\n",
      "voting_data/San_Fransisco/San Francisco/San Fran_Nov 2012_District 5 Supervisors/D5-BallotImage.txt\n",
      "000002200000739700000010020000161002000010800\n",
      "\n",
      "voting_data/San_Fransisco/San Francisco/San Fran_Nov 2008_All District races/CityWide_Ballot_Image.txt\n",
      "000000300000835700000030020000066002000007700\n",
      "\n"
     ]
    }
   ],
   "source": [
    "list_of_ballot_files=[]\n",
    "for filename in list_of_files:\n",
    "    if filename.endswith('.txt'):\n",
    "        with open(filename,'r') as fil:\n",
    "            file_contents = fil.readlines()\n",
    "        if len(file_contents[0].strip())==45:\n",
    "            print(filename)\n",
    "            list_of_ballot_files.append(filename)\n",
    "            print(file_contents[1])"
   ]
  },
  {
   "cell_type": "code",
   "execution_count": 17,
   "metadata": {},
   "outputs": [],
   "source": [
    "reslts={'leading candidate in first round has more than 50% of first choice votes':[],\n",
    "        'leading candidate in first round vote has between 50% and 45% of first choice votes':[],\n",
    "        'leading candidate in first round vote has less than 45% of first choice votes':[]}\n",
    "\n",
    "for ballot in list_of_ballot_files:\n",
    "    reslts = sort_elections_into_bins(reslts,ballot)"
   ]
  },
  {
   "cell_type": "code",
   "execution_count": 18,
   "metadata": {},
   "outputs": [
    {
     "name": "stdout",
     "output_type": "stream",
     "text": [
      "leading candidate in first round has more than 50% of first choice votes :\n",
      "leading candidate in first round vote has between 50% and 45% of first choice votes :\n",
      "    San_Fransisco/San Francisco/San Fran_Nov 2014_District 10 Supervisors/D10_BallotImage\n",
      "leading candidate in first round vote has less than 45% of first choice votes :\n",
      "    San_Fransisco/San Francisco/San Fran_Nov 2010_District 10 Supervisors/BallotImage-D10\n",
      "    San_Fransisco/San Francisco/San Fran_Nov 2010_District 2 Supervisors/BallotImage-D2\n",
      "    San_Fransisco/San Francisco/2015 All offices/20151119_ballotimage\n",
      "    San_Fransisco/San Francisco/San Fran Nov 2011 Sheriff/Sheriff-BallotImage\n",
      "    San_Fransisco/San Francisco/San Fran Nov 2011 District Attorney/DA-BallotImage\n",
      "    San_Fransisco/San Francisco/San Fran_Nov 2010_District 8 Supervisors/BallotImage-D8\n",
      "    San_Fransisco/San Francisco/San Fran Nov 2011 Mayor/Mayor-BallotImage\n",
      "    San_Fransisco/San Francisco/San Fran_Nov 2012_District 7 Supervisors/D7-BallotImage\n",
      "    San_Fransisco/San Francisco/San Fran_Nov 2010_District 6 Supervisors/BallotImage-D6\n",
      "    San_Fransisco/San Francisco/San Fran_Nov 2016/20161206_ballotimage\n",
      "    San_Fransisco/San Francisco/San Fran June 2018/20180621_ballotimage\n",
      "    San_Fransisco/San Francisco/San Fran_Nov 2012_District 5 Supervisors/D5-BallotImage\n",
      "    San_Fransisco/San Francisco/San Fran_Nov 2008_All District races/CityWide_Ballot_Image\n"
     ]
    }
   ],
   "source": [
    "for k,v in reslts.items():\n",
    "    print(k,':')\n",
    "    for election in v:\n",
    "        print('   ',election.replace('voting_data/','').replace('.txt',''))"
   ]
  }
 ],
 "metadata": {
  "kernelspec": {
   "display_name": "Python 3",
   "language": "python",
   "name": "python3"
  },
  "language_info": {
   "codemirror_mode": {
    "name": "ipython",
    "version": 3
   },
   "file_extension": ".py",
   "mimetype": "text/x-python",
   "name": "python",
   "nbconvert_exporter": "python",
   "pygments_lexer": "ipython3",
   "version": "3.6.7"
  }
 },
 "nbformat": 4,
 "nbformat_minor": 2
}
