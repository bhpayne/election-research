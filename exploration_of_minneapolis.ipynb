{
 "cells": [
  {
   "cell_type": "code",
   "execution_count": null,
   "metadata": {},
   "outputs": [],
   "source": []
  },
  {
   "cell_type": "code",
   "execution_count": null,
   "metadata": {},
   "outputs": [],
   "source": []
  },
  {
   "cell_type": "code",
   "execution_count": 6,
   "metadata": {},
   "outputs": [
    {
     "name": "stdout",
     "output_type": "stream",
     "text": [
      "pandas 0.23.4\n",
      "xlrd 1.1.0\n"
     ]
    }
   ],
   "source": [
    "import glob\n",
    "import pandas\n",
    "print('pandas',pandas.__version__)\n",
    "import xlrd\n",
    "print('xlrd',xlrd.__VERSION__)"
   ]
  },
  {
   "cell_type": "code",
   "execution_count": 2,
   "metadata": {},
   "outputs": [
    {
     "name": "stdout",
     "output_type": "stream",
     "text": [
      "47\n"
     ]
    }
   ],
   "source": [
    "!find voting_data/Minneapolis/Minneapolis -type f | wc -l"
   ]
  },
  {
   "cell_type": "code",
   "execution_count": 3,
   "metadata": {},
   "outputs": [
    {
     "name": "stdout",
     "output_type": "stream",
     "text": [
      "voting_data/Minneapolis/Minneapolis/2009/Minneapolis 2009 Mayor.csv\n",
      "voting_data/Minneapolis/Minneapolis/2009/Minneapolis 2009 Council Member Ward 10.xls\n",
      "voting_data/Minneapolis/Minneapolis/2009/Minneapolis 2009 Council Member Ward 11.xls\n",
      "voting_data/Minneapolis/Minneapolis/2009/Minneapolis 2009 Council Member Ward 13.xls\n",
      "voting_data/Minneapolis/Minneapolis/2009/Minneapolis 2009 Council Member Ward 8.xls\n",
      "voting_data/Minneapolis/Minneapolis/2009/__Minneapolis 2009 Mayor.xls\n",
      "voting_data/Minneapolis/Minneapolis/2009/Minneapolis 2009 Council Member Ward 9.xls\n",
      "voting_data/Minneapolis/Minneapolis/2009/Minneapolis 2009 Council Member Ward 12.xls\n",
      "voting_data/Minneapolis/Minneapolis/2009/Minneapolis 2009 Council Member Ward 4.xls\n",
      "voting_data/Minneapolis/Minneapolis/2009/Minneapolis Park and Recreation Board District 1.xls\n",
      "voting_data/Minneapolis/Minneapolis/2009/Minneapolis 2009 Council Member Ward 5.xls\n",
      "voting_data/Minneapolis/Minneapolis/2009/Minneapolis 2009 Council Member Ward 7.xls\n",
      "voting_data/Minneapolis/Minneapolis/2009/Minneapolis Park and Recreation Board District 3.xls\n",
      "voting_data/Minneapolis/Minneapolis/2009/Minneapolis Park and Recreation Board District 2.xls\n",
      "voting_data/Minneapolis/Minneapolis/2009/Minneapolis 2009 Council Member Ward 6.xls\n",
      "voting_data/Minneapolis/Minneapolis/2009/Minneapolis 2009 Council Member Ward 2.xls\n",
      "voting_data/Minneapolis/Minneapolis/2009/Minneapolis Park and Recreation Board District 6.xls\n",
      "voting_data/Minneapolis/Minneapolis/2009/Minneapolis 2009 Council Member Ward 3.xls\n",
      "voting_data/Minneapolis/Minneapolis/2009/Minneapolis 2009 Council Member Ward 1.xls\n",
      "voting_data/Minneapolis/Minneapolis/2009/Minneapolis Park and Recreation Board District 5.xls\n",
      "voting_data/Minneapolis/Minneapolis/2009/Minneapolis Park and Recreation Board District 4.xls\n",
      "voting_data/Minneapolis/Minneapolis/2009/__Minneapolis 2009 Mayor.csv\n",
      "voting_data/Minneapolis/Minneapolis/2013_only those contested/Minneapolis 2013-park-district-2-cvr.xlsx\n",
      "voting_data/Minneapolis/Minneapolis/2013_only those contested/Minneapolis 2013 Council - ward-9-cvr.xlsx\n",
      "voting_data/Minneapolis/Minneapolis/2013_only those contested/Minneapolis 2013 Council - ward-5-cvr.xlsx\n",
      "voting_data/Minneapolis/Minneapolis/2013_only those contested/Minneapolis 2013-park-district-6-cvr.xlsx\n",
      "voting_data/Minneapolis/Minneapolis/2013_only those contested/Minneapolis 2013 Council - ward-13-cvr.xlsx\n",
      "voting_data/Minneapolis/Minneapolis/2013_only those contested/Minneapolis 2013-mayor-for JSON conversion.xlsx\n",
      "voting_data/Minneapolis/Minneapolis/2017/2017-park-district-3-cvr.xlsx\n",
      "voting_data/Minneapolis/Minneapolis/2017/2017-park-district-2-cvr.xlsx\n",
      "voting_data/Minneapolis/Minneapolis/2017/2017-ward-13-cvr.xlsx\n",
      "voting_data/Minneapolis/Minneapolis/2017/2017-ward-12-cvr.xlsx\n",
      "voting_data/Minneapolis/Minneapolis/2017/2017-ward-7-cvr.xlsx\n",
      "voting_data/Minneapolis/Minneapolis/2017/2017-ward-6-cvr.xlsx\n",
      "voting_data/Minneapolis/Minneapolis/2017/2017-ward-1-cvr.xlsx\n",
      "voting_data/Minneapolis/Minneapolis/2017/2017-park-district-4-cvr.xlsx\n",
      "voting_data/Minneapolis/Minneapolis/2017/2017-park-district-5-cvr.xlsx\n",
      "voting_data/Minneapolis/Minneapolis/2017/2017-ward-4-cvr.xlsx\n",
      "voting_data/Minneapolis/Minneapolis/2017/2017-ward-5-cvr.xlsx\n",
      "voting_data/Minneapolis/Minneapolis/2017/2017-ward-10-cvr.xlsx\n",
      "voting_data/Minneapolis/Minneapolis/2017/2017-ward-11-cvr.xlsx\n",
      "voting_data/Minneapolis/Minneapolis/2017/2017-park-district-1-cvr.xlsx\n",
      "voting_data/Minneapolis/Minneapolis/2017/2017-park-district-6-cvr.xlsx\n",
      "voting_data/Minneapolis/Minneapolis/2017/2017-ward-3-cvr.xlsx\n",
      "voting_data/Minneapolis/Minneapolis/2017/2017-ward-2-cvr.xlsx\n",
      "voting_data/Minneapolis/Minneapolis/2017/2017-ward-9-cvr.xlsx\n",
      "voting_data/Minneapolis/Minneapolis/2017/2017-ward-8-cvr.xlsx\n"
     ]
    }
   ],
   "source": [
    "!find voting_data/Minneapolis/Minneapolis -type f"
   ]
  },
  {
   "cell_type": "code",
   "execution_count": 4,
   "metadata": {},
   "outputs": [],
   "source": [
    "list_of_cvr = glob.glob('voting_data/Minneapolis/Minneapolis/**/*')"
   ]
  },
  {
   "cell_type": "code",
   "execution_count": 7,
   "metadata": {},
   "outputs": [
    {
     "name": "stdout",
     "output_type": "stream",
     "text": [
      "voting_data/Minneapolis/Minneapolis/2009/Minneapolis 2009 Council Member Ward 10.xls\n",
      "voting_data/Minneapolis/Minneapolis/2009/Minneapolis 2009 Council Member Ward 11.xls\n",
      "voting_data/Minneapolis/Minneapolis/2009/Minneapolis 2009 Council Member Ward 13.xls\n",
      "voting_data/Minneapolis/Minneapolis/2009/Minneapolis 2009 Council Member Ward 8.xls\n",
      "voting_data/Minneapolis/Minneapolis/2009/__Minneapolis 2009 Mayor.xls\n",
      "   opening file failed\n",
      "voting_data/Minneapolis/Minneapolis/2009/Minneapolis 2009 Council Member Ward 9.xls\n",
      "voting_data/Minneapolis/Minneapolis/2009/Minneapolis 2009 Council Member Ward 12.xls\n",
      "voting_data/Minneapolis/Minneapolis/2009/Minneapolis 2009 Council Member Ward 4.xls\n",
      "voting_data/Minneapolis/Minneapolis/2009/Minneapolis Park and Recreation Board District 1.xls\n",
      "voting_data/Minneapolis/Minneapolis/2009/Minneapolis 2009 Council Member Ward 5.xls\n",
      "voting_data/Minneapolis/Minneapolis/2009/Minneapolis 2009 Council Member Ward 7.xls\n",
      "voting_data/Minneapolis/Minneapolis/2009/Minneapolis Park and Recreation Board District 3.xls\n",
      "voting_data/Minneapolis/Minneapolis/2009/Minneapolis Park and Recreation Board District 2.xls\n",
      "voting_data/Minneapolis/Minneapolis/2009/Minneapolis 2009 Council Member Ward 6.xls\n",
      "voting_data/Minneapolis/Minneapolis/2009/Minneapolis 2009 Council Member Ward 2.xls\n",
      "voting_data/Minneapolis/Minneapolis/2009/Minneapolis Park and Recreation Board District 6.xls\n",
      "voting_data/Minneapolis/Minneapolis/2009/Minneapolis 2009 Council Member Ward 3.xls\n",
      "voting_data/Minneapolis/Minneapolis/2009/Minneapolis 2009 Council Member Ward 1.xls\n",
      "voting_data/Minneapolis/Minneapolis/2009/Minneapolis Park and Recreation Board District 5.xls\n",
      "voting_data/Minneapolis/Minneapolis/2009/Minneapolis Park and Recreation Board District 4.xls\n",
      "voting_data/Minneapolis/Minneapolis/2013_only those contested/Minneapolis 2013-park-district-2-cvr.xlsx\n",
      "voting_data/Minneapolis/Minneapolis/2013_only those contested/Minneapolis 2013 Council - ward-9-cvr.xlsx\n",
      "voting_data/Minneapolis/Minneapolis/2013_only those contested/Minneapolis 2013 Council - ward-5-cvr.xlsx\n",
      "voting_data/Minneapolis/Minneapolis/2013_only those contested/Minneapolis 2013-park-district-6-cvr.xlsx\n",
      "voting_data/Minneapolis/Minneapolis/2013_only those contested/Minneapolis 2013 Council - ward-13-cvr.xlsx\n",
      "voting_data/Minneapolis/Minneapolis/2013_only those contested/Minneapolis 2013-mayor-for JSON conversion.xlsx\n",
      "voting_data/Minneapolis/Minneapolis/2017/2017-park-district-3-cvr.xlsx\n",
      "voting_data/Minneapolis/Minneapolis/2017/2017-park-district-2-cvr.xlsx\n",
      "voting_data/Minneapolis/Minneapolis/2017/2017-ward-13-cvr.xlsx\n",
      "voting_data/Minneapolis/Minneapolis/2017/2017-ward-12-cvr.xlsx\n",
      "voting_data/Minneapolis/Minneapolis/2017/2017-ward-7-cvr.xlsx\n",
      "voting_data/Minneapolis/Minneapolis/2017/2017-ward-6-cvr.xlsx\n",
      "voting_data/Minneapolis/Minneapolis/2017/2017-ward-1-cvr.xlsx\n",
      "voting_data/Minneapolis/Minneapolis/2017/2017-park-district-4-cvr.xlsx\n",
      "voting_data/Minneapolis/Minneapolis/2017/2017-park-district-5-cvr.xlsx\n",
      "voting_data/Minneapolis/Minneapolis/2017/2017-ward-4-cvr.xlsx\n",
      "voting_data/Minneapolis/Minneapolis/2017/2017-ward-5-cvr.xlsx\n",
      "voting_data/Minneapolis/Minneapolis/2017/2017-ward-10-cvr.xlsx\n",
      "voting_data/Minneapolis/Minneapolis/2017/2017-ward-11-cvr.xlsx\n",
      "voting_data/Minneapolis/Minneapolis/2017/2017-park-district-1-cvr.xlsx\n",
      "voting_data/Minneapolis/Minneapolis/2017/2017-park-district-6-cvr.xlsx\n",
      "voting_data/Minneapolis/Minneapolis/2017/2017-ward-3-cvr.xlsx\n",
      "voting_data/Minneapolis/Minneapolis/2017/2017-ward-2-cvr.xlsx\n",
      "voting_data/Minneapolis/Minneapolis/2017/2017-ward-9-cvr.xlsx\n",
      "voting_data/Minneapolis/Minneapolis/2017/2017-ward-8-cvr.xlsx\n"
     ]
    }
   ],
   "source": [
    "for file_name in list_of_cvr:\n",
    "    file_extension = file_name.split('/')[-1].split('.')[-1]\n",
    "    #print(file_extension)\n",
    "    if file_extension.lower() =='csv':\n",
    "        pass\n",
    "    else:\n",
    "        print(file_name)\n",
    "        try:\n",
    "            df = pandas.read_excel(file_name)\n",
    "        except:\n",
    "            print('   opening file failed')\n",
    "#    df = pandas.read_table(file_name)"
   ]
  },
  {
   "cell_type": "code",
   "execution_count": 9,
   "metadata": {},
   "outputs": [
    {
     "data": {
      "text/plain": [
       "Index(['Precinct', '1st Choice', '2nd Choice', '3rd Choice', 'count'], dtype='object')"
      ]
     },
     "execution_count": 9,
     "metadata": {},
     "output_type": "execute_result"
    }
   ],
   "source": [
    "df.columns"
   ]
  },
  {
   "cell_type": "code",
   "execution_count": 12,
   "metadata": {},
   "outputs": [
    {
     "data": {
      "text/plain": [
       "Andrea Jenkins     5762\n",
       "Terry White        1007\n",
       "April Kane          710\n",
       "undervote           391\n",
       "David Holsinger     387\n",
       "UWI                  17\n",
       "overvote              1\n",
       "Name: 1st Choice, dtype: int64"
      ]
     },
     "execution_count": 12,
     "metadata": {},
     "output_type": "execute_result"
    }
   ],
   "source": [
    "first_round_votes = df['1st Choice'].value_counts()\n",
    "first_round_votes"
   ]
  },
  {
   "cell_type": "code",
   "execution_count": 14,
   "metadata": {},
   "outputs": [
    {
     "data": {
      "text/plain": [
       "Andrea Jenkins     5762\n",
       "Terry White        1007\n",
       "April Kane          710\n",
       "David Holsinger     387\n",
       "UWI                  17\n",
       "Name: 1st Choice, dtype: int64"
      ]
     },
     "execution_count": 14,
     "metadata": {},
     "output_type": "execute_result"
    }
   ],
   "source": [
    "first_round_votes_per_candidate = first_round_votes[~first_round_votes.index.str.contains('vote', regex=False)]\n",
    "first_round_votes_per_candidate"
   ]
  },
  {
   "cell_type": "code",
   "execution_count": 25,
   "metadata": {},
   "outputs": [
    {
     "data": {
      "text/plain": [
       "5"
      ]
     },
     "execution_count": 25,
     "metadata": {},
     "output_type": "execute_result"
    }
   ],
   "source": [
    "first_round_votes_per_candidate.count()"
   ]
  },
  {
   "cell_type": "code",
   "execution_count": 24,
   "metadata": {},
   "outputs": [
    {
     "data": {
      "text/plain": [
       "5762"
      ]
     },
     "execution_count": 24,
     "metadata": {},
     "output_type": "execute_result"
    }
   ],
   "source": [
    "first_round_votes_per_candidate.max()"
   ]
  },
  {
   "cell_type": "code",
   "execution_count": 16,
   "metadata": {},
   "outputs": [
    {
     "data": {
      "text/plain": [
       "7883"
      ]
     },
     "execution_count": 16,
     "metadata": {},
     "output_type": "execute_result"
    }
   ],
   "source": [
    "first_round_vote_total = first_round_votes_per_candidate.sum()\n",
    "first_round_vote_total"
   ]
  },
  {
   "cell_type": "code",
   "execution_count": 17,
   "metadata": {},
   "outputs": [
    {
     "data": {
      "text/plain": [
       "Andrea Jenkins     73.094000\n",
       "Terry White        12.774324\n",
       "April Kane          9.006723\n",
       "David Holsinger     4.909298\n",
       "UWI                 0.215654\n",
       "Name: 1st Choice, dtype: float64"
      ]
     },
     "execution_count": 17,
     "metadata": {},
     "output_type": "execute_result"
    }
   ],
   "source": [
    "(first_round_votes_per_candidate/first_round_votes_per_candidate.sum())*100"
   ]
  },
  {
   "cell_type": "code",
   "execution_count": 23,
   "metadata": {},
   "outputs": [],
   "source": [
    "first_round_leader_vote_percentage = max((first_round_votes_per_candidate/first_round_votes_per_candidate.sum())*100)\n",
    "first_round_leader_vote_percentage"
   ]
  },
  {
   "cell_type": "code",
   "execution_count": 28,
   "metadata": {},
   "outputs": [
    {
     "data": {
      "text/plain": [
       "'Andrea Jenkins'"
      ]
     },
     "execution_count": 28,
     "metadata": {},
     "output_type": "execute_result"
    }
   ],
   "source": [
    "first_round_leader = ((first_round_votes_per_candidate/first_round_votes_per_candidate.sum())*100).idxmax()\n",
    "first_round_leader"
   ]
  },
  {
   "cell_type": "code",
   "execution_count": 30,
   "metadata": {},
   "outputs": [
    {
     "name": "stdout",
     "output_type": "stream",
     "text": [
      "Andrea Jenkins leads the first round with 73.09399974628948 % of the vote; that's 5762 out of 7883 votes in a field with 5 candidates\n"
     ]
    }
   ],
   "source": [
    "print(first_round_leader,'leads the first round with',\n",
    "      first_round_leader_vote_percentage,'% of the vote; that\\'s',\n",
    "      first_round_votes_per_candidate.max(),'out of',\n",
    "      first_round_votes_per_candidate.sum(),'votes in a field with',\n",
    "      first_round_votes_per_candidate.count(),'candidates')"
   ]
  },
  {
   "cell_type": "code",
   "execution_count": null,
   "metadata": {},
   "outputs": [],
   "source": [
    "def analyze_df(df):\n",
    "    reslt_dict={}\n",
    "    first_round_votes = df['1st Choice'].value_counts()\n",
    "    first_round_votes_per_candidate = first_round_votes[~first_round_votes.index.str.contains('vote', regex=False)]\n",
    "    first_round_leader_vote_percentage = max((first_round_votes_per_candidate/first_round_votes_per_candidate.sum())*100)\n",
    "    first_round_leader = ((first_round_votes_per_candidate/first_round_votes_per_candidate.sum())*100).idxmax()\n",
    "    return reslt_dict"
   ]
  }
 ],
 "metadata": {
  "kernelspec": {
   "display_name": "Python 3",
   "language": "python",
   "name": "python3"
  },
  "language_info": {
   "codemirror_mode": {
    "name": "ipython",
    "version": 3
   },
   "file_extension": ".py",
   "mimetype": "text/x-python",
   "name": "python",
   "nbconvert_exporter": "python",
   "pygments_lexer": "ipython3",
   "version": "3.6.7"
  }
 },
 "nbformat": 4,
 "nbformat_minor": 2
}
