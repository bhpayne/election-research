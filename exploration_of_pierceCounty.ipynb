{
 "cells": [
  {
   "cell_type": "markdown",
   "metadata": {},
   "source": [
    "https://www.rankedchoicevoting.org/data_clearinghouse\n",
    "    \n",
    "https://drive.google.com/drive/folders/1DJzIrTaDW3GSGJTkPTGAlpAMbozFG_pm\n",
    "    \n",
    "Objective for this notebook: separate the elections into the following categories:\n",
    "* Leading candidate in the first round has greater than 50% first choice votes\n",
    "* Leading candidate in the first round has between 45-50% first choice votes\n",
    "* Leading candidate in the first round has less than 45% of first choice votes"
   ]
  },
  {
   "cell_type": "code",
   "execution_count": 1,
   "metadata": {},
   "outputs": [
    {
     "name": "stdout",
     "output_type": "stream",
     "text": [
      "pandas 0.23.4\n"
     ]
    }
   ],
   "source": [
    "import glob\n",
    "import pandas\n",
    "print('pandas',pandas.__version__)"
   ]
  },
  {
   "cell_type": "markdown",
   "metadata": {},
   "source": [
    "# import data"
   ]
  },
  {
   "cell_type": "code",
   "execution_count": 2,
   "metadata": {},
   "outputs": [
    {
     "data": {
      "text/plain": [
       "8"
      ]
     },
     "execution_count": 2,
     "metadata": {},
     "output_type": "execute_result"
    }
   ],
   "source": [
    "list_of_files = glob.glob('voting_data/Pierce_County/Pierce County/*')\n",
    "len(list_of_files)"
   ]
  },
  {
   "cell_type": "code",
   "execution_count": 3,
   "metadata": {},
   "outputs": [
    {
     "data": {
      "text/plain": [
       "['voting_data/Pierce_County/Pierce County/Pierce County Auditor 2009 Ballot Image.txt',\n",
       " 'voting_data/Pierce_County/Pierce County/Pierce County Executive 2008 Master Lookup.txt',\n",
       " 'voting_data/Pierce_County/Pierce County/Pierce County Assessor - Treasurer 2008 Ballot Image.txt',\n",
       " 'voting_data/Pierce_County/Pierce County/Pierce County Council, District No. 2 2008 Master Lookup.txt',\n",
       " 'voting_data/Pierce_County/Pierce County/Pierce County Council, District No. 2 2008 Ballot Image.txt',\n",
       " 'voting_data/Pierce_County/Pierce County/Pierce County Assessor - Treasurer 2008 Master Lookup.txt',\n",
       " 'voting_data/Pierce_County/Pierce County/Pierce County Executive 2008 Ballot Image Data.txt',\n",
       " 'voting_data/Pierce_County/Pierce County/Pierce County Auditor 2009 Master Lookup.txt']"
      ]
     },
     "execution_count": 3,
     "metadata": {},
     "output_type": "execute_result"
    }
   ],
   "source": [
    "list_of_files"
   ]
  },
  {
   "cell_type": "code",
   "execution_count": 4,
   "metadata": {},
   "outputs": [
    {
     "name": "stdout",
     "output_type": "stream",
     "text": [
      "voting_data/Pierce_County/Pierce County/Pierce County Auditor 2009 Ballot Image.txt\n",
      "000071400001543600000010050000002002000044000\n",
      "\n",
      "voting_data/Pierce_County/Pierce County/Pierce County Assessor - Treasurer 2008 Ballot Image.txt\n",
      "000019200006315800000010050000002002000000001\n",
      "\n",
      "voting_data/Pierce_County/Pierce County/Pierce County Council, District No. 2 2008 Ballot Image.txt\n",
      "000019300007697700000010050000063002000013100\n",
      "\n",
      "voting_data/Pierce_County/Pierce County/Pierce County Executive 2008 Ballot Image Data.txt\n",
      "000019700006315800000010050000002002000000001\n",
      "\n"
     ]
    }
   ],
   "source": [
    "list_of_ballot_files=[]\n",
    "for filename in list_of_files:\n",
    "    if filename.endswith('.txt'):\n",
    "        with open(filename,'r') as fil:\n",
    "            file_contents = fil.readlines()\n",
    "        if len(file_contents[0].strip())==45:\n",
    "            print(filename)\n",
    "            list_of_ballot_files.append(filename)\n",
    "            print(file_contents[1])"
   ]
  },
  {
   "cell_type": "code",
   "execution_count": 5,
   "metadata": {},
   "outputs": [],
   "source": [
    "reslts={'leading candidate in first round has more than 50% of first choice votes':[],\n",
    "        'leading candidate in first round vote has between 50% and 45% of first choice votes':[],\n",
    "        'leading candidate in first round vote has less than 45% of first choice votes':[]}\n",
    "\n",
    "for ballot in list_of_ballot_files:\n",
    "    #print(ballot)\n",
    "    df = pandas.read_fwf(ballot,\n",
    "                     header=None,\n",
    "                     widths=[7,9,7,3,7,3,7,1,1])\n",
    "    df.columns=['contest_id','pref_voter_id',\n",
    "            'serial_number','tally_type_id',\n",
    "            'precinct_id','vote_rank',\n",
    "            'candidate_id','over_vote','under_vote']\n",
    "    #print(df.shape)\n",
    "    #print(df['candidate_id'].unique())\n",
    "    df_cand = df[df['candidate_id']!=0] # drop rows where no candidate is specified\n",
    "    series_of_candidates_and_first_choice_count = df_cand[df_cand['vote_rank']==1].groupby('candidate_id')['vote_rank'].count()\n",
    "    number_of_first_choice_votes =  series_of_candidates_and_first_choice_count.sum()\n",
    "    #print('number of first choice votes:',number_of_first_choice_votes)\n",
    "    if (series_of_candidates_and_first_choice_count > number_of_first_choice_votes*0.5).any():\n",
    "        #print('Leading candidate in the first round has greater than 50% first choice votes')\n",
    "        reslts['leading candidate in first round has more than 50% of first choice votes'].append(ballot)\n",
    "    elif ((series_of_candidates_and_first_choice_count <= number_of_first_choice_votes*0.5).any() and \n",
    "          (series_of_candidates_and_first_choice_count >= number_of_first_choice_votes*0.45).any()):\n",
    "        #print('Leading candidate in the first round has between 45-50% first choice votes')\n",
    "        reslts['leading candidate in first round vote has between 50% and 45% of first choice votes'].append(ballot)\n",
    "    elif (series_of_candidates_and_first_choice_count < number_of_first_choice_votes*0.45).any():\n",
    "        #print('Leading candidate in the first round has less than 45% of first choice votes')\n",
    "        reslts['leading candidate in first round vote has less than 45% of first choice votes'].append(ballot)\n",
    "    else:\n",
    "        raise Exception('should not reach this condition')"
   ]
  },
  {
   "cell_type": "code",
   "execution_count": 7,
   "metadata": {},
   "outputs": [
    {
     "name": "stdout",
     "output_type": "stream",
     "text": [
      "leading candidate in first round has more than 50% of first choice votes :\n",
      "leading candidate in first round vote has between 50% and 45% of first choice votes :\n",
      "    Pierce_County/Pierce County/Pierce County Auditor 2009 Ballot Image\n",
      "    Pierce_County/Pierce County/Pierce County Council, District No. 2 2008 Ballot Image\n",
      "leading candidate in first round vote has less than 45% of first choice votes :\n",
      "    Pierce_County/Pierce County/Pierce County Assessor - Treasurer 2008 Ballot Image\n",
      "    Pierce_County/Pierce County/Pierce County Executive 2008 Ballot Image Data\n"
     ]
    }
   ],
   "source": [
    "for k,v in reslts.items():\n",
    "    print(k,':')\n",
    "    for election in v:\n",
    "        print('   ',election.replace('voting_data/','').replace('.txt',''))"
   ]
  },
  {
   "cell_type": "code",
   "execution_count": null,
   "metadata": {},
   "outputs": [],
   "source": []
  }
 ],
 "metadata": {
  "kernelspec": {
   "display_name": "Python 3",
   "language": "python",
   "name": "python3"
  },
  "language_info": {
   "codemirror_mode": {
    "name": "ipython",
    "version": 3
   },
   "file_extension": ".py",
   "mimetype": "text/x-python",
   "name": "python",
   "nbconvert_exporter": "python",
   "pygments_lexer": "ipython3",
   "version": "3.6.7"
  }
 },
 "nbformat": 4,
 "nbformat_minor": 2
}
