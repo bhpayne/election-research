{
 "cells": [
  {
   "cell_type": "markdown",
   "metadata": {},
   "source": [
    "https://www.rankedchoicevoting.org/data_clearinghouse\n",
    "    \n",
    "https://drive.google.com/drive/folders/1DJzIrTaDW3GSGJTkPTGAlpAMbozFG_pm\n",
    "    \n",
    "Objective for this notebook: separate the elections into the following categories:\n",
    "* Leading candidate in the first round has greater than 50% first choice votes\n",
    "* Leading candidate in the first round has between 45-50% first choice votes\n",
    "* Leading candidate in the first round has less than 45% of first choice votes"
   ]
  },
  {
   "cell_type": "code",
   "execution_count": 1,
   "metadata": {},
   "outputs": [
    {
     "name": "stdout",
     "output_type": "stream",
     "text": [
      "pandas 0.23.4\n"
     ]
    }
   ],
   "source": [
    "import glob\n",
    "import pandas\n",
    "print('pandas',pandas.__version__)"
   ]
  },
  {
   "cell_type": "markdown",
   "metadata": {},
   "source": [
    "# import data"
   ]
  },
  {
   "cell_type": "code",
   "execution_count": 2,
   "metadata": {},
   "outputs": [
    {
     "data": {
      "text/plain": [
       "46"
      ]
     },
     "execution_count": 2,
     "metadata": {},
     "output_type": "execute_result"
    }
   ],
   "source": [
    "list_of_files = glob.glob('voting_data/San_Fransisco/San Francisco/**/*')\n",
    "len(list_of_files)"
   ]
  },
  {
   "cell_type": "code",
   "execution_count": 3,
   "metadata": {},
   "outputs": [
    {
     "data": {
      "text/plain": [
       "'voting_data/San_Fransisco/San Francisco/San Fran_Nov 2010_District 10 Supervisors/BallotImage-D10.txt'"
      ]
     },
     "execution_count": 3,
     "metadata": {},
     "output_type": "execute_result"
    }
   ],
   "source": [
    "list_of_files[0]"
   ]
  },
  {
   "cell_type": "markdown",
   "metadata": {},
   "source": [
    "not all the files are relevant. Need to develop a filter to identify relevant files"
   ]
  },
  {
   "cell_type": "code",
   "execution_count": 4,
   "metadata": {},
   "outputs": [
    {
     "name": "stdout",
     "output_type": "stream",
     "text": [
      "{'txt', 'pdf'}\n"
     ]
    }
   ],
   "source": [
    "list_of_file_extentions=[]\n",
    "for filename in list_of_files:\n",
    "    #print(filename.split('.')[-1])\n",
    "    list_of_file_extentions.append(filename.split('.')[-1])\n",
    "print(set(list_of_file_extentions))"
   ]
  },
  {
   "cell_type": "code",
   "execution_count": 5,
   "metadata": {},
   "outputs": [
    {
     "name": "stdout",
     "output_type": "stream",
     "text": [
      "BallotImage-D10.txt\n",
      "['000000600001706700000040020000274001000014900\\n', '000000600001706700000040020000274002000015700\\n']\n",
      "45\n",
      "BallotImage-D2.txt\n",
      "['000000700001712400000090020000331001000012600\\n', '000000700001712400000090020000331002000000001\\n']\n",
      "45\n",
      "BallotImageListing.txt\n",
      "['\\x1bE\\x1b&l2a0o7c067F\\x1b(s0p16.66h3b6T\\x1b&a00L\\n', 'BALLOT IMAGE LISTING                               SAN FRANCISCO                                      OFFICIAL RESULTS\\n']\n",
      "36\n",
      "BallotImageSummary.txt\n",
      "['\\x1bE\\x1b&l2a0o7c067F\\x1b(s0p16.66h3b6T\\x1b&a00L\\n', 'BALLOT IMAGE ELECTION SUMMARY\\n']\n",
      "36\n",
      "20151119_ballotimage.txt\n",
      "['000000100002610500000010020000012001000003600\\n', '000000100002610500000010020000012002000003700\\n']\n",
      "45\n",
      "D10_BallotImage.txt\n",
      "['000003300000385300000010020000054001000012900\\n', '000003300000385300000010020000054002000012800\\n']\n",
      "45\n",
      "Sheriff-BallotImage.txt\n",
      "['000000200004728200000010020000003001000002800\\n', '000000200004728200000010020000003002000002800\\n']\n",
      "45\n",
      "DA-BallotImage.txt\n",
      "['000000100004728200000010020000003001000002300\\n', '000000100004728200000010020000003002000002300\\n']\n",
      "45\n",
      "Nov2004_BallotImage.txt\n",
      "['pct,1,2,3\\n', '0001,,,\\n']\n",
      "9\n",
      "BallotImage-D8.txt\n",
      "['000001000001706800000040020000513001000014400\\n', '000001000001706800000040020000513002000014200\\n']\n",
      "45\n",
      "Mayor-BallotImage.txt\n",
      "['000000300004728200000010020000003001000003700\\n', '000000300004728200000010020000003002000003700\\n']\n",
      "45\n",
      "D7-BallotImage.txt\n",
      "['000002300000759400000010020000244001000011500\\n', '000002300000759400000010020000244002000011800\\n']\n",
      "45\n",
      "BallotImage-D6.txt\n",
      "['000000900001707600000130020000457001000013600\\n', '000000900001707600000130020000457002000012800\\n']\n",
      "45\n",
      "20161206_ballotimage.txt\n",
      "['000000900000660300000010020000406001000012800\\n', '000000900000660300000010020000406002000000001\\n']\n",
      "45\n",
      "20180621_ballotimage.txt\n",
      "['000002000001288600000010020000009001000018100\\n', '000002000001288600000010020000009002000018500\\n']\n",
      "45\n",
      "D5-BallotImage.txt\n",
      "['000002200000739700000010020000161001000011400\\n', '000002200000739700000010020000161002000010800\\n']\n",
      "45\n",
      "CityWide_Ballot_Image.txt\n",
      "['000000300000835700000030020000066001000007600\\n', '000000300000835700000030020000066002000007700\\n']\n",
      "45\n",
      "BallotImage_San Fran_Mayor_Nov 2007.txt\n",
      "['0001\\n', '0002\\n']\n",
      "4\n",
      "BallotDescription_San Fran_2007.txt\n",
      "['  15     BALLOTS CAST - TOTAL                                                     \\n', '  20     BALLOTS CAST - TOTAL CARD 1                                              \\n']\n",
      "27\n"
     ]
    }
   ],
   "source": [
    "for filename in list_of_files:\n",
    "    if filename.endswith('.txt'):\n",
    "#        print(filename)\n",
    "        if 'ballot' in filename.lower():\n",
    "            print(filename.split('/')[-1])\n",
    "            with open(filename,'r') as fil:\n",
    "                file_contents = fil.readlines()\n",
    "            print(file_contents[0:2])\n",
    "            print(len(file_contents[0].strip()))"
   ]
  },
  {
   "cell_type": "code",
   "execution_count": 6,
   "metadata": {},
   "outputs": [
    {
     "name": "stdout",
     "output_type": "stream",
     "text": [
      "voting_data/San_Fransisco/San Francisco/San Fran_Nov 2010_District 10 Supervisors/BallotImage-D10.txt\n",
      "000000600001706700000040020000274002000015700\n",
      "\n",
      "voting_data/San_Fransisco/San Francisco/San Fran_Nov 2010_District 2 Supervisors/BallotImage-D2.txt\n",
      "000000700001712400000090020000331002000000001\n",
      "\n",
      "voting_data/San_Fransisco/San Francisco/2015 All offices/20151119_ballotimage.txt\n",
      "000000100002610500000010020000012002000003700\n",
      "\n",
      "voting_data/San_Fransisco/San Francisco/San Fran_Nov 2014_District 10 Supervisors/D10_BallotImage.txt\n",
      "000003300000385300000010020000054002000012800\n",
      "\n",
      "voting_data/San_Fransisco/San Francisco/San Fran Nov 2011 Sheriff/Sheriff-BallotImage.txt\n",
      "000000200004728200000010020000003002000002800\n",
      "\n",
      "voting_data/San_Fransisco/San Francisco/San Fran Nov 2011 District Attorney/DA-BallotImage.txt\n",
      "000000100004728200000010020000003002000002300\n",
      "\n",
      "voting_data/San_Fransisco/San Francisco/San Fran_Nov 2010_District 8 Supervisors/BallotImage-D8.txt\n",
      "000001000001706800000040020000513002000014200\n",
      "\n",
      "voting_data/San_Fransisco/San Francisco/San Fran Nov 2011 Mayor/Mayor-BallotImage.txt\n",
      "000000300004728200000010020000003002000003700\n",
      "\n",
      "voting_data/San_Fransisco/San Francisco/San Fran_Nov 2012_District 7 Supervisors/D7-BallotImage.txt\n",
      "000002300000759400000010020000244002000011800\n",
      "\n",
      "voting_data/San_Fransisco/San Francisco/San Fran_Nov 2010_District 6 Supervisors/BallotImage-D6.txt\n",
      "000000900001707600000130020000457002000012800\n",
      "\n",
      "voting_data/San_Fransisco/San Francisco/San Fran_Nov 2016/20161206_ballotimage.txt\n",
      "000000900000660300000010020000406002000000001\n",
      "\n",
      "voting_data/San_Fransisco/San Francisco/San Fran June 2018/20180621_ballotimage.txt\n",
      "000002000001288600000010020000009002000018500\n",
      "\n",
      "voting_data/San_Fransisco/San Francisco/San Fran_Nov 2012_District 5 Supervisors/D5-BallotImage.txt\n",
      "000002200000739700000010020000161002000010800\n",
      "\n",
      "voting_data/San_Fransisco/San Francisco/San Fran_Nov 2008_All District races/CityWide_Ballot_Image.txt\n",
      "000000300000835700000030020000066002000007700\n",
      "\n"
     ]
    }
   ],
   "source": [
    "list_of_ballot_files=[]\n",
    "for filename in list_of_files:\n",
    "    if filename.endswith('.txt'):\n",
    "        with open(filename,'r') as fil:\n",
    "            file_contents = fil.readlines()\n",
    "        if len(file_contents[0].strip())==45:\n",
    "            print(filename)\n",
    "            list_of_ballot_files.append(filename)\n",
    "            print(file_contents[1])"
   ]
  },
  {
   "cell_type": "code",
   "execution_count": null,
   "metadata": {},
   "outputs": [],
   "source": []
  },
  {
   "cell_type": "code",
   "execution_count": 8,
   "metadata": {},
   "outputs": [
    {
     "name": "stdout",
     "output_type": "stream",
     "text": [
      "voting_data/San_Fransisco/San Francisco/San Fran_Nov 2010_District 10 Supervisors/BallotImage-D10.txt\n",
      "(61650, 9)\n",
      "[149 157 163 147 165 160 153 159   0 158 148 156 162 152 161 155 151 166\n",
      " 154 150 164 146  26]\n",
      "number of first choice votes: 17705\n",
      "voting_data/San_Fransisco/San Francisco/San Fran_Nov 2010_District 2 Supervisors/BallotImage-D2.txt\n",
      "(86733, 9)\n",
      "[126   0 120 121 124 122 123  25]\n",
      "number of first choice votes: 24030\n",
      "voting_data/San_Fransisco/San Francisco/2015 All offices/20151119_ballotimage.txt\n",
      "(1271076, 9)\n",
      "[36 37 39  0 38 40 41 63 65 62 66 61 64 42 43 44 47 45 46]\n",
      "number of first choice votes: 390615\n",
      "voting_data/San_Fransisco/San Francisco/San Fran_Nov 2014_District 10 Supervisors/D10_BallotImage.txt\n",
      "(49026, 9)\n",
      "[129 128 127 125 126   0]\n",
      "number of first choice votes: 15312\n",
      "voting_data/San_Fransisco/San Francisco/San Fran Nov 2011 Sheriff/Sheriff-BallotImage.txt\n",
      "(591726, 9)\n",
      "[28 27  0 26 25]\n",
      "number of first choice votes: 182519\n",
      "voting_data/San_Fransisco/San Francisco/San Fran Nov 2011 District Attorney/DA-BallotImage.txt\n",
      "(591726, 9)\n",
      "[23  0 24 22 21 20]\n",
      "number of first choice votes: 182955\n",
      "voting_data/San_Fransisco/San Francisco/San Fran_Nov 2010_District 8 Supervisors/BallotImage-D8.txt\n",
      "(115653, 9)\n",
      "[144 142 143   0 145  22]\n",
      "number of first choice votes: 34892\n",
      "voting_data/San_Fransisco/San Francisco/San Fran Nov 2011 Mayor/Mayor-BallotImage.txt\n",
      "(591726, 9)\n",
      "[37 33  0 41 29 30 35 42 43 38 39 34 36 32 44 40 31 51 49 52 46 48 47 50]\n",
      "number of first choice votes: 194046\n",
      "voting_data/San_Fransisco/San Francisco/San Fran_Nov 2012_District 7 Supervisors/D7-BallotImage.txt\n",
      "(106053, 9)\n",
      "[115 118 121 117 122   0 120 116 123 119]\n",
      "number of first choice votes: 31276\n",
      "voting_data/San_Fransisco/San Francisco/San Fran_Nov 2010_District 6 Supervisors/BallotImage-D6.txt\n",
      "(75171, 9)\n",
      "[136 128 139 131 140 135 137 129   0 134 132 133 138 141 130  23]\n",
      "number of first choice votes: 20985\n",
      "voting_data/San_Fransisco/San Francisco/San Fran_Nov 2016/20161206_ballotimage.txt\n",
      "(643806, 9)\n",
      "[128   0 123 125 121 124 126 129 130 127 122 132 131 133 134 136 135 139\n",
      " 137 138 143 141 140 142 148 144 145 147 146]\n",
      "number of first choice votes: 191316\n",
      "voting_data/San_Fransisco/San Francisco/San Fran June 2018/20180621_ballotimage.txt\n",
      "(870249, 9)\n",
      "[181 185 180 183 182 179 178 184   0 200 188 186 187]\n",
      "number of first choice votes: 283553\n",
      "voting_data/San_Fransisco/San Francisco/San Fran_Nov 2012_District 5 Supervisors/D5-BallotImage.txt\n",
      "(120759, 9)\n",
      "[114 108 110 112   0 109 107 113 111]\n",
      "number of first choice votes: 35022\n",
      "voting_data/San_Fransisco/San Francisco/San Fran_Nov 2008_All District races/CityWide_Ballot_Image.txt\n",
      "(681135, 9)\n",
      "[ 76  77   0  80  79  78  83  84  82  81  22 110 116 117 114 112 115 111\n",
      " 113  21 267  87  91  90  85  93  89  86  88  92  20  96  94  95  19  97\n",
      "  99  98  18 102 101 100  17 105 108 103 107 109 106 104  16]\n",
      "number of first choice votes: 202492\n"
     ]
    }
   ],
   "source": [
    "reslts={'leading candidate in first round has more than 50% of first choice votes':[],\n",
    "        'leading candidate in first round vote has between 50% and 45% of first choice votes':[],\n",
    "        'leading candidate in first round vote has less than 45% of first choice votes':[]}\n",
    "\n",
    "for ballot in list_of_ballot_files:\n",
    "    #print(ballot)\n",
    "    df = pandas.read_fwf(ballot,\n",
    "                     header=None,\n",
    "                     widths=[7,9,7,3,7,3,7,1,1])\n",
    "    df.columns=['contest_id','pref_voter_id',\n",
    "            'serial_number','tally_type_id',\n",
    "            'precinct_id','vote_rank',\n",
    "            'candidate_id','over_vote','under_vote']\n",
    "    #print(df.shape)\n",
    "    #print(df['candidate_id'].unique())\n",
    "    df_cand = df[df['candidate_id']!=0] # drop rows where no candidate is specified\n",
    "    series_of_candidates_and_first_choice_count = df_cand[df_cand['vote_rank']==1].groupby('candidate_id')['vote_rank'].count()\n",
    "    number_of_first_choice_votes =  series_of_candidates_and_first_choice_count.sum()\n",
    "    #print('number of first choice votes:',number_of_first_choice_votes)\n",
    "    if (series_of_candidates_and_first_choice_count > number_of_first_choice_votes*0.5).any():\n",
    "        #print('Leading candidate in the first round has greater than 50% first choice votes')\n",
    "        reslts['leading candidate in first round has more than 50% of first choice votes'].append(ballot)\n",
    "    elif ((series_of_candidates_and_first_choice_count <= number_of_first_choice_votes*0.5).any() and \n",
    "          (series_of_candidates_and_first_choice_count >= number_of_first_choice_votes*0.45).any()):\n",
    "        #print('Leading candidate in the first round has between 45-50% first choice votes')\n",
    "        reslts['leading candidate in first round vote has between 50% and 45% of first choice votes'].append(ballot)\n",
    "    elif (series_of_candidates_and_first_choice_count < number_of_first_choice_votes*0.45).any():\n",
    "        #print('Leading candidate in the first round has less than 45% of first choice votes')\n",
    "        reslts['leading candidate in first round vote has less than 45% of first choice votes'].append(ballot)\n",
    "    else:\n",
    "        raise Exception('should not reach this condition')"
   ]
  },
  {
   "cell_type": "code",
   "execution_count": 10,
   "metadata": {},
   "outputs": [
    {
     "name": "stdout",
     "output_type": "stream",
     "text": [
      "leading candidate in first round has more than 50% of first choice votes :\n",
      "leading candidate in first round vote has between 50% and 45% of first choice votes :\n",
      "    San_Fransisco/San Francisco/San Fran_Nov 2014_District 10 Supervisors/D10_BallotImage\n",
      "leading candidate in first round vote has less than 45% of first choice votes :\n",
      "    San_Fransisco/San Francisco/San Fran_Nov 2010_District 10 Supervisors/BallotImage-D10\n",
      "    San_Fransisco/San Francisco/San Fran_Nov 2010_District 2 Supervisors/BallotImage-D2\n",
      "    San_Fransisco/San Francisco/2015 All offices/20151119_ballotimage\n",
      "    San_Fransisco/San Francisco/San Fran Nov 2011 Sheriff/Sheriff-BallotImage\n",
      "    San_Fransisco/San Francisco/San Fran Nov 2011 District Attorney/DA-BallotImage\n",
      "    San_Fransisco/San Francisco/San Fran_Nov 2010_District 8 Supervisors/BallotImage-D8\n",
      "    San_Fransisco/San Francisco/San Fran Nov 2011 Mayor/Mayor-BallotImage\n",
      "    San_Fransisco/San Francisco/San Fran_Nov 2012_District 7 Supervisors/D7-BallotImage\n",
      "    San_Fransisco/San Francisco/San Fran_Nov 2010_District 6 Supervisors/BallotImage-D6\n",
      "    San_Fransisco/San Francisco/San Fran_Nov 2016/20161206_ballotimage\n",
      "    San_Fransisco/San Francisco/San Fran June 2018/20180621_ballotimage\n",
      "    San_Fransisco/San Francisco/San Fran_Nov 2012_District 5 Supervisors/D5-BallotImage\n",
      "    San_Fransisco/San Francisco/San Fran_Nov 2008_All District races/CityWide_Ballot_Image\n"
     ]
    }
   ],
   "source": [
    "for k,v in reslts.items():\n",
    "    print(k,':')\n",
    "    for election in v:\n",
    "        print('   ',election.replace('voting_data/','').replace('.txt',''))"
   ]
  },
  {
   "cell_type": "code",
   "execution_count": null,
   "metadata": {},
   "outputs": [],
   "source": []
  }
 ],
 "metadata": {
  "kernelspec": {
   "display_name": "Python 3",
   "language": "python",
   "name": "python3"
  },
  "language_info": {
   "codemirror_mode": {
    "name": "ipython",
    "version": 3
   },
   "file_extension": ".py",
   "mimetype": "text/x-python",
   "name": "python",
   "nbconvert_exporter": "python",
   "pygments_lexer": "ipython3",
   "version": "3.6.7"
  }
 },
 "nbformat": 4,
 "nbformat_minor": 2
}
